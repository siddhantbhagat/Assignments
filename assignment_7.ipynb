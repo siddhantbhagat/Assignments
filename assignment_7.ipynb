{
 "cells": [
  {
   "cell_type": "markdown",
   "id": "21f198ec",
   "metadata": {},
   "source": [
    "### 1. What is the name of the feature responsible for generating Regex objects?"
   ]
  },
  {
   "cell_type": "markdown",
   "id": "fcbad02c",
   "metadata": {},
   "source": [
    "re.complile() creates regex objects"
   ]
  },
  {
   "cell_type": "markdown",
   "id": "45d11b2a",
   "metadata": {},
   "source": [
    "### 2. Why do raw strings often appear in Regex objects?"
   ]
  },
  {
   "cell_type": "markdown",
   "id": "4a50ee68",
   "metadata": {},
   "source": [
    "we use raw strings in regex so that  backslashes \"\\\" are not considered as a escape character"
   ]
  },
  {
   "cell_type": "markdown",
   "id": "429b15df",
   "metadata": {},
   "source": [
    "### 3. What is the return value of the search() method?"
   ]
  },
  {
   "cell_type": "markdown",
   "id": "91a9f40e",
   "metadata": {},
   "source": [
    "search will return match object if there is a match else it will return None"
   ]
  },
  {
   "cell_type": "markdown",
   "id": "65bce2a0",
   "metadata": {},
   "source": [
    "### 4. From a Match item, how do you get the actual strings that match the pattern?"
   ]
  },
  {
   "cell_type": "markdown",
   "id": "32624381",
   "metadata": {},
   "source": [
    "group() function can be used to get actual strings from match item"
   ]
  },
  {
   "cell_type": "markdown",
   "id": "b6316394",
   "metadata": {},
   "source": [
    "### 5. In the regex which created from the r&#39;(\\d\\d\\d)-(\\d\\d\\d-\\d\\d\\d\\d)&#39;, what does group zero cover? Group 2? Group 1?"
   ]
  },
  {
   "cell_type": "markdown",
   "id": "88a329a2",
   "metadata": {},
   "source": [
    "<ol>\n",
    "    group(0) will return the matched string\n",
    "    \n",
    "   group(1) will return first group matching \\d\\d\\d\n",
    "   \n",
    "   and group(2) will retunrn second group matching (\\d\\d\\d-\\d\\d\\d\\d)\n",
    "<ol>"
   ]
  },
  {
   "cell_type": "markdown",
   "id": "b7bab454",
   "metadata": {},
   "source": [
    "### 6. In standard expression syntax, parentheses and intervals have distinct meanings. How can you tell a regex that you want it to fit real parentheses and periods?"
   ]
  },
  {
   "cell_type": "markdown",
   "id": "5d62e3b3",
   "metadata": {},
   "source": [
    "to fit real parenthesis we have to escape '(' and ')' by using \\( and \\) and periods can be fit by /."
   ]
  },
  {
   "cell_type": "markdown",
   "id": "55cb0d96",
   "metadata": {},
   "source": [
    "### 7. The findall() method returns a string list or a list of string tuples. What causes it to return one of the two options?"
   ]
  },
  {
   "cell_type": "markdown",
   "id": "602f6d4f",
   "metadata": {},
   "source": [
    "findall retuns string list but it gives list of string tuples if you use paranthesis in pattern"
   ]
  },
  {
   "cell_type": "markdown",
   "id": "79dd09fe",
   "metadata": {},
   "source": [
    "### 8. In standard expressions, what does the | character mean?"
   ]
  },
  {
   "cell_type": "markdown",
   "id": "fa105f47",
   "metadata": {},
   "source": [
    "\"|\" in standard expression can be used as or'"
   ]
  },
  {
   "cell_type": "markdown",
   "id": "22479124",
   "metadata": {},
   "source": [
    "### 9. In regular expressions, what does the character stand for?"
   ]
  },
  {
   "cell_type": "markdown",
   "id": "d3c7a208",
   "metadata": {},
   "source": [
    "did not understand the question"
   ]
  },
  {
   "cell_type": "markdown",
   "id": "687ea44a",
   "metadata": {},
   "source": [
    "### 10.In regular expressions, what is the difference between the + and * characters?"
   ]
  },
  {
   "cell_type": "markdown",
   "id": "dab38ead",
   "metadata": {},
   "source": [
    "'+' means one or more and * means zero or more"
   ]
  },
  {
   "cell_type": "markdown",
   "id": "4845961c",
   "metadata": {},
   "source": [
    "### 11. What is the difference between {4} and {4,5} in regular expression?"
   ]
  },
  {
   "cell_type": "markdown",
   "id": "7f69ae7e",
   "metadata": {},
   "source": [
    "{4} means to look exactly for 4 occurances and {4,5} signifies a range."
   ]
  },
  {
   "cell_type": "markdown",
   "id": "e6b34d4c",
   "metadata": {},
   "source": [
    "### 12. What do you mean by the \\d, \\w, and \\s shorthand character classes signify in regular expressions?"
   ]
  },
  {
   "cell_type": "markdown",
   "id": "f932fea2",
   "metadata": {},
   "source": [
    "\\d siginies digits\n",
    "\\w siginies words\n",
    "\\s siginies spaces"
   ]
  },
  {
   "cell_type": "markdown",
   "id": "e16496a8",
   "metadata": {},
   "source": [
    "### 13. What do means by \\D, \\W, and \\S shorthand character classes signify in regular expressions?"
   ]
  },
  {
   "cell_type": "markdown",
   "id": "3793abcc",
   "metadata": {},
   "source": [
    "\\D represents  not a digit\n",
    "\\W represents not a word\n",
    "\\S represents not whitespaces"
   ]
  },
  {
   "cell_type": "markdown",
   "id": "517994fc",
   "metadata": {},
   "source": [
    "### 14. What is the difference between .*? and .*?"
   ]
  },
  {
   "cell_type": "markdown",
   "id": "c60a52eb",
   "metadata": {},
   "source": [
    ".? means zero or one occurance of any character\n",
    "\n",
    "and . means any character"
   ]
  },
  {
   "cell_type": "markdown",
   "id": "6207be8d",
   "metadata": {},
   "source": [
    "### 15. What is the syntax for matching both numbers and lowercase letters with a character class?"
   ]
  },
  {
   "cell_type": "markdown",
   "id": "e428ef56",
   "metadata": {},
   "source": [
    "[a-z0-9] can be used for matching both numbers and lowercase letters"
   ]
  },
  {
   "cell_type": "markdown",
   "id": "a1e41fef",
   "metadata": {},
   "source": [
    "###  16. What is the procedure for making a normal expression in regax case insensitive?"
   ]
  },
  {
   "cell_type": "markdown",
   "id": "cd392841",
   "metadata": {},
   "source": [
    "modifier 'i' can be used to make expression case insensitive"
   ]
  },
  {
   "cell_type": "markdown",
   "id": "add3a46f",
   "metadata": {},
   "source": [
    "### 17. What does the . character normally match? What does it match if re.DOTALL is passed as 2nd argument in re.compile()?"
   ]
  },
  {
   "cell_type": "markdown",
   "id": "b3b50836",
   "metadata": {},
   "source": [
    "The . character normally matches any character except the newline character. If re.DOTALL is passed as the second argument to re.compile(), then the dot will also match newline characters."
   ]
  },
  {
   "cell_type": "markdown",
   "id": "a5cbf278",
   "metadata": {},
   "source": [
    "### 18. If numReg = re.compile(r&#39;\\d+&#39;), what will numRegex.sub(&#39;X&#39;, &#39;11 drummers, 10 pipers, five rings, 4 hen&#39;) return?"
   ]
  },
  {
   "cell_type": "markdown",
   "id": "42869383",
   "metadata": {},
   "source": [
    "it will replace all the instances of digit with X 'X drummers, X pipers, five rings, X hen'"
   ]
  },
  {
   "cell_type": "markdown",
   "id": "bdcae865",
   "metadata": {},
   "source": [
    "### 19. What does passing re.VERBOSE as the 2nd argument to re.compile() allow to do?"
   ]
  },
  {
   "cell_type": "markdown",
   "id": "3843e12e",
   "metadata": {},
   "source": [
    "this increases readability by allowing whitespaces and comments in the expression"
   ]
  },
  {
   "cell_type": "markdown",
   "id": "c2910841",
   "metadata": {},
   "source": [
    "### 20. How would you write a regex that match a number with comma for every three digits? It must\n",
    "### match the given following:\n",
    "\n",
    "&#39;42&#39;\n",
    "\n",
    "&#39;1,234&#39;\n",
    "\n",
    "&#39;6,368,745&#39;\n",
    "\n",
    "but not the following:\n",
    "\n",
    "&#39;12,34,567&#39; (which has only two digits between the commas)\n",
    "\n",
    "&#39;1234&#39; (which lacks commas)"
   ]
  },
  {
   "cell_type": "markdown",
   "id": "d7f1b34d",
   "metadata": {},
   "source": [
    "### r\"(^\\d{1,3}(,\\d{3})*$)\""
   ]
  },
  {
   "cell_type": "markdown",
   "id": "a47f8404",
   "metadata": {},
   "source": [
    "### 21. How would you write a regex that matches the full name of someone whose last name is\n",
    "### Watanabe? You can assume that the first name that comes before it will always be one word that\n",
    "### begins with a capital letter. The regex must match the following:\n",
    "&#39;Haruto Watanabe&#39;\n",
    "\n",
    "&#39;Alice Watanabe&#39;\n",
    "\n",
    "&#39;RoboCop Watanabe&#39;\n",
    "\n",
    "but not the following:\n",
    "\n",
    "&#39;haruto Watanabe&#39; (where the first name is not capitalized)\n",
    "\n",
    "&#39;Mr. Watanabe&#39; (where the preceding word has a nonletter character)\n",
    "\n",
    "&#39;Watanabe&#39; (which has no first name)\n",
    "\n",
    "&#39;Haruto watanabe&#39; (where Watanabe is not capitalized)"
   ]
  },
  {
   "cell_type": "markdown",
   "id": "de173d29",
   "metadata": {},
   "source": [
    "## [A-Z]\\w+\\sWatanabe"
   ]
  },
  {
   "cell_type": "markdown",
   "id": "27f0f35a",
   "metadata": {},
   "source": [
    "### 22. How would you write a regex that matches a sentence where the first word is either Alice, Bob,\n",
    "### or Carol; the second word is either eats, pets, or throws; the third word is apples, cats, or baseballs;\n",
    "### and the sentence ends with a period? This regex should be case-insensitive. It must match the\n",
    "following:\n",
    "&#39;Alice eats apples.&#39;\n",
    "\n",
    "&#39;Bob pets cats.&#39;\n",
    "\n",
    "&#39;Carol throws baseballs.&#39;\n",
    "\n",
    "&#39;Alice throws Apples.&#39;\n",
    "\n",
    "&#39;BOB EATS CATS.&#39;\n",
    "\n",
    "but not the following:\n",
    "\n",
    "&#39;RoboCop eats apples.&#39;\n",
    "\n",
    "&#39;ALICE THROWS FOOTBALLS.&#39;\n",
    "\n",
    "&#39;Carol eats 7 cats.&#39;"
   ]
  },
  {
   "cell_type": "markdown",
   "id": "2ca3637b",
   "metadata": {},
   "source": [
    "## r'(Alice|Bob|Carol)\\s(eats|pets|throws)\\s(apples|cats|baseballs)\\.'"
   ]
  },
  {
   "cell_type": "code",
   "execution_count": null,
   "id": "fee76870",
   "metadata": {},
   "outputs": [],
   "source": []
  }
 ],
 "metadata": {
  "kernelspec": {
   "display_name": "Python 3 (ipykernel)",
   "language": "python",
   "name": "python3"
  },
  "language_info": {
   "codemirror_mode": {
    "name": "ipython",
    "version": 3
   },
   "file_extension": ".py",
   "mimetype": "text/x-python",
   "name": "python",
   "nbconvert_exporter": "python",
   "pygments_lexer": "ipython3",
   "version": "3.9.13"
  }
 },
 "nbformat": 4,
 "nbformat_minor": 5
}
