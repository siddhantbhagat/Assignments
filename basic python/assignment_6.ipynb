{
 "cells": [
  {
   "cell_type": "markdown",
   "id": "92be3a7d",
   "metadata": {},
   "source": [
    "### 1. What are escape characters, and how do you use them?"
   ]
  },
  {
   "cell_type": "markdown",
   "id": "b57c55ea",
   "metadata": {},
   "source": [
    "some writing a string in specific way can cause error for example in text 'I will be there till 6 o'clock ' the inverted comma in o'clock will terminate the string after o and this will cause an error. in order to avoid this kind of error escape characters(\\) are used.and the above sentence will be writen as\n",
    "\n",
    "'I will be there till 6 o\\\\'clock '"
   ]
  },
  {
   "cell_type": "markdown",
   "id": "b5cb2b04",
   "metadata": {},
   "source": [
    "### 2. What do the escape characters n and t stand for?"
   ]
  },
  {
   "cell_type": "markdown",
   "id": "822d6aaa",
   "metadata": {},
   "source": [
    "n stands for new line \n",
    "\n",
    "t stands for tab"
   ]
  },
  {
   "cell_type": "markdown",
   "id": "66e93e41",
   "metadata": {},
   "source": [
    "### 3. What is the way to include backslash characters in a string?"
   ]
  },
  {
   "cell_type": "markdown",
   "id": "98a8d584",
   "metadata": {},
   "source": [
    "to insert back slash character in string we have to use '\\\\\\\\'"
   ]
  },
  {
   "cell_type": "markdown",
   "id": "0951b72d",
   "metadata": {},
   "source": [
    "### 4. The string &quot;Howl&#39;s Moving Castle&quot; is a correct value. Why isn&#39;t the single quote character in the\n",
    "### word Howl&#39;s not escaped a problem?"
   ]
  },
  {
   "cell_type": "markdown",
   "id": "ac504475",
   "metadata": {},
   "source": [
    "as string is enclosed in double inverted commas the computer will not recognise single inverted comma as end of the string."
   ]
  },
  {
   "cell_type": "markdown",
   "id": "a4aa23b2",
   "metadata": {},
   "source": [
    "### 5. How do you write a string of newlines if you don&#39;t want to use the n character?"
   ]
  },
  {
   "cell_type": "markdown",
   "id": "0bf95a0a",
   "metadata": {},
   "source": [
    "by using triple inverted commas"
   ]
  },
  {
   "cell_type": "markdown",
   "id": "c812b333",
   "metadata": {},
   "source": [
    "### 6. What are the values of the given expressions?\n",
    "### &#39;Hello, world!&#39;[1]\n",
    "### &#39;Hello, world!&#39;[0:5]\n",
    "### &#39;Hello, world!&#39;[:5]\n",
    "### &#39;Hello, world!&#39;[3:]"
   ]
  },
  {
   "cell_type": "markdown",
   "id": "497cad75",
   "metadata": {},
   "source": [
    "&#39;Hello, world!&#39;[1] - 'e'\n",
    "\n",
    "&#39;Hello, world!&#39;[0:5]-'hello'\n",
    "\n",
    "&#39;Hello, world!&#39;[:5] - 'hello'\n",
    "\n",
    "&#39;Hello, world!&#39;[3:] - 'lo, world!'"
   ]
  },
  {
   "cell_type": "markdown",
   "id": "64fb2d63",
   "metadata": {},
   "source": [
    "### 8. What are the values of the following expressions?\n",
    "### &#39;Remember, remember, the fifth of July.&#39;.split()\n",
    "### &#39;-&#39;.join(&#39;There can only one.&#39;.split())"
   ]
  },
  {
   "cell_type": "markdown",
   "id": "6062e67e",
   "metadata": {},
   "source": [
    "1. split command will give list of substrings that are seprated by spaces in main string.\n",
    "\n",
    "['Remember,','remember,','the','fifth','of','July.']\n",
    "\n",
    "2. - 'There-can-only-one.'"
   ]
  },
  {
   "cell_type": "markdown",
   "id": "3097949e",
   "metadata": {},
   "source": [
    "### 9. What are the methods for right-justifying, left-justifying, and centering a string?"
   ]
  },
  {
   "cell_type": "markdown",
   "id": "9854cadb",
   "metadata": {},
   "source": [
    "'str'.ljust(len,'char'),\n",
    "\n",
    "'str'.rjust(len,'char'),\n",
    "\n",
    "'str'.center(len,'char')"
   ]
  },
  {
   "cell_type": "markdown",
   "id": "cfc01dee",
   "metadata": {},
   "source": [
    "### 10. What is the best way to remove whitespace characters from the start or end?"
   ]
  },
  {
   "cell_type": "code",
   "execution_count": 15,
   "id": "6a99e41e",
   "metadata": {},
   "outputs": [
    {
     "data": {
      "text/plain": [
       "'str'"
      ]
     },
     "execution_count": 15,
     "metadata": {},
     "output_type": "execute_result"
    }
   ],
   "source": [
    "' str '.strip()"
   ]
  }
 ],
 "metadata": {
  "kernelspec": {
   "display_name": "Python 3 (ipykernel)",
   "language": "python",
   "name": "python3"
  },
  "language_info": {
   "codemirror_mode": {
    "name": "ipython",
    "version": 3
   },
   "file_extension": ".py",
   "mimetype": "text/x-python",
   "name": "python",
   "nbconvert_exporter": "python",
   "pygments_lexer": "ipython3",
   "version": "3.9.13"
  }
 },
 "nbformat": 4,
 "nbformat_minor": 5
}
