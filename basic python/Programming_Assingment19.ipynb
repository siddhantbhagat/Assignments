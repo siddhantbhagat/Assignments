{
 "cells": [
  {
   "cell_type": "raw",
   "id": "9cf6fd09",
   "metadata": {},
   "source": [
    "Question1\n",
    "Create a function that takes a string and returns a string in which each character is repeated once.\n",
    "Examples\n",
    "double_char(\"String\") ➞ \"SSttrriinngg\"\n",
    "\n",
    "double_char(\"Hello World!\") ➞ \"HHeelllloo  WWoorrlldd!!\"\n",
    "\n",
    "double_char(\"1234!_ \") ➞ \"11223344!!__  \""
   ]
  },
  {
   "cell_type": "code",
   "execution_count": 2,
   "id": "a8fc56d9",
   "metadata": {},
   "outputs": [
    {
     "data": {
      "text/plain": [
       "'HHeelllloo  WWoorrlldd!!'"
      ]
     },
     "execution_count": 2,
     "metadata": {},
     "output_type": "execute_result"
    }
   ],
   "source": [
    "def double_char(s):\n",
    "    new_string=''\n",
    "    for i in s:\n",
    "        new_string+=i+i\n",
    "    return new_string\n",
    "\n",
    "double_char(\"Hello World!\")"
   ]
  },
  {
   "cell_type": "raw",
   "id": "842bdb43",
   "metadata": {},
   "source": [
    "Question2\n",
    "Create a function that reverses a boolean value and returns the string \"boolean expected\" if another variable type is given.\n",
    "Examples\n",
    "reverse(True) ➞ False\n",
    "\n",
    "reverse(False) ➞ True\n",
    "\n",
    "reverse(0) ➞ \"boolean expected\"\n",
    "\n",
    "reverse(None) ➞ \"boolean expected\""
   ]
  },
  {
   "cell_type": "code",
   "execution_count": 14,
   "id": "573ee427",
   "metadata": {},
   "outputs": [
    {
     "name": "stdout",
     "output_type": "stream",
     "text": [
      "True\n",
      "False\n",
      "boolean expected\n"
     ]
    }
   ],
   "source": [
    "def reverse(b):\n",
    "    if type(b)==bool:\n",
    "        return not b\n",
    "    else:\n",
    "        return \"boolean expected\"\n",
    "\n",
    "print(reverse(False))\n",
    "print(reverse(True))\n",
    "print(reverse(0))"
   ]
  },
  {
   "cell_type": "raw",
   "id": "c8269a10",
   "metadata": {},
   "source": [
    "Question3\n",
    "Create a function that returns the thickness (in meters) of a piece of paper after folding it n number of times. The paper starts off with a thickness of 0.5mm.\n",
    "Examples\n",
    "num_layers(1) ➞ \"0.001m\"\n",
    "# Paper folded once is 1mm (equal to 0.001m)\n",
    "\n",
    "num_layers(4) ➞ \"0.008m\"\n",
    "# Paper folded 4 times is 8mm (equal to 0.008m)\n",
    "\n",
    "num_layers(21) ➞ \"1048.576m\"\n",
    "# Paper folded 21 times is 1048576mm (equal to 1048.576m)"
   ]
  },
  {
   "cell_type": "code",
   "execution_count": 17,
   "id": "c7fcd89d",
   "metadata": {},
   "outputs": [
    {
     "data": {
      "text/plain": [
       "'Paper folded 21 times is 1048576 mm equal to 1048.576 m'"
      ]
     },
     "execution_count": 17,
     "metadata": {},
     "output_type": "execute_result"
    }
   ],
   "source": [
    "def num_layers(n):\n",
    "    thickness = 1\n",
    "    for i in range(n-1):\n",
    "        thickness*=2\n",
    "    return f\"Paper folded {n} times is {thickness} mm equal to {thickness*0.001} m\"\n",
    "\n",
    "num_layers(21)"
   ]
  },
  {
   "cell_type": "raw",
   "id": "2932d4f6",
   "metadata": {},
   "source": [
    "Question4\n",
    "Create a function that takes a single string as argument and returns an ordered list containing the indices of all capital letters in the string.\n",
    "Examples\n",
    "index_of_caps(\"eDaBiT\") ➞ [1, 3, 5]\n",
    "\n",
    "index_of_caps(\"eQuINoX\") ➞ [1, 3, 4, 6]\n",
    "\n",
    "index_of_caps(\"determine\") ➞ []\n",
    "\n",
    "index_of_caps(\"STRIKE\") ➞ [0, 1, 2, 3, 4, 5]\n",
    "\n",
    "index_of_caps(\"sUn\") ➞ [1]"
   ]
  },
  {
   "cell_type": "code",
   "execution_count": 18,
   "id": "c8fe8333",
   "metadata": {},
   "outputs": [
    {
     "data": {
      "text/plain": [
       "[1, 3, 4, 6]"
      ]
     },
     "execution_count": 18,
     "metadata": {},
     "output_type": "execute_result"
    }
   ],
   "source": [
    "def index_of_caps(s):\n",
    "    return [i for i,char in enumerate(s) if char.isupper()]\n",
    "index_of_caps(\"eQuINoX\")"
   ]
  },
  {
   "cell_type": "raw",
   "id": "2dbd8849",
   "metadata": {},
   "source": [
    "Question5\n",
    "Using list comprehensions, create a function that finds all even numbers from 1 to the given number.\n",
    "Examples\n",
    "find_even_nums(8) ➞ [2, 4, 6, 8]\n",
    "\n",
    "find_even_nums(4) ➞ [2, 4]\n",
    "\n",
    "find_even_nums(2) ➞ [2]"
   ]
  },
  {
   "cell_type": "code",
   "execution_count": 30,
   "id": "d25a3f6f",
   "metadata": {},
   "outputs": [
    {
     "data": {
      "text/plain": [
       "[2]"
      ]
     },
     "execution_count": 30,
     "metadata": {},
     "output_type": "execute_result"
    }
   ],
   "source": [
    "def find_even_nums(n):\n",
    "    return [i for i in range(2,n+1,2)]\n",
    "find_even_nums(2)"
   ]
  },
  {
   "cell_type": "code",
   "execution_count": null,
   "id": "87448675",
   "metadata": {},
   "outputs": [],
   "source": []
  }
 ],
 "metadata": {
  "kernelspec": {
   "display_name": "Python 3 (ipykernel)",
   "language": "python",
   "name": "python3"
  },
  "language_info": {
   "codemirror_mode": {
    "name": "ipython",
    "version": 3
   },
   "file_extension": ".py",
   "mimetype": "text/x-python",
   "name": "python",
   "nbconvert_exporter": "python",
   "pygments_lexer": "ipython3",
   "version": "3.9.13"
  }
 },
 "nbformat": 4,
 "nbformat_minor": 5
}
