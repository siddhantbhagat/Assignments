{
 "cells": [
  {
   "cell_type": "raw",
   "id": "69c350dd",
   "metadata": {},
   "source": [
    "1. Make a class called Thing with no contents and print it. Then, create an object called example from this class and also print it. Are the printed values the same or different?"
   ]
  },
  {
   "cell_type": "code",
   "execution_count": 13,
   "id": "655c53f8",
   "metadata": {},
   "outputs": [
    {
     "name": "stdout",
     "output_type": "stream",
     "text": [
      "<__main__.Thing object at 0x000001CF66546520>\n"
     ]
    }
   ],
   "source": [
    "class Thing:\n",
    "    pass\n",
    "thing=Thing()\n",
    "print(thing)"
   ]
  },
  {
   "cell_type": "code",
   "execution_count": 17,
   "id": "b9f85651",
   "metadata": {},
   "outputs": [
    {
     "name": "stdout",
     "output_type": "stream",
     "text": [
      "<bound method Thing.example of <__main__.Thing object at 0x000001CF66529580>>\n"
     ]
    }
   ],
   "source": [
    "class Thing:\n",
    "    def example():\n",
    "        pass\n",
    "thing=Thing()\n",
    "print(thing.example)"
   ]
  },
  {
   "cell_type": "raw",
   "id": "b8e08f0b",
   "metadata": {},
   "source": [
    "No they both are different"
   ]
  },
  {
   "cell_type": "raw",
   "id": "44ff67af",
   "metadata": {},
   "source": [
    "2. Create a new class called Thing2 and add the value 'abc' to the letters class attribute. Letters should be printed."
   ]
  },
  {
   "cell_type": "code",
   "execution_count": 23,
   "id": "354fffd4",
   "metadata": {},
   "outputs": [
    {
     "name": "stdout",
     "output_type": "stream",
     "text": [
      "ABC\n"
     ]
    }
   ],
   "source": [
    "class Thing2:\n",
    "    letters='ABC'\n",
    "        \n",
    "print(Thing2.letters)"
   ]
  },
  {
   "cell_type": "raw",
   "id": "6f27488d",
   "metadata": {},
   "source": [
    "3. Make yet another class called, of course, Thing3. This time, assign the value 'xyz' to an instance (object) attribute called letters. Print letters. Do you need to make an object from the class to do this?"
   ]
  },
  {
   "cell_type": "code",
   "execution_count": 25,
   "id": "b74f9edf",
   "metadata": {},
   "outputs": [
    {
     "name": "stdout",
     "output_type": "stream",
     "text": [
      "ABC\n"
     ]
    }
   ],
   "source": [
    "class Thing3:\n",
    "    def __init__(self):\n",
    "        self.letters='ABC'\n",
    "        \n",
    "print(Thing3().letters)"
   ]
  },
  {
   "cell_type": "raw",
   "id": "e8a0d49e",
   "metadata": {},
   "source": [
    "4. Create an Element class with the instance attributes name, symbol, and number. Create a class object with the values 'Hydrogen,' 'H,' and 1."
   ]
  },
  {
   "cell_type": "code",
   "execution_count": 27,
   "id": "fd8671ff",
   "metadata": {},
   "outputs": [
    {
     "name": "stdout",
     "output_type": "stream",
     "text": [
      "Hydrogen\n"
     ]
    }
   ],
   "source": [
    "class Element:\n",
    "    def __init__(self, name, symbol, number):\n",
    "        self.name = name\n",
    "        self.symbol = symbol\n",
    "        self.number = number\n",
    "\n",
    "element = Element('Hydrogen', 'H', 1)\n",
    "print(element.name)"
   ]
  },
  {
   "cell_type": "raw",
   "id": "910fca9c",
   "metadata": {},
   "source": [
    "5. Make a dictionary with these keys and values: 'name': 'Hydrogen', 'symbol': 'H', 'number': 1. Then, create an object called hydrogen from class Element using this dictionary."
   ]
  },
  {
   "cell_type": "code",
   "execution_count": 29,
   "id": "532c8c3d",
   "metadata": {},
   "outputs": [
    {
     "name": "stdout",
     "output_type": "stream",
     "text": [
      "Hydrogen\n"
     ]
    }
   ],
   "source": [
    "class Element:\n",
    "    def __init__(self, name, symbol, number):\n",
    "        self.name = name\n",
    "        self.symbol = symbol\n",
    "        self.number = number\n",
    "\n",
    "element_dict = {'name': 'Hydrogen', 'symbol': 'H', 'number': 1}\n",
    "\n",
    "hydrogen = Element(**element_dict)\n",
    "print(hydrogen.name)"
   ]
  },
  {
   "cell_type": "raw",
   "id": "543558bc",
   "metadata": {},
   "source": [
    "6. For the Element class, define a method called dump() that prints the values of the object’s attributes (name, symbol, and number). Create the hydrogen object from this new definition and use dump() to print its attributes."
   ]
  },
  {
   "cell_type": "code",
   "execution_count": 39,
   "id": "62ace867",
   "metadata": {},
   "outputs": [
    {
     "name": "stdout",
     "output_type": "stream",
     "text": [
      "<__main__.Element object at 0x000001CF66642F40>\n"
     ]
    }
   ],
   "source": [
    "class Element:\n",
    "    def __init__(self,name, symbol, number):\n",
    "        self.name = name\n",
    "        self.symbol = symbol\n",
    "        self.number = number\n",
    "    def dump(self):\n",
    "        print(f\"\"\" name -> {self.name} \\n symbol -> {self.symbol} \\n number -> {self.number} \"\"\")\n",
    "        \n",
    "hydrogen = Element(**element_dict)\n",
    "hydrogen.dump()"
   ]
  },
  {
   "cell_type": "raw",
   "id": "a23f38fa",
   "metadata": {},
   "source": [
    "7. Call print(hydrogen). In the definition of Element, change the name of method dump to __str__, create a new hydrogen object, and call print(hydrogen) again."
   ]
  },
  {
   "cell_type": "code",
   "execution_count": 40,
   "id": "986d7b60",
   "metadata": {},
   "outputs": [
    {
     "name": "stdout",
     "output_type": "stream",
     "text": [
      "<__main__.Element object at 0x000001CF66529D90>\n"
     ]
    }
   ],
   "source": [
    "class Element:\n",
    "    def __init__(self,name, symbol, number):\n",
    "        self.name = name\n",
    "        self.symbol = symbol\n",
    "        self.number = number\n",
    "    def dump(self):\n",
    "        return f\"\"\" name -> {self.name} \\n symbol -> {self.symbol} \\n number -> {self.number} \"\"\"\n",
    "\n",
    "hydrogen = Element('Hydrogen', 'H', 1)\n",
    "print(hydrogen)"
   ]
  },
  {
   "cell_type": "code",
   "execution_count": 38,
   "id": "acf91be9",
   "metadata": {},
   "outputs": [
    {
     "name": "stdout",
     "output_type": "stream",
     "text": [
      " name -> Hydrogen \n",
      " symbol -> H \n",
      " number -> 1 \n"
     ]
    }
   ],
   "source": [
    "class Element:\n",
    "    def __init__(self,name, symbol, number):\n",
    "        self.name = name\n",
    "        self.symbol = symbol\n",
    "        self.number = number\n",
    "    def __str__(self):\n",
    "        return f\"\"\" name -> {self.name} \\n symbol -> {self.symbol} \\n number -> {self.number} \"\"\"\n",
    "\n",
    "hydrogen = Element('Hydrogen', 'H', 1)\n",
    "print(hydrogen)"
   ]
  },
  {
   "cell_type": "raw",
   "id": "65916f75",
   "metadata": {},
   "source": [
    "8. Modify Element to make the attributes name, symbol, and number private. Define a getter property for each to return its value."
   ]
  },
  {
   "cell_type": "code",
   "execution_count": 41,
   "id": "1be4f3cc",
   "metadata": {},
   "outputs": [
    {
     "name": "stdout",
     "output_type": "stream",
     "text": [
      "Hydrogen\n",
      "H\n",
      "1\n"
     ]
    }
   ],
   "source": [
    "class Element:\n",
    "    def __init__(self, name, symbol, number):\n",
    "        self._name = name\n",
    "        self._symbol = symbol\n",
    "        self._number = number\n",
    "\n",
    "    @property\n",
    "    def name(self):\n",
    "        return self._name\n",
    "\n",
    "    @property\n",
    "    def symbol(self):\n",
    "        return self._symbol\n",
    "\n",
    "    @property\n",
    "    def number(self):\n",
    "        return self._number\n",
    "\n",
    "hydrogen = Element('Hydrogen', 'H', 1)\n",
    "print(hydrogen.name)\n",
    "print(hydrogen.symbol)\n",
    "print(hydrogen.number)\n"
   ]
  },
  {
   "cell_type": "raw",
   "id": "a31daec5",
   "metadata": {},
   "source": [
    "9. Define three classes: Bear, Rabbit, and Octothorpe. For each, define only one method: eats(). This should return 'berries' (Bear), 'clover' (Rabbit), or 'campers' (Octothorpe). Create one object from each and print what it eats."
   ]
  },
  {
   "cell_type": "code",
   "execution_count": 44,
   "id": "02ea7716",
   "metadata": {},
   "outputs": [
    {
     "name": "stdout",
     "output_type": "stream",
     "text": [
      "barries\n",
      "clover\n",
      "campers\n"
     ]
    }
   ],
   "source": [
    "class Bear:\n",
    "    def eats(self):\n",
    "        return 'barries'\n",
    "    \n",
    "class Rabbit:\n",
    "    def eats(self):\n",
    "        return 'clover'\n",
    "    \n",
    "class Octothorpe:\n",
    "    def eats(self):\n",
    "        return 'campers'\n",
    "    \n",
    "animal1 = Bear()\n",
    "animal2 = Rabbit()\n",
    "animal3 = Octothorpe()\n",
    "\n",
    "print(animal1.eats())\n",
    "print(animal2.eats())\n",
    "print(animal3.eats())"
   ]
  },
  {
   "cell_type": "raw",
   "id": "4b0043a1",
   "metadata": {},
   "source": [
    "10. Define these classes: Laser, Claw, and SmartPhone. Each has only one method: does(). This returns 'disintegrate' (Laser), 'crush' (Claw), or 'ring' (SmartPhone). Then, define the class Robot that has one instance (object) of each of these. Define a does() method for the Robot that prints what its component objects do."
   ]
  },
  {
   "cell_type": "code",
   "execution_count": 55,
   "id": "8ac472ed",
   "metadata": {},
   "outputs": [],
   "source": [
    "class Laser:\n",
    "    def does(self):\n",
    "        return 'disintegrate'\n",
    "    \n",
    "class Claw:\n",
    "    def does(self):\n",
    "        return 'crush'\n",
    "    \n",
    "class SmartPhone:\n",
    "    def does(self):\n",
    "        return 'ring'\n",
    "    \n",
    "class Robot:\n",
    "    def __init__(self):\n",
    "        self.laser = Laser()\n",
    "        self.claw = Claw()\n",
    "        self.smartPhone = SmartPhone()\n",
    "        \n",
    "    def does(self):\n",
    "        print(f'Laser {self.laser.does()} \\nClaw {self.claw.does()} \\nSmartPhone {self.smartPhone.does()}')"
   ]
  },
  {
   "cell_type": "code",
   "execution_count": 56,
   "id": "77bd1db6",
   "metadata": {},
   "outputs": [
    {
     "name": "stdout",
     "output_type": "stream",
     "text": [
      "Laser disintegrate \n",
      "Claw crush \n",
      "SmartPhone ring\n"
     ]
    }
   ],
   "source": [
    "robot = Robot()\n",
    "robot.does()"
   ]
  },
  {
   "cell_type": "code",
   "execution_count": null,
   "id": "677bf1ce",
   "metadata": {},
   "outputs": [],
   "source": []
  }
 ],
 "metadata": {
  "kernelspec": {
   "display_name": "Python 3 (ipykernel)",
   "language": "python",
   "name": "python3"
  },
  "language_info": {
   "codemirror_mode": {
    "name": "ipython",
    "version": 3
   },
   "file_extension": ".py",
   "mimetype": "text/x-python",
   "name": "python",
   "nbconvert_exporter": "python",
   "pygments_lexer": "ipython3",
   "version": "3.9.13"
  }
 },
 "nbformat": 4,
 "nbformat_minor": 5
}
