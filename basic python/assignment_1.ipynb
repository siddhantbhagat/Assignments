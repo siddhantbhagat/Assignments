{
 "cells": [
  {
   "cell_type": "raw",
   "id": "014c1476",
   "metadata": {},
   "source": [
    "1. In the below elements which of them are values or an expression? eg:- values can be\n",
    "integer or string and expressions will be mathematical operators.\n",
    "\n",
    "* - mathematical operators\n",
    "\"hello\" - string\n",
    "-87.8 - decimal / float\n",
    "- - mathematical operators\n",
    "/ - mathematical operators\n",
    "+ - mathematical operators\n",
    "6 - integer"
   ]
  },
  {
   "cell_type": "raw",
   "id": "24ed4a53",
   "metadata": {},
   "source": [
    "2. What is the difference between string and variable?\n",
    "\n",
    "string is a collection of characters and is immutable, whereas variable is a container which stores and holds any kind of datatype like integer, string, list etc."
   ]
  },
  {
   "cell_type": "raw",
   "id": "11dc0118",
   "metadata": {},
   "source": [
    "3. Describe three different data types.\n",
    "\n",
    "Integers – This value is represented by int class. It contains positive or negative whole numbers (without fraction   \n",
    "or decimal). In Python there is no limit to how long an integer value can be.\n",
    "\n",
    "float - float holds positive or negative decimal values.\n",
    "\n",
    "strings - string is a collection of characters and is immutable but supports slicing and indexing like in list."
   ]
  },
  {
   "cell_type": "raw",
   "id": "da61b780",
   "metadata": {},
   "source": [
    "4. What is an expression made up of? What do all expressions do?\n",
    "\n",
    "expression is made up of numeric data like integer or float or the combination of both, along with mathematical or logical operators.\n",
    "\n",
    "all operators are to evaluated and reduced to the simplest form to give a numerical value."
   ]
  },
  {
   "cell_type": "raw",
   "id": "472d0fc2",
   "metadata": {},
   "source": [
    "5. This assignment statements, like spam = 10. What is the difference between an\n",
    "expression and a statement?\n",
    "\n",
    "Here value 10 is assigned to a variable spam directly. where as in expression value is evaluated first and then assigned to a variable like in a = 100*52."
   ]
  },
  {
   "cell_type": "raw",
   "id": "4dc19ebf",
   "metadata": {},
   "source": [
    "6. After running the following code, what does the variable bacon contain?\n",
    "bacon = 22\n",
    "bacon + 1\n",
    "\n",
    "Answer - here bacon contains value 22 because even though value is incremented by 1 it is assigned back to the variable bacon"
   ]
  },
  {
   "cell_type": "raw",
   "id": "e8629368",
   "metadata": {},
   "source": [
    "7. What should the values of the following two terms be?\n",
    "'spam' + 'spamspam'\n",
    "'spam' * 3\n",
    "\n",
    "answer- values of above two terms will be same i.e 'spamspamspam'"
   ]
  },
  {
   "cell_type": "raw",
   "id": "63294aa7",
   "metadata": {},
   "source": [
    "8. Why is eggs a valid variable name while 100 is invalid?\n",
    "\n",
    "because valid varible name should always be started with eigher character or underscore and not with number."
   ]
  },
  {
   "cell_type": "raw",
   "id": "100294f6",
   "metadata": {},
   "source": [
    "9. What three functions can be used to get the integer, floating-point number, or string\n",
    "version of a value?\n",
    "\n",
    "- int(), float(), str() are the three functions that can be used to get the integer, floating-point number, or string\n",
    "version of a value"
   ]
  },
  {
   "cell_type": "raw",
   "id": "8bf29581",
   "metadata": {},
   "source": [
    "10. Why does this expression cause an error? How can you fix it?\n",
    "'I have eaten ' + 99 + ' burritos.'\n",
    "\n",
    "- beacuse we are trying to concatenate/add string with integer(99) to fix it we have to convert 99 into string datatype by enclosing it in inverted commas or by type casting (using str()).\n",
    "\n",
    "'I have eaten ' + '99' + ' burritos.'"
   ]
  },
  {
   "cell_type": "raw",
   "id": "046e400d",
   "metadata": {},
   "source": []
  },
  {
   "cell_type": "raw",
   "id": "d77ab737",
   "metadata": {},
   "source": []
  },
  {
   "cell_type": "raw",
   "id": "c32e22fd",
   "metadata": {},
   "source": []
  },
  {
   "cell_type": "raw",
   "id": "e69fe58a",
   "metadata": {},
   "source": []
  },
  {
   "cell_type": "raw",
   "id": "a658d362",
   "metadata": {},
   "source": []
  },
  {
   "cell_type": "raw",
   "id": "b66665c2",
   "metadata": {},
   "source": []
  },
  {
   "cell_type": "raw",
   "id": "6f7e4ad5",
   "metadata": {},
   "source": []
  },
  {
   "cell_type": "raw",
   "id": "db10d209",
   "metadata": {},
   "source": []
  },
  {
   "cell_type": "raw",
   "id": "9227e21a",
   "metadata": {},
   "source": []
  },
  {
   "cell_type": "raw",
   "id": "4f160762",
   "metadata": {},
   "source": []
  },
  {
   "cell_type": "raw",
   "id": "7286733a",
   "metadata": {},
   "source": []
  },
  {
   "cell_type": "raw",
   "id": "a2435af5",
   "metadata": {},
   "source": []
  },
  {
   "cell_type": "raw",
   "id": "c2c86fcd",
   "metadata": {},
   "source": []
  },
  {
   "cell_type": "raw",
   "id": "6b135662",
   "metadata": {},
   "source": []
  },
  {
   "cell_type": "code",
   "execution_count": 46,
   "id": "8305acae",
   "metadata": {},
   "outputs": [
    {
     "data": {
      "text/plain": [
       "'2023-06-18 23:01:50.028964'"
      ]
     },
     "execution_count": 46,
     "metadata": {},
     "output_type": "execute_result"
    }
   ],
   "source": [
    "from datetime import datetime as dt\n",
    "str(dt.today())"
   ]
  },
  {
   "cell_type": "code",
   "execution_count": 47,
   "id": "2e5d695c",
   "metadata": {},
   "outputs": [],
   "source": [
    "from datetime import datetime as dt\n",
    "\n",
    "with open('today.txt', 'w') as f:\n",
    "    f.write(str(dt.today()))\n",
    "    f.close()"
   ]
  },
  {
   "cell_type": "code",
   "execution_count": 48,
   "id": "e43fe8a0",
   "metadata": {},
   "outputs": [
    {
     "name": "stdout",
     "output_type": "stream",
     "text": [
      "2023-06-18 23:04:50.395931\n"
     ]
    }
   ],
   "source": [
    "with open('today.txt', 'r') as f:\n",
    "    today_string=f.read()\n",
    "    f.close()\n",
    "print(today_string)"
   ]
  },
  {
   "cell_type": "code",
   "execution_count": 52,
   "id": "7993f79a",
   "metadata": {},
   "outputs": [
    {
     "data": {
      "text/plain": [
       "datetime.datetime(2023, 6, 18, 23, 4, 50, 395931)"
      ]
     },
     "execution_count": 52,
     "metadata": {},
     "output_type": "execute_result"
    }
   ],
   "source": [
    "dt.strptime(today_string,\"%Y-%m-%d %H:%M:%S.%f\")"
   ]
  },
  {
   "cell_type": "code",
   "execution_count": 53,
   "id": "beb267d9",
   "metadata": {},
   "outputs": [
    {
     "name": "stdout",
     "output_type": "stream",
     "text": [
      " Volume in drive D is New Volume\n",
      " Volume Serial Number is 94BB-FE64\n",
      "\n",
      " Directory of D:\\ineuron_projects\\assignments\\Assignments\\basic python\n",
      "\n",
      "18-06-2023  11:09 PM    <DIR>          .\n",
      "18-06-2023  03:49 PM    <DIR>          ..\n",
      "18-06-2023  04:03 PM    <DIR>          .ipynb_checkpoints\n",
      "18-06-2023  11:09 PM            10,573 assignment_1.ipynb\n",
      "12-05-2023  09:18 PM             3,502 assignment_10.ipynb\n",
      "12-05-2023  09:18 PM             5,229 assignment_11.ipynb\n",
      "12-05-2023  09:18 PM             5,621 assignment_12.ipynb\n",
      "12-05-2023  09:18 PM            17,202 Assignment_13.docx\n",
      "12-05-2023  09:18 PM            17,760 Assignment_14.docx\n",
      "12-05-2023  09:18 PM            16,379 Assignment_15.docx\n",
      "12-05-2023  09:18 PM            18,297 Assignment_16.docx\n",
      "12-05-2023  09:09 PM             8,443 Assignment_17.ipynb\n",
      "12-05-2023  09:18 PM             9,602 assignment_2.ipynb\n",
      "12-05-2023  09:18 PM             6,674 assignment_3 .ipynb\n",
      "12-05-2023  09:18 PM            14,427 assignment_4.ipynb\n",
      "12-05-2023  09:18 PM             5,112 assignment_5.ipynb\n",
      "12-05-2023  09:18 PM             4,958 assignment_6.ipynb\n",
      "12-05-2023  09:18 PM            11,171 assignment_7.ipynb\n",
      "12-05-2023  09:18 PM             3,228 assignment_8.ipynb\n",
      "12-05-2023  09:18 PM             3,800 assignment_9.ipynb\n",
      "12-05-2023  10:33 PM            13,998 Programming_Assingment1.docx\n",
      "16-05-2023  01:21 PM            15,212 Programming_Assingment10.docx\n",
      "30-05-2023  04:27 PM             5,622 Programming_Assingment11.ipynb\n",
      "31-05-2023  12:39 AM             8,560 Programming_Assingment12.ipynb\n",
      "30-05-2023  06:33 PM             7,874 Programming_Assingment13.ipynb\n",
      "30-05-2023  08:21 PM             6,938 Programming_Assingment14.ipynb\n",
      "10-06-2023  04:16 PM             6,764 Programming_Assingment15.ipynb\n",
      "10-06-2023  07:39 PM             5,779 Programming_Assingment16.ipynb\n",
      "10-06-2023  05:23 PM             6,180 Programming_Assingment17.ipynb\n",
      "10-06-2023  06:01 PM             6,651 Programming_Assingment18.ipynb\n",
      "10-06-2023  08:18 PM             5,540 Programming_Assingment19.ipynb\n",
      "12-05-2023  11:13 PM            15,521 Programming_Assingment2.docx\n",
      "11-06-2023  08:34 PM             5,326 Programming_Assingment20.ipynb\n",
      "12-06-2023  12:58 AM             6,776 Programming_Assingment21.ipynb\n",
      "12-06-2023  01:26 AM             6,486 Programming_Assingment22.ipynb\n",
      "12-06-2023  01:38 AM             3,811 Programming_Assingment23.ipynb\n",
      "18-06-2023  01:57 PM             7,514 Programming_Assingment24.ipynb\n",
      "18-06-2023  02:43 PM             6,656 Programming_Assingment25.ipynb\n",
      "12-05-2023  11:34 PM            14,826 Programming_Assingment3.docx\n",
      "14-05-2023  01:07 PM            15,147 Programming_Assingment4.docx\n",
      "14-05-2023  02:38 PM            14,850 Programming_Assingment5.docx\n",
      "14-05-2023  03:04 PM            14,427 Programming_Assingment6.docx\n",
      "14-05-2023  03:30 PM            14,343 Programming_Assingment7.docx\n",
      "14-05-2023  04:37 PM            14,261 Programming_Assingment8.docx\n",
      "16-05-2023  12:51 PM            14,973 Programming_Assingment9.docx\n",
      "18-06-2023  11:04 PM                26 today.txt\n",
      "              43 File(s)        406,039 bytes\n",
      "               3 Dir(s)  197,839,409,152 bytes free\n"
     ]
    }
   ],
   "source": [
    "ls"
   ]
  },
  {
   "cell_type": "code",
   "execution_count": 54,
   "id": "1ceabb20",
   "metadata": {},
   "outputs": [
    {
     "name": "stdout",
     "output_type": "stream",
     "text": [
      ".ipynb_checkpoints\n",
      "assignment_1.ipynb\n",
      "assignment_10.ipynb\n",
      "assignment_11.ipynb\n",
      "assignment_12.ipynb\n",
      "Assignment_13.docx\n",
      "Assignment_14.docx\n",
      "Assignment_15.docx\n",
      "Assignment_16.docx\n",
      "Assignment_17.ipynb\n",
      "assignment_2.ipynb\n",
      "assignment_3 .ipynb\n",
      "assignment_4.ipynb\n",
      "assignment_5.ipynb\n",
      "assignment_6.ipynb\n",
      "assignment_7.ipynb\n",
      "assignment_8.ipynb\n",
      "assignment_9.ipynb\n",
      "Programming_Assingment1.docx\n",
      "Programming_Assingment10.docx\n",
      "Programming_Assingment11.ipynb\n",
      "Programming_Assingment12.ipynb\n",
      "Programming_Assingment13.ipynb\n",
      "Programming_Assingment14.ipynb\n",
      "Programming_Assingment15.ipynb\n",
      "Programming_Assingment16.ipynb\n",
      "Programming_Assingment17.ipynb\n",
      "Programming_Assingment18.ipynb\n",
      "Programming_Assingment19.ipynb\n",
      "Programming_Assingment2.docx\n",
      "Programming_Assingment20.ipynb\n",
      "Programming_Assingment21.ipynb\n",
      "Programming_Assingment22.ipynb\n",
      "Programming_Assingment23.ipynb\n",
      "Programming_Assingment24.ipynb\n",
      "Programming_Assingment25.ipynb\n",
      "Programming_Assingment3.docx\n",
      "Programming_Assingment4.docx\n",
      "Programming_Assingment5.docx\n",
      "Programming_Assingment6.docx\n",
      "Programming_Assingment7.docx\n",
      "Programming_Assingment8.docx\n",
      "Programming_Assingment9.docx\n",
      "today.txt\n"
     ]
    }
   ],
   "source": [
    "import os\n",
    "\n",
    "# Get the current directory\n",
    "current_directory = os.getcwd()\n",
    "\n",
    "# List files in the current directory\n",
    "files = os.listdir(current_directory)\n",
    "\n",
    "# Print the file names\n",
    "for file in files:\n",
    "    print(file)\n"
   ]
  },
  {
   "cell_type": "code",
   "execution_count": 55,
   "id": "a21f7ac5",
   "metadata": {},
   "outputs": [
    {
     "name": "stdout",
     "output_type": "stream",
     "text": [
      ".git\n",
      "basic python\n"
     ]
    }
   ],
   "source": [
    "current_directory = os.getcwd()\n",
    "\n",
    "# Get the parent directory\n",
    "parent_directory = os.path.dirname(current_directory)\n",
    "\n",
    "# List files in the parent directory\n",
    "files = os.listdir(parent_directory)\n",
    "\n",
    "# Print the file names\n",
    "for file in files:\n",
    "    print(file)"
   ]
  },
  {
   "cell_type": "raw",
   "id": "cfa9c0a7",
   "metadata": {},
   "source": [
    "Use multiprocessing to create three separate processes. Make each one wait a random number of seconds between one and five, print the current time, and then exit."
   ]
  },
  {
   "cell_type": "code",
   "execution_count": 62,
   "id": "5f7ad8a7",
   "metadata": {},
   "outputs": [
    {
     "data": {
      "text/plain": [
       "3"
      ]
     },
     "execution_count": 62,
     "metadata": {},
     "output_type": "execute_result"
    }
   ],
   "source": [
    "random.randint(1,5)"
   ]
  },
  {
   "cell_type": "code",
   "execution_count": 67,
   "id": "d3945144",
   "metadata": {},
   "outputs": [
    {
     "name": "stdout",
     "output_type": "stream",
     "text": [
      "2023-06-19 00:25:36.066096\n"
     ]
    }
   ],
   "source": [
    "import multiprocessing\n",
    "import time\n",
    "import random\n",
    "def waiting_queue():\n",
    "    print('x')\n",
    "    wait=random.randint(1,5)\n",
    "    time.sleep(wait)\n",
    "    print('x')\n",
    "    print(f'{multiprocessing.current_process.name()}  served at {str(dt.now())} ')\n",
    "    \n",
    "tic = time.time()\n",
    "p1 = multiprocessing.Process(target = waiting_queue)\n",
    "p2 = multiprocessing.Process(target = waiting_queue)\n",
    "p3 = multiprocessing.Process(target = waiting_queue)\n",
    "\n",
    "p1.start()\n",
    "p2.start()\n",
    "p3.start()\n",
    "p1.join()\n",
    "p2.join()\n",
    "p3.join()\n",
    "toc = time.time()\n",
    "print(f'{str(dt.now())}')"
   ]
  },
  {
   "cell_type": "code",
   "execution_count": 59,
   "id": "650afd20",
   "metadata": {},
   "outputs": [
    {
     "name": "stdout",
     "output_type": "stream",
     "text": [
      "Done in 0.1167 seconds\n"
     ]
    }
   ],
   "source": [
    "def sleepy_man():\n",
    "    print('Starting to sleep')\n",
    "    time.sleep(1)\n",
    "    print('Done sleeping')\n",
    "\n",
    "tic = time.time()\n",
    "p1 =  multiprocessing.Process(target= sleepy_man)\n",
    "p2 =  multiprocessing.Process(target= sleepy_man)\n",
    "p1.start()\n",
    "p2.start()\n",
    "p1.join()\n",
    "p2.join()\n",
    "toc = time.time()\n",
    "\n",
    "print('Done in {:.4f} seconds'.format(toc-tic))"
   ]
  },
  {
   "cell_type": "code",
   "execution_count": 81,
   "id": "43a4ab8b",
   "metadata": {},
   "outputs": [],
   "source": [
    "from datetime import date,timedelta\n",
    "birth_day=date(1558,1,19)"
   ]
  },
  {
   "cell_type": "code",
   "execution_count": 79,
   "id": "c3648607",
   "metadata": {},
   "outputs": [],
   "source": [
    "day_of_week=date(1993,1,15).weekday()\n",
    "days = ['Monday', 'Tuesday', 'Wednesday', 'Thursday', 'Friday', 'Saturday', 'Sunday']\n",
    "day_name = days[day_of_week]"
   ]
  },
  {
   "cell_type": "code",
   "execution_count": 80,
   "id": "6076be83",
   "metadata": {},
   "outputs": [
    {
     "data": {
      "text/plain": [
       "'Friday'"
      ]
     },
     "execution_count": 80,
     "metadata": {},
     "output_type": "execute_result"
    }
   ],
   "source": [
    "day_name"
   ]
  },
  {
   "cell_type": "code",
   "execution_count": 83,
   "id": "57f8585e",
   "metadata": {},
   "outputs": [
    {
     "name": "stdout",
     "output_type": "stream",
     "text": [
      "2020-06-02\n"
     ]
    }
   ],
   "source": [
    "from datetime import date,timedelta\n",
    "birth_day=date(1993,1,15)\n",
    "age10000 = birth_day + timedelta(days=10000)\n",
    "print(age)"
   ]
  },
  {
   "cell_type": "code",
   "execution_count": 91,
   "id": "77d879d1",
   "metadata": {},
   "outputs": [
    {
     "name": "stdout",
     "output_type": "stream",
     "text": [
      "OrderedDict([('a', 1), ('b', 2), ('c', 3)])\n"
     ]
    }
   ],
   "source": [
    "from collections import OrderedDict\n",
    "dic={'a': 1, 'b': 2, 'c': 3}\n",
    "spacy =OrderedDict(dic)\n",
    "print(spacy)"
   ]
  },
  {
   "cell_type": "code",
   "execution_count": 92,
   "id": "f70394bb",
   "metadata": {},
   "outputs": [
    {
     "name": "stdout",
     "output_type": "stream",
     "text": [
      "['something for a']\n"
     ]
    }
   ],
   "source": [
    "from collections import defaultdict\n",
    "\n",
    "# Create a defaultdict with list as the default factory\n",
    "dict_of_lists = defaultdict(list)\n",
    "\n",
    "# Append 'something for a' to dict_of_lists['a']\n",
    "dict_of_lists['a'].append('something for a')\n",
    "\n",
    "# Print dict_of_lists['a']\n",
    "print(dict_of_lists['a'])\n"
   ]
  },
  {
   "cell_type": "code",
   "execution_count": null,
   "id": "50d2097a",
   "metadata": {},
   "outputs": [],
   "source": []
  }
 ],
 "metadata": {
  "kernelspec": {
   "display_name": "Python 3 (ipykernel)",
   "language": "python",
   "name": "python3"
  },
  "language_info": {
   "codemirror_mode": {
    "name": "ipython",
    "version": 3
   },
   "file_extension": ".py",
   "mimetype": "text/x-python",
   "name": "python",
   "nbconvert_exporter": "python",
   "pygments_lexer": "ipython3",
   "version": "3.9.13"
  }
 },
 "nbformat": 4,
 "nbformat_minor": 5
}
