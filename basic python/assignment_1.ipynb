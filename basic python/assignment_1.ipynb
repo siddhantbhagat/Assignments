{
 "cells": [
  {
   "cell_type": "raw",
   "id": "014c1476",
   "metadata": {},
   "source": [
    "1. In the below elements which of them are values or an expression? eg:- values can be\n",
    "integer or string and expressions will be mathematical operators.\n",
    "\n",
    "* - mathematical operators\n",
    "\"hello\" - string\n",
    "-87.8 - decimal / float\n",
    "- - mathematical operators\n",
    "/ - mathematical operators\n",
    "+ - mathematical operators\n",
    "6 - integer"
   ]
  },
  {
   "cell_type": "raw",
   "id": "24ed4a53",
   "metadata": {},
   "source": [
    "2. What is the difference between string and variable?\n",
    "\n",
    "string is a collection of characters and is immutable, whereas variable is a container which stores and holds any kind of datatype like integer, string, list etc."
   ]
  },
  {
   "cell_type": "raw",
   "id": "11dc0118",
   "metadata": {},
   "source": [
    "3. Describe three different data types.\n",
    "\n",
    "Integers – This value is represented by int class. It contains positive or negative whole numbers (without fraction   \n",
    "or decimal). In Python there is no limit to how long an integer value can be.\n",
    "\n",
    "float - float holds positive or negative decimal values.\n",
    "\n",
    "strings - string is a collection of characters and is immutable but supports slicing and indexing like in list."
   ]
  },
  {
   "cell_type": "raw",
   "id": "da61b780",
   "metadata": {},
   "source": [
    "4. What is an expression made up of? What do all expressions do?\n",
    "\n",
    "expression is made up of numeric data like integer or float or the combination of both, along with mathematical or logical operators.\n",
    "\n",
    "all operators are to evaluated and reduced to the simplest form to give a numerical value."
   ]
  },
  {
   "cell_type": "raw",
   "id": "472d0fc2",
   "metadata": {},
   "source": [
    "5. This assignment statements, like spam = 10. What is the difference between an\n",
    "expression and a statement?\n",
    "\n",
    "Here value 10 is assigned to a variable spam directly. where as in expression value is evaluated first and then assigned to a variable like in a = 100*52."
   ]
  },
  {
   "cell_type": "raw",
   "id": "4dc19ebf",
   "metadata": {},
   "source": [
    "6. After running the following code, what does the variable bacon contain?\n",
    "bacon = 22\n",
    "bacon + 1\n",
    "\n",
    "Answer - here bacon contains value 22 because even though value is incremented by 1 it is assigned back to the variable bacon"
   ]
  },
  {
   "cell_type": "raw",
   "id": "e8629368",
   "metadata": {},
   "source": [
    "7. What should the values of the following two terms be?\n",
    "'spam' + 'spamspam'\n",
    "'spam' * 3\n",
    "\n",
    "answer- values of above two terms will be same i.e 'spamspamspam'"
   ]
  },
  {
   "cell_type": "raw",
   "id": "63294aa7",
   "metadata": {},
   "source": [
    "8. Why is eggs a valid variable name while 100 is invalid?\n",
    "\n",
    "because valid varible name should always be started with eigher character or underscore and not with number."
   ]
  },
  {
   "cell_type": "raw",
   "id": "100294f6",
   "metadata": {},
   "source": [
    "9. What three functions can be used to get the integer, floating-point number, or string\n",
    "version of a value?\n",
    "\n",
    "- int(), float(), str() are the three functions that can be used to get the integer, floating-point number, or string\n",
    "version of a value"
   ]
  },
  {
   "cell_type": "raw",
   "id": "8bf29581",
   "metadata": {},
   "source": [
    "10. Why does this expression cause an error? How can you fix it?\n",
    "'I have eaten ' + 99 + ' burritos.'\n",
    "\n",
    "- beacuse we are trying to concatenate/add string with integer(99) to fix it we have to convert 99 into string datatype by enclosing it in inverted commas or by type casting (using str()).\n",
    "\n",
    "'I have eaten ' + '99' + ' burritos.'"
   ]
  },
  {
   "cell_type": "raw",
   "id": "046e400d",
   "metadata": {},
   "source": []
  },
  {
   "cell_type": "raw",
   "id": "d77ab737",
   "metadata": {},
   "source": []
  },
  {
   "cell_type": "raw",
   "id": "c32e22fd",
   "metadata": {},
   "source": []
  },
  {
   "cell_type": "raw",
   "id": "e69fe58a",
   "metadata": {},
   "source": []
  },
  {
   "cell_type": "raw",
   "id": "a658d362",
   "metadata": {},
   "source": []
  },
  {
   "cell_type": "raw",
   "id": "b66665c2",
   "metadata": {},
   "source": []
  },
  {
   "cell_type": "raw",
   "id": "6f7e4ad5",
   "metadata": {},
   "source": []
  },
  {
   "cell_type": "raw",
   "id": "db10d209",
   "metadata": {},
   "source": []
  },
  {
   "cell_type": "raw",
   "id": "9227e21a",
   "metadata": {},
   "source": []
  },
  {
   "cell_type": "raw",
   "id": "4f160762",
   "metadata": {},
   "source": []
  },
  {
   "cell_type": "raw",
   "id": "7286733a",
   "metadata": {},
   "source": []
  },
  {
   "cell_type": "raw",
   "id": "a2435af5",
   "metadata": {},
   "source": []
  },
  {
   "cell_type": "raw",
   "id": "c2c86fcd",
   "metadata": {},
   "source": []
  },
  {
   "cell_type": "raw",
   "id": "6b135662",
   "metadata": {},
   "source": []
  },
  {
   "cell_type": "raw",
   "id": "5bc90cfd",
   "metadata": {},
   "source": []
  },
  {
   "cell_type": "code",
   "execution_count": null,
   "id": "c1a31fdc",
   "metadata": {},
   "outputs": [],
   "source": []
  }
 ],
 "metadata": {
  "kernelspec": {
   "display_name": "Python 3 (ipykernel)",
   "language": "python",
   "name": "python3"
  },
  "language_info": {
   "codemirror_mode": {
    "name": "ipython",
    "version": 3
   },
   "file_extension": ".py",
   "mimetype": "text/x-python",
   "name": "python",
   "nbconvert_exporter": "python",
   "pygments_lexer": "ipython3",
   "version": "3.7.13"
  }
 },
 "nbformat": 4,
 "nbformat_minor": 5
}
