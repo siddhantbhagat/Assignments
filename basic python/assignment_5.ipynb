{
 "cells": [
  {
   "cell_type": "markdown",
   "id": "75d73bb4",
   "metadata": {},
   "source": [
    "### 1. What does an empty dictionary&#39;s code look like?\n"
   ]
  },
  {
   "cell_type": "code",
   "execution_count": 3,
   "id": "9f7a2cf1",
   "metadata": {},
   "outputs": [],
   "source": [
    "x = {}"
   ]
  },
  {
   "cell_type": "code",
   "execution_count": 4,
   "id": "5d122ec0",
   "metadata": {},
   "outputs": [
    {
     "data": {
      "text/plain": [
       "dict"
      ]
     },
     "execution_count": 4,
     "metadata": {},
     "output_type": "execute_result"
    }
   ],
   "source": [
    "type(x)"
   ]
  },
  {
   "cell_type": "markdown",
   "id": "7e795456",
   "metadata": {},
   "source": [
    "### 2. What is the value of a dictionary value with the key &#39;foo&#39; and the value 42?"
   ]
  },
  {
   "cell_type": "code",
   "execution_count": 5,
   "id": "504d3580",
   "metadata": {},
   "outputs": [
    {
     "data": {
      "text/plain": [
       "42"
      ]
     },
     "execution_count": 5,
     "metadata": {},
     "output_type": "execute_result"
    }
   ],
   "source": [
    "42"
   ]
  },
  {
   "cell_type": "markdown",
   "id": "4eddabc7",
   "metadata": {},
   "source": [
    "### 3. What is the most significant distinction between a dictionary and a list?"
   ]
  },
  {
   "cell_type": "markdown",
   "id": "1088fa6a",
   "metadata": {},
   "source": [
    "dictionary holds values as key-value pair but list does not need keys. values in list are directly accessed by indexes."
   ]
  },
  {
   "cell_type": "markdown",
   "id": "8fbfc60a",
   "metadata": {},
   "source": [
    "### 4. What happens if you try to access spam[&#39;foo&#39;] if spam is {&#39;bar&#39;: 100}?"
   ]
  },
  {
   "cell_type": "markdown",
   "id": "a2f91c3b",
   "metadata": {},
   "source": [
    "it will give error as spam does not hold a key called 'foo'"
   ]
  },
  {
   "cell_type": "markdown",
   "id": "ef49af51",
   "metadata": {},
   "source": [
    "### 5. If a dictionary is stored in spam, what is the difference between the expressions &#39;cat&#39; in spam and &#39;cat&#39; in spam.keys()?"
   ]
  },
  {
   "cell_type": "markdown",
   "id": "80545d36",
   "metadata": {},
   "source": [
    "there is no difference as 'cat' in spam also search for key named 'cat'"
   ]
  },
  {
   "cell_type": "markdown",
   "id": "6e832eac",
   "metadata": {},
   "source": [
    "### 6. If a dictionary is stored in spam, what is the difference between the expressions &#39;cat&#39; in spam and &#39;cat&#39; in spam.values()?"
   ]
  },
  {
   "cell_type": "markdown",
   "id": "17aaa280",
   "metadata": {},
   "source": [
    "'cat' in spam searches for key as 'cat', where as 'cat' in spam.values() searches for value as 'cat'"
   ]
  },
  {
   "cell_type": "markdown",
   "id": "488df699",
   "metadata": {},
   "source": [
    "### 7. What is a shortcut for the following code?\n",
    "### if &#39;color&#39; not in spam:\n",
    "### spam[&#39;color&#39;] = &#39;black&#39;"
   ]
  },
  {
   "cell_type": "code",
   "execution_count": 31,
   "id": "8bb94065",
   "metadata": {},
   "outputs": [
    {
     "data": {
      "text/plain": [
       "{'cat': 12, 'color': 'black'}"
      ]
     },
     "execution_count": 31,
     "metadata": {},
     "output_type": "execute_result"
    }
   ],
   "source": [
    "spam['color'] = 'black' if 'color' not in spam else print(spam['color'])\n",
    "spam"
   ]
  },
  {
   "cell_type": "markdown",
   "id": "659a69ab",
   "metadata": {},
   "source": [
    "### 8. How do you &quot;pretty print&quot; dictionary values using which module and function?"
   ]
  },
  {
   "cell_type": "code",
   "execution_count": 32,
   "id": "538a7ad2",
   "metadata": {},
   "outputs": [],
   "source": [
    "from pprint import pprint"
   ]
  },
  {
   "cell_type": "code",
   "execution_count": 35,
   "id": "abd097b5",
   "metadata": {},
   "outputs": [
    {
     "name": "stdout",
     "output_type": "stream",
     "text": [
      "{'cat': 12, 'color': 'black'}\n"
     ]
    }
   ],
   "source": [
    "pprint(spam)"
   ]
  },
  {
   "cell_type": "markdown",
   "id": "edeb2e01",
   "metadata": {},
   "source": [
    "pprint module and pprint function are used to pretty print dictionary"
   ]
  },
  {
   "cell_type": "code",
   "execution_count": null,
   "id": "8b8c16f5",
   "metadata": {},
   "outputs": [],
   "source": []
  }
 ],
 "metadata": {
  "kernelspec": {
   "display_name": "Python 3 (ipykernel)",
   "language": "python",
   "name": "python3"
  },
  "language_info": {
   "codemirror_mode": {
    "name": "ipython",
    "version": 3
   },
   "file_extension": ".py",
   "mimetype": "text/x-python",
   "name": "python",
   "nbconvert_exporter": "python",
   "pygments_lexer": "ipython3",
   "version": "3.7.13"
  }
 },
 "nbformat": 4,
 "nbformat_minor": 5
}
