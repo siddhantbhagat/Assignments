{
 "cells": [
  {
   "cell_type": "markdown",
   "id": "10a53b3e",
   "metadata": {},
   "source": [
    "### 1. What exactly is []?"
   ]
  },
  {
   "cell_type": "code",
   "execution_count": 1,
   "id": "7869abee",
   "metadata": {},
   "outputs": [
    {
     "data": {
      "text/plain": [
       "list"
      ]
     },
     "execution_count": 1,
     "metadata": {},
     "output_type": "execute_result"
    }
   ],
   "source": [
    "d=[]\n",
    "type(d)"
   ]
  },
  {
   "cell_type": "markdown",
   "id": "e5eeae93",
   "metadata": {},
   "source": [
    "these [] sqaure brackets are used to create empty list."
   ]
  },
  {
   "cell_type": "markdown",
   "id": "9eb6bb18",
   "metadata": {},
   "source": [
    "### 2. In a list of values stored in a variable called spam, how would you assign the value &#39;hello&#39; as the third value? (Assume [2, 4, 6, 8, 10] are in spam.) Let&#39;s pretend the spam includes the list [&#39;a&#39;, &#39;b&#39;, &#39;c&#39;, &#39;d&#39;] for the next three queries."
   ]
  },
  {
   "cell_type": "code",
   "execution_count": 2,
   "id": "141355b8",
   "metadata": {},
   "outputs": [],
   "source": [
    "spam =[2,4,6,8,10]"
   ]
  },
  {
   "cell_type": "code",
   "execution_count": 3,
   "id": "66ccfb59",
   "metadata": {},
   "outputs": [],
   "source": [
    "spam[3]='hello'"
   ]
  },
  {
   "cell_type": "code",
   "execution_count": 4,
   "id": "77806bbd",
   "metadata": {},
   "outputs": [
    {
     "data": {
      "text/plain": [
       "[2, 4, 6, 'hello', 10]"
      ]
     },
     "execution_count": 4,
     "metadata": {},
     "output_type": "execute_result"
    }
   ],
   "source": [
    "spam"
   ]
  },
  {
   "cell_type": "markdown",
   "id": "92a3bb08",
   "metadata": {},
   "source": [
    "### 3. What is the value of spam[int(int(&#39;3&#39; * 2) / 11)]?"
   ]
  },
  {
   "cell_type": "code",
   "execution_count": 5,
   "id": "a2bbc3e3",
   "metadata": {},
   "outputs": [],
   "source": [
    "spam =['a','b','c','d']"
   ]
  },
  {
   "cell_type": "code",
   "execution_count": 6,
   "id": "2f60c467",
   "metadata": {},
   "outputs": [
    {
     "data": {
      "text/plain": [
       "'d'"
      ]
     },
     "execution_count": 6,
     "metadata": {},
     "output_type": "execute_result"
    }
   ],
   "source": [
    "spam[int(int('3'*2)/11)]"
   ]
  },
  {
   "cell_type": "markdown",
   "id": "b964d94e",
   "metadata": {},
   "source": [
    "here '3'*2 gives string '33', then '33' is type casted into integer so 33/11 is 3 and it will give value 3rd index (4th value) in the list."
   ]
  },
  {
   "cell_type": "markdown",
   "id": "6f2c3548",
   "metadata": {},
   "source": [
    "### 4. What is the value of spam[-1]?"
   ]
  },
  {
   "cell_type": "markdown",
   "id": "bc3ca8b9",
   "metadata": {},
   "source": [
    "spam[-1] will give a value at last index of list"
   ]
  },
  {
   "cell_type": "code",
   "execution_count": 8,
   "id": "5dd8556b",
   "metadata": {},
   "outputs": [
    {
     "data": {
      "text/plain": [
       "'d'"
      ]
     },
     "execution_count": 8,
     "metadata": {},
     "output_type": "execute_result"
    }
   ],
   "source": [
    "spam[-1]"
   ]
  },
  {
   "cell_type": "markdown",
   "id": "7fa2112b",
   "metadata": {},
   "source": [
    "### 5. What is the value of spam[:2]? Let&#39;s pretend bacon has the list [3.14, &#39;cat,&#39; 11, &#39;cat,&#39; True] for the next three questions."
   ]
  },
  {
   "cell_type": "markdown",
   "id": "d2c435cb",
   "metadata": {},
   "source": [
    "spam[:2] will give first two elements of the list"
   ]
  },
  {
   "cell_type": "code",
   "execution_count": 10,
   "id": "fec26b7a",
   "metadata": {},
   "outputs": [
    {
     "data": {
      "text/plain": [
       "['a', 'b']"
      ]
     },
     "execution_count": 10,
     "metadata": {},
     "output_type": "execute_result"
    }
   ],
   "source": [
    "spam[:2]"
   ]
  },
  {
   "cell_type": "markdown",
   "id": "d3a3628a",
   "metadata": {},
   "source": [
    "### 6. What is the value of bacon.index(&#39;cat&#39;)?"
   ]
  },
  {
   "cell_type": "markdown",
   "id": "90e36557",
   "metadata": {},
   "source": [
    "bacon.index('cat') will give index of first occurence of string cat"
   ]
  },
  {
   "cell_type": "code",
   "execution_count": 11,
   "id": "95551f37",
   "metadata": {},
   "outputs": [],
   "source": [
    "bacon=[3.14,'cat',11,'cat',True]"
   ]
  },
  {
   "cell_type": "code",
   "execution_count": 12,
   "id": "10994602",
   "metadata": {},
   "outputs": [
    {
     "data": {
      "text/plain": [
       "1"
      ]
     },
     "execution_count": 12,
     "metadata": {},
     "output_type": "execute_result"
    }
   ],
   "source": [
    "bacon.index('cat')"
   ]
  },
  {
   "cell_type": "markdown",
   "id": "3c2ef97c",
   "metadata": {},
   "source": [
    "### 7. How does bacon.append(99) change the look of the list value in bacon?"
   ]
  },
  {
   "cell_type": "markdown",
   "id": "45f0f4e1",
   "metadata": {},
   "source": [
    "it will add 99 at the end in the list"
   ]
  },
  {
   "cell_type": "code",
   "execution_count": 13,
   "id": "d8944df6",
   "metadata": {},
   "outputs": [],
   "source": [
    "bacon.append(99)"
   ]
  },
  {
   "cell_type": "code",
   "execution_count": 14,
   "id": "8c9aba22",
   "metadata": {},
   "outputs": [
    {
     "data": {
      "text/plain": [
       "[3.14, 'cat', 11, 'cat', True, 99]"
      ]
     },
     "execution_count": 14,
     "metadata": {},
     "output_type": "execute_result"
    }
   ],
   "source": [
    "bacon"
   ]
  },
  {
   "cell_type": "markdown",
   "id": "a3883614",
   "metadata": {},
   "source": [
    "### 8. How does bacon.remove(&#39;cat&#39;) change the look of the list in bacon?"
   ]
  },
  {
   "cell_type": "markdown",
   "id": "befaf555",
   "metadata": {},
   "source": [
    "it will remove first occurence of the string cat"
   ]
  },
  {
   "cell_type": "code",
   "execution_count": 17,
   "id": "f7042cdd",
   "metadata": {},
   "outputs": [],
   "source": [
    "bacon.remove('cat')"
   ]
  },
  {
   "cell_type": "code",
   "execution_count": 16,
   "id": "a27c932f",
   "metadata": {},
   "outputs": [
    {
     "data": {
      "text/plain": [
       "[3.14, 11, 'cat', True, 99]"
      ]
     },
     "execution_count": 16,
     "metadata": {},
     "output_type": "execute_result"
    }
   ],
   "source": [
    "bacon"
   ]
  },
  {
   "cell_type": "markdown",
   "id": "9ea3f86a",
   "metadata": {},
   "source": [
    "### 9. What are the list concatenation and list replication operators?"
   ]
  },
  {
   "cell_type": "markdown",
   "id": "3f0f8f74",
   "metadata": {},
   "source": [
    "+ and * are concatanation and replication operators"
   ]
  },
  {
   "cell_type": "code",
   "execution_count": 18,
   "id": "775d3405",
   "metadata": {},
   "outputs": [
    {
     "data": {
      "text/plain": [
       "['a', 'b', 'c', 'd', 3.14, 11, 'cat', True, 99]"
      ]
     },
     "execution_count": 18,
     "metadata": {},
     "output_type": "execute_result"
    }
   ],
   "source": [
    "spam+bacon"
   ]
  },
  {
   "cell_type": "code",
   "execution_count": 19,
   "id": "a7f4fe3d",
   "metadata": {},
   "outputs": [
    {
     "data": {
      "text/plain": [
       "['a', 'b', 'c', 'd', 'a', 'b', 'c', 'd']"
      ]
     },
     "execution_count": 19,
     "metadata": {},
     "output_type": "execute_result"
    }
   ],
   "source": [
    "spam*2"
   ]
  },
  {
   "cell_type": "markdown",
   "id": "b8de972d",
   "metadata": {},
   "source": [
    "### 10. What is difference between the list methods append() and insert()?"
   ]
  },
  {
   "cell_type": "markdown",
   "id": "a5910472",
   "metadata": {},
   "source": [
    "'append()' adds element to last index where as 'insert()' can be used to insert element to any index"
   ]
  },
  {
   "cell_type": "code",
   "execution_count": 24,
   "id": "1e4544aa",
   "metadata": {},
   "outputs": [],
   "source": [
    "spam.insert(87,2)"
   ]
  },
  {
   "cell_type": "code",
   "execution_count": 25,
   "id": "3e0fba07",
   "metadata": {},
   "outputs": [
    {
     "data": {
      "text/plain": [
       "['a', 'b', 87, 'c', 'd']"
      ]
     },
     "execution_count": 25,
     "metadata": {},
     "output_type": "execute_result"
    }
   ],
   "source": [
    "spam"
   ]
  },
  {
   "cell_type": "markdown",
   "id": "6a0ffa54",
   "metadata": {},
   "source": [
    "### 11. What are the two methods for removing items from a list?"
   ]
  },
  {
   "cell_type": "raw",
   "id": "388c8ee3",
   "metadata": {},
   "source": [
    "remove and pop are two methods to remove items from the list. remove tekes perticular element as parameter where as pop takes index as arg."
   ]
  },
  {
   "cell_type": "code",
   "execution_count": 26,
   "id": "6e47dc08",
   "metadata": {},
   "outputs": [
    {
     "name": "stdout",
     "output_type": "stream",
     "text": [
      "['a', 'b', 'c', 'd']\n",
      "['b', 'c', 'd']\n"
     ]
    }
   ],
   "source": [
    "spam.remove(87)\n",
    "print(spam)\n",
    "spam.pop(0)\n",
    "print(spam)"
   ]
  },
  {
   "cell_type": "markdown",
   "id": "1eea2b68",
   "metadata": {},
   "source": [
    "### 12. Describe how list values and string values are identical."
   ]
  },
  {
   "cell_type": "markdown",
   "id": "920424e0",
   "metadata": {},
   "source": [
    "apart from the fact that strings are immutable almost all the operation are common to the list and strings.like indexing, slicing and iterating. they can also be concatanated and replicated"
   ]
  },
  {
   "cell_type": "markdown",
   "id": "4bf70c02",
   "metadata": {},
   "source": [
    "### 13. What&#39;s the difference between tuples and lists?"
   ]
  },
  {
   "cell_type": "markdown",
   "id": "7997ea0e",
   "metadata": {},
   "source": [
    "tuples are immutable where as list are mutable.\n",
    "tuples are enclosed in () round brackets where as list are enclosed in square brackets."
   ]
  },
  {
   "cell_type": "markdown",
   "id": "32e423f5",
   "metadata": {},
   "source": [
    "### 14. How do you type a tuple value that only contains the integer 42?"
   ]
  },
  {
   "cell_type": "code",
   "execution_count": 29,
   "id": "1a8e875c",
   "metadata": {},
   "outputs": [],
   "source": [
    "x=(42,)"
   ]
  },
  {
   "cell_type": "code",
   "execution_count": 30,
   "id": "45ab4678",
   "metadata": {},
   "outputs": [
    {
     "data": {
      "text/plain": [
       "tuple"
      ]
     },
     "execution_count": 30,
     "metadata": {},
     "output_type": "execute_result"
    }
   ],
   "source": [
    "type(x)"
   ]
  },
  {
   "cell_type": "markdown",
   "id": "a6a543a4",
   "metadata": {},
   "source": [
    "### 15. How do you get a list value&#39;s tuple form? How do you get a tuple value&#39;s list form?"
   ]
  },
  {
   "cell_type": "code",
   "execution_count": 31,
   "id": "9f33d085",
   "metadata": {},
   "outputs": [
    {
     "name": "stdout",
     "output_type": "stream",
     "text": [
      "('b', 'c', 'd')\n"
     ]
    }
   ],
   "source": [
    "spam=tuple(spam)\n",
    "print(spam)"
   ]
  },
  {
   "cell_type": "code",
   "execution_count": 32,
   "id": "0ac03c5f",
   "metadata": {},
   "outputs": [
    {
     "name": "stdout",
     "output_type": "stream",
     "text": [
      "<class 'tuple'>\n",
      "['b', 'c', 'd'] <class 'list'>\n"
     ]
    }
   ],
   "source": [
    "print(type(spam))\n",
    "spam=list(spam)\n",
    "print(spam,type(spam))"
   ]
  },
  {
   "cell_type": "markdown",
   "id": "d19de3c2",
   "metadata": {},
   "source": [
    "### 16. Variables that &quot;contain&quot; list values are not necessarily lists themselves. Instead, what do they contain?"
   ]
  },
  {
   "cell_type": "markdown",
   "id": "ebfe085a",
   "metadata": {},
   "source": [
    "adress of the first element of the list."
   ]
  },
  {
   "cell_type": "markdown",
   "id": "4765ee12",
   "metadata": {},
   "source": [
    "### 17. How do you distinguish between copy.copy() and copy.deepcopy()?"
   ]
  },
  {
   "cell_type": "code",
   "execution_count": 46,
   "id": "1abd66f0",
   "metadata": {},
   "outputs": [
    {
     "name": "stdout",
     "output_type": "stream",
     "text": [
      "[3.14, 11, 'cat', True, 99, ['b', 'c', 'd']] [3.14, 11, 'cat', True, 99, ['b', 'c', 'd']]\n"
     ]
    }
   ],
   "source": [
    "import copy\n",
    "bacon.append(spam)\n",
    "x= bacon.copy()\n",
    "y= copy.deepcopy(bacon)\n",
    "print(x,y,end ='\\n')"
   ]
  },
  {
   "cell_type": "code",
   "execution_count": 48,
   "id": "169aa2d1",
   "metadata": {},
   "outputs": [
    {
     "name": "stdout",
     "output_type": "stream",
     "text": [
      "162199176 162199176 161547016\n"
     ]
    }
   ],
   "source": [
    "print(id(bacon[-1]),id(x[-1]),id(y[-1]))"
   ]
  },
  {
   "cell_type": "markdown",
   "id": "89aac684",
   "metadata": {},
   "source": [
    "as you can see above when an iterable object contains another iterable copy.copy saves original address of nested iterable where as deepcopy doesn't do that"
   ]
  },
  {
   "cell_type": "code",
   "execution_count": null,
   "id": "a1e70254",
   "metadata": {},
   "outputs": [],
   "source": []
  }
 ],
 "metadata": {
  "kernelspec": {
   "display_name": "Python 3 (ipykernel)",
   "language": "python",
   "name": "python3"
  },
  "language_info": {
   "codemirror_mode": {
    "name": "ipython",
    "version": 3
   },
   "file_extension": ".py",
   "mimetype": "text/x-python",
   "name": "python",
   "nbconvert_exporter": "python",
   "pygments_lexer": "ipython3",
   "version": "3.7.13"
  }
 },
 "nbformat": 4,
 "nbformat_minor": 5
}
