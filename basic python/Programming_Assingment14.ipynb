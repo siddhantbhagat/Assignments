{
 "cells": [
  {
   "cell_type": "markdown",
   "id": "5eb5f888",
   "metadata": {},
   "source": [
    "Question 1:\n",
    "\n",
    "Define a class with a generator which can iterate the numbers, which are divisible by 7, between a given range 0 and n."
   ]
  },
  {
   "cell_type": "code",
   "execution_count": 29,
   "id": "10180bbd",
   "metadata": {},
   "outputs": [],
   "source": [
    "class gen:\n",
    "    def __init__(self,n):\n",
    "        self.n=n\n",
    "        \n",
    "    def div_seven(self):\n",
    "        for i in range(self.n+1):\n",
    "            if i%7==0:\n",
    "                yield i"
   ]
  },
  {
   "cell_type": "markdown",
   "id": "0bdcbbba",
   "metadata": {},
   "source": [
    "Question 2:\n",
    "Write a program to compute the frequency of the words from the input. The output should output after sorting the key alphanumerically. \n",
    "\n",
    "Suppose the following input is supplied to the program:\n",
    "\n",
    "New to Python or choosing between Python 2 and Python 3? Read Python 2 or Python 3.\n",
    "\n",
    "Then, the output should be:\n",
    "\n",
    "2:2\n",
    "\n",
    "3.:1\n",
    "\n",
    "3?:1\n",
    "\n",
    "New:1\n",
    "\n",
    "Python:5\n",
    "\n",
    "Read:1\n",
    "\n",
    "and:1\n",
    "\n",
    "between:1\n",
    "\n",
    "choosing:1\n",
    "\n",
    "or:2\n",
    "\n",
    "to:1"
   ]
  },
  {
   "cell_type": "code",
   "execution_count": 6,
   "id": "e5e06190",
   "metadata": {},
   "outputs": [
    {
     "name": "stdout",
     "output_type": "stream",
     "text": [
      "{'2': 2, '3.': 1, '3?': 1, 'New': 1, 'Python': 5, 'Read': 1, 'and': 1, 'between': 1, 'choosing': 1, 'or': 2, 'to': 1}\n"
     ]
    }
   ],
   "source": [
    "string ='New to Python or choosing between Python 2 and Python 3? Read Python 2 or Python 3.'\n",
    "dic={}\n",
    "x=list(set(string.split()))\n",
    "x.sort()\n",
    "for i in x:\n",
    "    dic[i]=string.count(i)\n",
    "\n",
    "print(dic)"
   ]
  },
  {
   "cell_type": "markdown",
   "id": "956ca231",
   "metadata": {},
   "source": [
    "\n",
    "\n",
    "### Question 3:\n",
    "Define a class Person and its two child classes: Male and Female. All classes have a method \"getGender\" which can print \"Male\" for Male class and \"Female\" for Female class."
   ]
  },
  {
   "cell_type": "code",
   "execution_count": 43,
   "id": "3f4c2351",
   "metadata": {},
   "outputs": [],
   "source": [
    "class Person:\n",
    "    def getGender(self):\n",
    "        pass\n",
    "\n",
    "class Male(Person): \n",
    "    def getGender(self):\n",
    "        print('Male')\n",
    "        \n",
    "class Female(Person): \n",
    "    def getGender(self):\n",
    "        print('Female')"
   ]
  },
  {
   "cell_type": "code",
   "execution_count": 44,
   "id": "9045a17c",
   "metadata": {},
   "outputs": [
    {
     "name": "stdout",
     "output_type": "stream",
     "text": [
      "Male\n",
      "Female\n"
     ]
    }
   ],
   "source": [
    "male=Male()\n",
    "male.getGender()\n",
    "\n",
    "female=Female()\n",
    "female.getGender()"
   ]
  },
  {
   "cell_type": "markdown",
   "id": "548898a0",
   "metadata": {},
   "source": [
    "Question 4:\n",
    "Please write a program to generate all sentences where subject is in [\"I\", \"You\"] and verb is in [\"Play\", \"Love\"] and the object is in [\"Hockey\",\"Football\"]."
   ]
  },
  {
   "cell_type": "code",
   "execution_count": 12,
   "id": "5d9a7162",
   "metadata": {},
   "outputs": [
    {
     "name": "stdout",
     "output_type": "stream",
     "text": [
      "I Play Hockey\n",
      "I Play Football\n",
      "I Love Hockey\n",
      "I Love Football\n",
      "You Play Hockey\n",
      "You Play Football\n",
      "You Love Hockey\n",
      "You Love Football\n"
     ]
    }
   ],
   "source": [
    "for i in [\"I\", \"You\"]:\n",
    "    for j in [\"Play\", \"Love\"]:\n",
    "        for k in [\"Hockey\",\"Football\"]:\n",
    "            print(f'{i} {j} {k}')"
   ]
  },
  {
   "cell_type": "markdown",
   "id": "3fe1d36b",
   "metadata": {},
   "source": [
    "Question 5:\n",
    "Please write a program to compress and decompress the string \"hello world!hello world!hello world!hello world!\"."
   ]
  },
  {
   "cell_type": "code",
   "execution_count": 45,
   "id": "cdf543e4",
   "metadata": {},
   "outputs": [],
   "source": [
    "import gzip"
   ]
  },
  {
   "cell_type": "code",
   "execution_count": 50,
   "id": "dae23a57",
   "metadata": {},
   "outputs": [
    {
     "name": "stdout",
     "output_type": "stream",
     "text": [
      "b'\\x1f\\x8b\\x08\\x00F\\rvd\\x02\\xff\\xcbH\\xcd\\xc9\\xc9W(\\xcf/\\xcaIQ\\xcc \\x82\\r\\x00\\xd3\\xe6\\xcf\\xae0\\x00\\x00\\x00'\n",
      "hello world!hello world!hello world!hello world!\n"
     ]
    }
   ],
   "source": [
    "string = \"hello world!hello world!hello world!hello world!\"\n",
    "def compress_string(string):\n",
    "    return gzip.compress(string.encode())\n",
    "compressed=compress_string(string)\n",
    "print(compressed)\n",
    "def decompress_string(string):\n",
    "    return gzip.decompress(string).decode()\n",
    "decompressed=decompress_string(compressed)\n",
    "print(decompressed)"
   ]
  },
  {
   "cell_type": "markdown",
   "id": "5a9afb94",
   "metadata": {},
   "source": [
    "Question 6:\n",
    "Please write a binary search function which searches an item in a sorted list. The function should return the index of element to be searched in the list."
   ]
  },
  {
   "cell_type": "code",
   "execution_count": 23,
   "id": "a375b342",
   "metadata": {},
   "outputs": [
    {
     "data": {
      "text/plain": [
       "6"
      ]
     },
     "execution_count": 23,
     "metadata": {},
     "output_type": "execute_result"
    }
   ],
   "source": [
    "sorted_list=[1,2,3,4,5,6,7,8,9,10,11,12,13]\n",
    "def binary_search(sorted_list,x):\n",
    "    s=0\n",
    "    m=int(len(sorted_list)/2)\n",
    "    e=len(sorted_list)\n",
    "    while sorted_list[m]!=x:\n",
    "        if sorted_list[m] < x:\n",
    "            s=m\n",
    "            m=int((e+m)/2)\n",
    "        if sorted_list[m] > x:\n",
    "            e=m\n",
    "            m=int((s+m)/2)\n",
    "    return m\n",
    "binary_search(sorted_list,7)            "
   ]
  },
  {
   "cell_type": "code",
   "execution_count": null,
   "id": "c0de5db7",
   "metadata": {},
   "outputs": [],
   "source": []
  }
 ],
 "metadata": {
  "kernelspec": {
   "display_name": "Python 3 (ipykernel)",
   "language": "python",
   "name": "python3"
  },
  "language_info": {
   "codemirror_mode": {
    "name": "ipython",
    "version": 3
   },
   "file_extension": ".py",
   "mimetype": "text/x-python",
   "name": "python",
   "nbconvert_exporter": "python",
   "pygments_lexer": "ipython3",
   "version": "3.9.13"
  }
 },
 "nbformat": 4,
 "nbformat_minor": 5
}
