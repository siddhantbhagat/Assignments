{
 "cells": [
  {
   "cell_type": "markdown",
   "id": "e657378c",
   "metadata": {},
   "source": [
    "### 1. Is the Python Standard Library included with PyInputPlus?"
   ]
  },
  {
   "cell_type": "markdown",
   "id": "76aac606",
   "metadata": {},
   "source": [
    "NO"
   ]
  },
  {
   "cell_type": "markdown",
   "id": "c7f9975a",
   "metadata": {},
   "source": [
    "### 2. Why is PyInputPlus commonly imported with import pyinputplus as pypi?"
   ]
  },
  {
   "cell_type": "markdown",
   "id": "b17674c9",
   "metadata": {},
   "source": [
    "to save time and make code shorter"
   ]
  },
  {
   "cell_type": "markdown",
   "id": "7dbb060e",
   "metadata": {},
   "source": [
    "### 3. How do you distinguish between inputInt() and inputFloat()?"
   ]
  },
  {
   "cell_type": "markdown",
   "id": "c5abc816",
   "metadata": {},
   "source": [
    "The inputInt() function returns an int value, while the inputFloat() function returns a float value"
   ]
  },
  {
   "cell_type": "markdown",
   "id": "95765f41",
   "metadata": {},
   "source": [
    "### 4. Using PyInputPlus, how do you ensure that the user enters a whole number between 0 and 99?"
   ]
  },
  {
   "cell_type": "markdown",
   "id": "18b7ed70",
   "metadata": {},
   "source": [
    "pyip.inputint(min=0, max=99)"
   ]
  },
  {
   "cell_type": "markdown",
   "id": "cf357f9a",
   "metadata": {},
   "source": [
    "### 5. What is transferred to the keyword arguments allowRegexes and blockRegexes?"
   ]
  },
  {
   "cell_type": "markdown",
   "id": "04dc7534",
   "metadata": {},
   "source": [
    "we can use regular expressions to specify whether an input is allowed or not. The allowRegexes and blockRegexes keyword arguments take a list of regular expression strings to determine what the PyInputPlus function will accept or reject as valid input."
   ]
  },
  {
   "cell_type": "markdown",
   "id": "0e6b3f13",
   "metadata": {},
   "source": [
    "### 6. If a blank input is entered three times, what does inputStr(limit=3) do?"
   ]
  },
  {
   "cell_type": "markdown",
   "id": "3510af8c",
   "metadata": {},
   "source": [
    "it will raise a RetryLimitException"
   ]
  },
  {
   "cell_type": "markdown",
   "id": "4aa59dd9",
   "metadata": {},
   "source": [
    "### 7. If blank input is entered three times, what does inputStr(limit=3, default=&#39;hello&#39;) do?"
   ]
  },
  {
   "cell_type": "markdown",
   "id": "604c7c7c",
   "metadata": {},
   "source": [
    "it will return 'hello'"
   ]
  },
  {
   "cell_type": "code",
   "execution_count": null,
   "id": "4f15a0a3",
   "metadata": {},
   "outputs": [],
   "source": []
  }
 ],
 "metadata": {
  "kernelspec": {
   "display_name": "Python 3 (ipykernel)",
   "language": "python",
   "name": "python3"
  },
  "language_info": {
   "codemirror_mode": {
    "name": "ipython",
    "version": 3
   },
   "file_extension": ".py",
   "mimetype": "text/x-python",
   "name": "python",
   "nbconvert_exporter": "python",
   "pygments_lexer": "ipython3",
   "version": "3.9.13"
  }
 },
 "nbformat": 4,
 "nbformat_minor": 5
}
