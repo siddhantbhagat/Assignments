{
 "cells": [
  {
   "cell_type": "markdown",
   "id": "e5e403b8",
   "metadata": {},
   "source": [
    "1.\tWrite a Python program to Extract Unique values dictionary values?\n",
    "2.\tWrite a Python program to find the sum of all items in a dictionary?\n",
    "3.\tWrite a Python program to Merging two Dictionaries?\n",
    "4.\tWrite a Python program to convert key-values list to flat dictionary?\n",
    "5.\tWrite a Python program to insertion at the beginning in OrderedDict?\n",
    "6.\tWrite a Python program to check order of character in string using OrderedDict()?\n",
    "7.\tWrite a Python program to sort Python Dictionaries by Key or Value?\n"
   ]
  },
  {
   "cell_type": "code",
   "execution_count": 25,
   "id": "742b2e58",
   "metadata": {},
   "outputs": [
    {
     "name": "stdout",
     "output_type": "stream",
     "text": [
      "{'a': '1', 'b': '3', 'c': '2', 'd': '6', 's': '5', 'g': '7', 'l': '8', 'v': '9', 'n': '6', 'r': '4'}\n"
     ]
    }
   ],
   "source": [
    "dic={}\n",
    "for k,v in zip('a b c d s d g l v n r'.split(),'1 3 2 4 5 6 7 8 9 6 4'.split()):\n",
    "    dic[k]=v\n",
    "print(dic)"
   ]
  },
  {
   "cell_type": "code",
   "execution_count": 26,
   "id": "e0f26abf",
   "metadata": {},
   "outputs": [
    {
     "data": {
      "text/plain": [
       "{'1', '2', '3', '4', '5', '6', '7', '8', '9'}"
      ]
     },
     "execution_count": 26,
     "metadata": {},
     "output_type": "execute_result"
    }
   ],
   "source": [
    "#que 1\n",
    "def unique_dic_values(dic):\n",
    "    return set(dic.values())\n",
    "unique_dic_values(dic)"
   ]
  },
  {
   "cell_type": "code",
   "execution_count": 27,
   "id": "168e8573",
   "metadata": {},
   "outputs": [
    {
     "data": {
      "text/plain": [
       "51"
      ]
     },
     "execution_count": 27,
     "metadata": {},
     "output_type": "execute_result"
    }
   ],
   "source": [
    "#que 2\n",
    "def sum_dic_values(dic):\n",
    "    return sum([int(i) for i in dic.values()])\n",
    "sum_dic_values(dic)"
   ]
  },
  {
   "cell_type": "code",
   "execution_count": 19,
   "id": "1a298fc4",
   "metadata": {},
   "outputs": [
    {
     "name": "stdout",
     "output_type": "stream",
     "text": [
      "{'q': '1', 'w': '3', 'e': '2', 'r': '7', 'z': '5', 'x': '6', 'j': '7', 'i': '8', 'v': '10', 'n': '6'}\n"
     ]
    }
   ],
   "source": [
    "dic1={}\n",
    "for k,v in zip('q w e r z x j i v n r'.split(),'1 3 2 4 5 6 7 8 10 6 7'.split()):\n",
    "    dic1[k]=v\n",
    "print(dic1)"
   ]
  },
  {
   "cell_type": "code",
   "execution_count": 20,
   "id": "3090eef0",
   "metadata": {},
   "outputs": [],
   "source": [
    "#que-3\n",
    "dic.update(dic1)"
   ]
  },
  {
   "cell_type": "code",
   "execution_count": 21,
   "id": "6e15c3a8",
   "metadata": {},
   "outputs": [
    {
     "data": {
      "text/plain": [
       "{'a': '1',\n",
       " 'b': '8',\n",
       " 'c': '7',\n",
       " 'd': '6',\n",
       " 's': '5',\n",
       " 'g': '7',\n",
       " 'l': '8',\n",
       " 'v': '10',\n",
       " 'n': '6',\n",
       " 'r': '7',\n",
       " 'q': '1',\n",
       " 'w': '3',\n",
       " 'e': '2',\n",
       " 'z': '5',\n",
       " 'x': '6',\n",
       " 'j': '7',\n",
       " 'i': '8'}"
      ]
     },
     "execution_count": 21,
     "metadata": {},
     "output_type": "execute_result"
    }
   ],
   "source": [
    "dic"
   ]
  },
  {
   "cell_type": "code",
   "execution_count": 29,
   "id": "229df10f",
   "metadata": {},
   "outputs": [
    {
     "name": "stdout",
     "output_type": "stream",
     "text": [
      "{'a': '1', 'b': '3', 'c': '2', 'd': '6', 's': '5', 'g': '7', 'l': '8', 'v': '9', 'n': '6', 'r': '4'}\n"
     ]
    }
   ],
   "source": [
    "# que 4\n",
    "alpha=['a', 'b', 'c', 'd', 's', 'd', 'g', 'l', 'v', 'n', 'r']\n",
    "num=['1', '3', '2', '4', '5', '6', '7', '8', '9', '6', '4']\n",
    "dic4={}\n",
    "for k,v in zip(alpha,num):\n",
    "    dic4[k]=v\n",
    "print(dic4)"
   ]
  },
  {
   "cell_type": "code",
   "execution_count": 37,
   "id": "148f77a9",
   "metadata": {},
   "outputs": [
    {
     "name": "stdout",
     "output_type": "stream",
     "text": [
      "Original OrderedDict: OrderedDict([('a', 1), ('b', 2), ('c', 3)])\n",
      "Modified OrderedDict: OrderedDict([('x', 99), ('a', 1), ('b', 2), ('c', 3)])\n"
     ]
    }
   ],
   "source": [
    "# que 5\n",
    "from collections import OrderedDict\n",
    "\n",
    "def insert_at_beginning(ordered_dict, key, value):\n",
    "    # Move existing key-value pairs to the end\n",
    "    ordered_dict[key] = value\n",
    "    ordered_dict.move_to_end(key, last=False)\n",
    "\n",
    "    # Add the new key-value pair at the beginning\n",
    "#     ordered_dict[key] = value\n",
    "\n",
    "# Example usage\n",
    "ordered_dict = OrderedDict([('a', 1), ('b', 2), ('c', 3)])\n",
    "\n",
    "print(\"Original OrderedDict:\", ordered_dict)\n",
    "\n",
    "insert_at_beginning(ordered_dict, 'x', 99)\n",
    "\n",
    "print(\"Modified OrderedDict:\", ordered_dict)\n"
   ]
  },
  {
   "cell_type": "code",
   "execution_count": 35,
   "id": "70660c40",
   "metadata": {},
   "outputs": [],
   "source": [
    "# !pip install collection"
   ]
  },
  {
   "cell_type": "code",
   "execution_count": 42,
   "id": "8b38fc2d",
   "metadata": {},
   "outputs": [
    {
     "name": "stdout",
     "output_type": "stream",
     "text": [
      "order of char in 'hello world' is 'helo wrd'\n"
     ]
    }
   ],
   "source": [
    "# que 6\n",
    "def check_order_of_characters(string):\n",
    "    ordered_dict = OrderedDict()\n",
    "    for char in string:\n",
    "        if char not in ordered_dict:\n",
    "            ordered_dict[char] = None\n",
    "    return ''.join(ordered_dict.keys())\n",
    "\n",
    "# Example usage\n",
    "input_string = \"hello world\"\n",
    "\n",
    "ordered_chars = check_order_of_characters(input_string)\n",
    "\n",
    "print(f'order of char in \\'{input_string}\\' is \\'{ordered_chars}\\'')"
   ]
  },
  {
   "cell_type": "code",
   "execution_count": 39,
   "id": "8f5d8a7c",
   "metadata": {},
   "outputs": [
    {
     "data": {
      "text/plain": [
       "'helo wrd'"
      ]
     },
     "execution_count": 39,
     "metadata": {},
     "output_type": "execute_result"
    }
   ],
   "source": [
    "ordered_chars"
   ]
  },
  {
   "cell_type": "code",
   "execution_count": 43,
   "id": "92443390",
   "metadata": {},
   "outputs": [],
   "source": [
    "def sort_dictionary_by_key(dictionary):\n",
    "    sorted_dict = dict(sorted(dictionary.items(), key=lambda item: item[0]))\n",
    "    return sorted_dict\n",
    "\n",
    "def sort_dictionary_by_value(dictionary):\n",
    "    sorted_dict = dict(sorted(dictionary.items(), key=lambda item: item[1]))\n",
    "    return sorted_dict"
   ]
  },
  {
   "cell_type": "code",
   "execution_count": 49,
   "id": "06e8246f",
   "metadata": {},
   "outputs": [
    {
     "data": {
      "text/plain": [
       "{'a': '1',\n",
       " 'b': '3',\n",
       " 'c': '2',\n",
       " 'd': '6',\n",
       " 'g': '7',\n",
       " 'l': '8',\n",
       " 'n': '6',\n",
       " 'r': '4',\n",
       " 's': '5',\n",
       " 'v': '9'}"
      ]
     },
     "execution_count": 49,
     "metadata": {},
     "output_type": "execute_result"
    }
   ],
   "source": [
    "sort_dictionary_by_key(dic4)"
   ]
  },
  {
   "cell_type": "code",
   "execution_count": 50,
   "id": "c17d8db5",
   "metadata": {},
   "outputs": [
    {
     "data": {
      "text/plain": [
       "{'a': '1',\n",
       " 'c': '2',\n",
       " 'b': '3',\n",
       " 'r': '4',\n",
       " 's': '5',\n",
       " 'd': '6',\n",
       " 'n': '6',\n",
       " 'g': '7',\n",
       " 'l': '8',\n",
       " 'v': '9'}"
      ]
     },
     "execution_count": 50,
     "metadata": {},
     "output_type": "execute_result"
    }
   ],
   "source": [
    "sort_dictionary_by_value(dic)"
   ]
  },
  {
   "cell_type": "code",
   "execution_count": null,
   "id": "ec097e96",
   "metadata": {},
   "outputs": [],
   "source": []
  }
 ],
 "metadata": {
  "kernelspec": {
   "display_name": "Python 3 (ipykernel)",
   "language": "python",
   "name": "python3"
  },
  "language_info": {
   "codemirror_mode": {
    "name": "ipython",
    "version": 3
   },
   "file_extension": ".py",
   "mimetype": "text/x-python",
   "name": "python",
   "nbconvert_exporter": "python",
   "pygments_lexer": "ipython3",
   "version": "3.9.13"
  }
 },
 "nbformat": 4,
 "nbformat_minor": 5
}
