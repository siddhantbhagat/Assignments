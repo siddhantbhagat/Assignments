{
 "cells": [
  {
   "cell_type": "markdown",
   "id": "39519d2d",
   "metadata": {},
   "source": [
    "### 1. In what modes should the PdfFileReader() and PdfFileWriter() File objects will be opened?"
   ]
  },
  {
   "cell_type": "markdown",
   "id": "d7fd9abc",
   "metadata": {},
   "source": [
    "In read binary 'rb' and write binary modes 'wb'"
   ]
  },
  {
   "cell_type": "markdown",
   "id": "07870968",
   "metadata": {},
   "source": [
    "### 2. From a PdfFileReader object, how do you get a Page object for page 5?"
   ]
  },
  {
   "cell_type": "markdown",
   "id": "5b97d3e0",
   "metadata": {},
   "source": [
    "by calling getPage(4) will return a Page object for page 5, since page 0 is the first page."
   ]
  },
  {
   "cell_type": "markdown",
   "id": "9b38418f",
   "metadata": {},
   "source": [
    "### 3. What PdfFileReader variable stores the number of pages in the PDF document?"
   ]
  },
  {
   "cell_type": "markdown",
   "id": "10d75965",
   "metadata": {},
   "source": [
    "The 'numPages' variable stores an integer value of the number of pages in the PdfFileReader object"
   ]
  },
  {
   "cell_type": "markdown",
   "id": "6753f198",
   "metadata": {},
   "source": [
    "### 4. If a PdfFileReader object’s PDF is encrypted with the password swordfish, what must you do before you can obtain Page objects from it?"
   ]
  },
  {
   "cell_type": "markdown",
   "id": "dd763af3",
   "metadata": {},
   "source": [
    "use decrypt('swordfish')"
   ]
  },
  {
   "cell_type": "markdown",
   "id": "9bdd581e",
   "metadata": {},
   "source": [
    "### 5. What methods do you use to rotate a page?"
   ]
  },
  {
   "cell_type": "markdown",
   "id": "78f8bbf6",
   "metadata": {},
   "source": [
    "The rotateClockwise() and rotateCounterClockwise() methods. The degrees to rotate is passed as an integer argument."
   ]
  },
  {
   "cell_type": "markdown",
   "id": "18ddaf74",
   "metadata": {},
   "source": [
    "### 6. What is the difference between a Run object and a Paragraph object?"
   ]
  },
  {
   "cell_type": "markdown",
   "id": "86cc6035",
   "metadata": {},
   "source": [
    "Paragraph objects can be added only to the end of the document, and Run objects can be added only to the end of a Paragraph object.\n",
    "\n",
    "A run is the object most closely associated with inline content; text, pictures, and other items that are flowed between the block-item boundaries within a paragraph.ParagraphFormat object provides access to the formatting properties for this paragraph, such as line spacing and indentation."
   ]
  },
  {
   "cell_type": "markdown",
   "id": "9bdce980",
   "metadata": {},
   "source": [
    "### 7. How do you obtain a list of Paragraph objects for a Document object that’s stored in a variable named doc?"
   ]
  },
  {
   "cell_type": "markdown",
   "id": "4afd94c5",
   "metadata": {},
   "source": [
    "by Using doc.paragraphs."
   ]
  },
  {
   "cell_type": "markdown",
   "id": "0920b7ec",
   "metadata": {},
   "source": [
    "### 8. What type of object has bold, underline, italic, strike, and outline variables?"
   ]
  },
  {
   "cell_type": "markdown",
   "id": "5ef0b9fd",
   "metadata": {},
   "source": [
    "run object"
   ]
  },
  {
   "cell_type": "markdown",
   "id": "3fc8d8ed",
   "metadata": {},
   "source": [
    "### 9. What is the difference between False, True, and None for the bold variable?"
   ]
  },
  {
   "cell_type": "markdown",
   "id": "c25a632f",
   "metadata": {},
   "source": [
    "True always makes the Run object bolded and False makes it always not bolded, no matter what the style’s bold setting is. None will make the Run object just use the style’s bold setting."
   ]
  },
  {
   "cell_type": "markdown",
   "id": "9ecf6d36",
   "metadata": {},
   "source": [
    "### 10. How do you create a Document object for a new Word document?"
   ]
  },
  {
   "cell_type": "markdown",
   "id": "c71a5467",
   "metadata": {},
   "source": [
    "By Calling the docx.Document() function."
   ]
  },
  {
   "cell_type": "markdown",
   "id": "6d0c1153",
   "metadata": {},
   "source": [
    "### 11. How do you add a paragraph with the text &#39;Hello, there!&#39; to a Document object stored in a variable named doc?"
   ]
  },
  {
   "cell_type": "markdown",
   "id": "71fd70ff",
   "metadata": {},
   "source": [
    "by using doc.add_paragraph('Hello there!')"
   ]
  },
  {
   "cell_type": "markdown",
   "id": "7cb54769",
   "metadata": {},
   "source": [
    "### 12. What integers represent the levels of headings available in Word documents?"
   ]
  },
  {
   "cell_type": "markdown",
   "id": "ded3bcce",
   "metadata": {},
   "source": [
    "integers 0 to 4 represent the levels of headings available in Word documents with 4 being lowest subheading."
   ]
  },
  {
   "cell_type": "code",
   "execution_count": null,
   "id": "b2755395",
   "metadata": {},
   "outputs": [],
   "source": []
  }
 ],
 "metadata": {
  "kernelspec": {
   "display_name": "Python 3 (ipykernel)",
   "language": "python",
   "name": "python3"
  },
  "language_info": {
   "codemirror_mode": {
    "name": "ipython",
    "version": 3
   },
   "file_extension": ".py",
   "mimetype": "text/x-python",
   "name": "python",
   "nbconvert_exporter": "python",
   "pygments_lexer": "ipython3",
   "version": "3.9.13"
  }
 },
 "nbformat": 4,
 "nbformat_minor": 5
}
