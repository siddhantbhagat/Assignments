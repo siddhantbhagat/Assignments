{
 "cells": [
  {
   "cell_type": "markdown",
   "id": "2c3a190a",
   "metadata": {},
   "source": [
    "1.\tWrite a Python program to find words which are greater than given length k?\n",
    "2.\tWrite a Python program for removing i-th character from a string?\n",
    "3.\tWrite a Python program to split and join a string?\n",
    "4.\tWrite a Python to check if a given string is binary string or not?\n",
    "5.\tWrite a Python program to find uncommon words from two Strings?\n",
    "6.\tWrite a Python to find all duplicate characters in string?\n",
    "7.\tWrite a Python Program to check if a string contains any special character?"
   ]
  },
  {
   "cell_type": "code",
   "execution_count": 4,
   "id": "62b466fb",
   "metadata": {},
   "outputs": [
    {
     "name": "stdout",
     "output_type": "stream",
     "text": [
      "Write\n",
      "Python\n",
      "program\n",
      "words\n",
      "which\n",
      "greater\n",
      "given\n",
      "length\n"
     ]
    }
   ],
   "source": [
    "def check_length(string,k):\n",
    "    for word in string.split():\n",
    "        if len(word) > k:\n",
    "            print(word)\n",
    "string='Write a Python program to find words which are greater than given length k'\n",
    "check_length(string,4)"
   ]
  },
  {
   "cell_type": "code",
   "execution_count": 6,
   "id": "57355c96",
   "metadata": {},
   "outputs": [
    {
     "name": "stdout",
     "output_type": "stream",
     "text": [
      "Wrie a Python program to find words which are greater than given length k\n"
     ]
    }
   ],
   "source": [
    "def remove_ith(string,i):\n",
    "    new_string=''\n",
    "    for j in range(len(string)):\n",
    "        if i != j:\n",
    "            new_string+=string[j]\n",
    "    return new_string\n",
    "print(remove_ith(string,3))"
   ]
  },
  {
   "cell_type": "code",
   "execution_count": 10,
   "id": "df6f64c9",
   "metadata": {},
   "outputs": [
    {
     "data": {
      "text/plain": [
       "'Write   a   Python   program   to   find   words   which   are   greater   than   given   length   k'"
      ]
     },
     "execution_count": 10,
     "metadata": {},
     "output_type": "execute_result"
    }
   ],
   "source": [
    "def split_join(string,x):\n",
    "    \"\"\"specify what character should be used to join. you can add or remove whitespaces\"\"\"\n",
    "    return f'{x}'.join(string.split())\n",
    "split_join(string,'   ')"
   ]
  },
  {
   "cell_type": "code",
   "execution_count": 17,
   "id": "5d3070fc",
   "metadata": {},
   "outputs": [
    {
     "name": "stdout",
     "output_type": "stream",
     "text": [
      "False\n",
      "True\n"
     ]
    }
   ],
   "source": [
    "def check_binanry(string):\n",
    "    if '0b' in string:\n",
    "        return True\n",
    "    else:\n",
    "        return False\n",
    "print(check_binanry('safaf'))\n",
    "print(check_binanry(bin(5)))"
   ]
  },
  {
   "cell_type": "code",
   "execution_count": 15,
   "id": "30ec8ef8",
   "metadata": {},
   "outputs": [
    {
     "data": {
      "text/plain": [
       "'0b10'"
      ]
     },
     "execution_count": 15,
     "metadata": {},
     "output_type": "execute_result"
    }
   ],
   "source": [
    "bin(2)"
   ]
  },
  {
   "cell_type": "code",
   "execution_count": 51,
   "id": "486f809d",
   "metadata": {},
   "outputs": [
    {
     "name": "stdout",
     "output_type": "stream",
     "text": [
      "{'i-th', 'string?', 'removing', '?', 'to', 'find', 'which', 'k', 'given', 'length', 'from', 'character', 'are', 'for', 'greater', 'than', 'words'}\n"
     ]
    }
   ],
   "source": [
    "def uncommon(string1,string2):\n",
    "    return set(string1.split()).symmetric_difference(set(string2.split()))\n",
    "string1='Write a Python program to find words which are greater than given length k ? Python'\n",
    "string2='Write a Python program for removing i-th character from a string?'\n",
    "print(uncommon(string1,string2))"
   ]
  },
  {
   "cell_type": "code",
   "execution_count": 52,
   "id": "7050134e",
   "metadata": {},
   "outputs": [
    {
     "data": {
      "text/plain": [
       "{'Python'}"
      ]
     },
     "execution_count": 52,
     "metadata": {},
     "output_type": "execute_result"
    }
   ],
   "source": [
    "def find_duplicate(string):\n",
    "    duplicates=set()\n",
    "    for i in string.split():\n",
    "        if string.split().count(i)>1:\n",
    "            duplicates.add(i)\n",
    "    return duplicates\n",
    "find_duplicate(string1)"
   ]
  },
  {
   "cell_type": "code",
   "execution_count": 55,
   "id": "9ac598a4",
   "metadata": {},
   "outputs": [
    {
     "name": "stdout",
     "output_type": "stream",
     "text": [
      "-\n",
      "?\n"
     ]
    }
   ],
   "source": [
    "def check_specials(string):\n",
    "    for i in split_join(string,''):\n",
    "        if i.isalnum():\n",
    "            pass\n",
    "        else:\n",
    "            print(i)\n",
    "check_specials(string2)"
   ]
  },
  {
   "cell_type": "code",
   "execution_count": null,
   "id": "0ebcc750",
   "metadata": {},
   "outputs": [],
   "source": []
  }
 ],
 "metadata": {
  "kernelspec": {
   "display_name": "Python 3 (ipykernel)",
   "language": "python",
   "name": "python3"
  },
  "language_info": {
   "codemirror_mode": {
    "name": "ipython",
    "version": 3
   },
   "file_extension": ".py",
   "mimetype": "text/x-python",
   "name": "python",
   "nbconvert_exporter": "python",
   "pygments_lexer": "ipython3",
   "version": "3.9.13"
  }
 },
 "nbformat": 4,
 "nbformat_minor": 5
}
