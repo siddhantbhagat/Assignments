{
 "cells": [
  {
   "cell_type": "raw",
   "id": "f299dbfd",
   "metadata": {},
   "source": [
    "Question 1:\n",
    "Please write a program using generator to print the numbers which can be divisible by 5 and 7 between 0 and n in comma separated form while n is input by console.\n",
    "Example:\n",
    "If the following n is given as input to the program:\n",
    "100\n",
    "Then, the output of the program should be:\n",
    "0,35,70\n",
    "\n"
   ]
  },
  {
   "cell_type": "code",
   "execution_count": 24,
   "id": "fe4c7984",
   "metadata": {},
   "outputs": [
    {
     "name": "stdout",
     "output_type": "stream",
     "text": [
      "Enter number upto which program should generate numbers. :- 100\n",
      "0,35,70,"
     ]
    }
   ],
   "source": [
    "def divisible_by_5_and_7():\n",
    "    '''This program returns the numbers which can be divisible by 5 and 7 between 0 and n'''\n",
    "    n=int(input('Enter number upto which program should generate numbers. :- '))\n",
    "    multiplier=1\n",
    "    result=0\n",
    "    while result<n:\n",
    "        yield result\n",
    "        result=5*7*multiplier\n",
    "        multiplier+=1\n",
    "        \n",
    "        \n",
    "gen=divisible_by_5_and_7()\n",
    "for i in gen:\n",
    "    print(i,end=',')"
   ]
  },
  {
   "cell_type": "raw",
   "id": "e3242fa5",
   "metadata": {},
   "source": [
    "Question 2:\n",
    "Please write a program using generator to print the even numbers between 0 and n in comma separated form while n is input by console.\n",
    "Example:\n",
    "If the following n is given as input to the program:\n",
    "10\n",
    "Then, the output of the program should be:\n",
    "0,2,4,6,8,10"
   ]
  },
  {
   "cell_type": "code",
   "execution_count": 28,
   "id": "eb0f6868",
   "metadata": {},
   "outputs": [
    {
     "name": "stdout",
     "output_type": "stream",
     "text": [
      "Enter number upto which program should generate numbers. :- 10\n",
      "[0, 2, 4, 6, 8, 10]\n"
     ]
    }
   ],
   "source": [
    "def print_even_number():\n",
    "    '''This program returns the even numbers between 0 and n'''\n",
    "    n=int(input('Enter number upto which program should generate numbers. :- '))\n",
    "    for i in range(n+1):\n",
    "        if i%2==0:\n",
    "            yield i\n",
    "        \n",
    "        \n",
    "gen=print_even_number()\n",
    "print(list(gen))"
   ]
  },
  {
   "cell_type": "raw",
   "id": "f640fb47",
   "metadata": {},
   "source": [
    "Question 3:\n",
    "The Fibonacci Sequence is computed based on the following formula:\n",
    "f(n)=0 if n=0\n",
    "f(n)=1 if n=1\n",
    "f(n)=f(n-1)+f(n-2) if n>1\n",
    "Please write a program using list comprehension to print the Fibonacci Sequence in comma separated form with a given n input by console.\n",
    "Example:\n",
    "If the following n is given as input to the program:\n",
    "7\n",
    "\n",
    "Then, the output of the program should be:\n",
    "0,1,1,2,3,5,8,13"
   ]
  },
  {
   "cell_type": "code",
   "execution_count": 31,
   "id": "93dab5e5",
   "metadata": {},
   "outputs": [
    {
     "name": "stdout",
     "output_type": "stream",
     "text": [
      "Enter no :- 7\n"
     ]
    },
    {
     "data": {
      "text/plain": [
       "[0, 1, 1, 2, 3, 5, 8, 13]"
      ]
     },
     "execution_count": 31,
     "metadata": {},
     "output_type": "execute_result"
    }
   ],
   "source": [
    "def fib(n):\n",
    "    if n==0:\n",
    "        return 0\n",
    "    elif n==1:\n",
    "        return 1\n",
    "    else:\n",
    "        return fib(n-1) + fib(n-2)\n",
    "\n",
    "[fib(i) for i in range(int(input('Enter no :- '))+1)]"
   ]
  },
  {
   "cell_type": "raw",
   "id": "73023189",
   "metadata": {},
   "source": [
    "Question 4:\n",
    "Assuming that we have some email addresses in the \"username@companyname.com\" format, please write program to print the user name of a given email address. Both user names and company names are composed of letters only.\n",
    "Example:\n",
    "If the following email address is given as input to the program:\n",
    "john@google.com\n",
    "Then, the output of the program should be:\n",
    "john"
   ]
  },
  {
   "cell_type": "code",
   "execution_count": 38,
   "id": "010ad2d0",
   "metadata": {},
   "outputs": [
    {
     "name": "stdout",
     "output_type": "stream",
     "text": [
      "john@google.com\n"
     ]
    },
    {
     "data": {
      "text/plain": [
       "'john'"
      ]
     },
     "execution_count": 38,
     "metadata": {},
     "output_type": "execute_result"
    }
   ],
   "source": [
    "def user_name():\n",
    "    s=input()\n",
    "    last_index= s.index('@')\n",
    "    return s[:last_index]\n",
    "user_name()"
   ]
  },
  {
   "cell_type": "markdown",
   "id": "b9be25fa",
   "metadata": {},
   "source": [
    "Question 5:\n",
    "Define a class named Shape and its subclass Square. The Square class has an init function which takes a length as argument. Both classes have a area function which can print the area of the shape where Shape's area is 0 by default.\n"
   ]
  },
  {
   "cell_type": "code",
   "execution_count": 105,
   "id": "9bdd8d18",
   "metadata": {},
   "outputs": [],
   "source": [
    "class Shape:\n",
    "    def __init__(self):\n",
    "        self.area = 0\n",
    "        \n",
    "    def area(self):\n",
    "        print(self.area)\n",
    "\n",
    "class Square(Shape):\n",
    "    def __init__(self,length):\n",
    "        super().__init__()\n",
    "        self.length =length\n",
    "        self.area1()\n",
    "        \n",
    "    def area1(self):\n",
    "        self.area = self.length*self.length\n"
   ]
  },
  {
   "cell_type": "code",
   "execution_count": 106,
   "id": "e8ff394f",
   "metadata": {},
   "outputs": [
    {
     "data": {
      "text/plain": [
       "64"
      ]
     },
     "execution_count": 106,
     "metadata": {},
     "output_type": "execute_result"
    }
   ],
   "source": [
    "shape = Shape()\n",
    "shape.area  # Output: Area: 0\n",
    "\n",
    "square = Square(8)\n",
    "square.area"
   ]
  },
  {
   "cell_type": "code",
   "execution_count": null,
   "id": "02843c3e",
   "metadata": {},
   "outputs": [],
   "source": []
  }
 ],
 "metadata": {
  "kernelspec": {
   "display_name": "Python 3 (ipykernel)",
   "language": "python",
   "name": "python3"
  },
  "language_info": {
   "codemirror_mode": {
    "name": "ipython",
    "version": 3
   },
   "file_extension": ".py",
   "mimetype": "text/x-python",
   "name": "python",
   "nbconvert_exporter": "python",
   "pygments_lexer": "ipython3",
   "version": "3.9.13"
  }
 },
 "nbformat": 4,
 "nbformat_minor": 5
}
