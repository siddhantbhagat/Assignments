{
 "cells": [
  {
   "cell_type": "markdown",
   "id": "e95f0b6d",
   "metadata": {},
   "source": [
    "### 1. Why are functions advantageous to have in your programs?"
   ]
  },
  {
   "cell_type": "markdown",
   "id": "6f35b8b9",
   "metadata": {},
   "source": [
    "functions provide reusablity of code and we don't have write it again and again,hence it saves a lot of time. anyone can use it\n",
    "without knowing full logic behind it and create more complex programs on top of it."
   ]
  },
  {
   "cell_type": "markdown",
   "id": "6593b1e8",
   "metadata": {},
   "source": [
    "### 2. When does the code in a function run: when it&#39;s specified or when it&#39;s called?"
   ]
  },
  {
   "cell_type": "markdown",
   "id": "a07ecf72",
   "metadata": {},
   "source": [
    "code in a function runs when it is called."
   ]
  },
  {
   "cell_type": "markdown",
   "id": "779e3a0d",
   "metadata": {},
   "source": [
    "### 3. What statement creates a function?"
   ]
  },
  {
   "cell_type": "markdown",
   "id": "5e2334ef",
   "metadata": {},
   "source": [
    "'def' keyword, followed by function name with paranthesis creates a function, providing parameteres in paranthesis is not compulsory."
   ]
  },
  {
   "cell_type": "markdown",
   "id": "5e91cb2e",
   "metadata": {},
   "source": [
    "### 4. What is the difference between a function and a function call?"
   ]
  },
  {
   "cell_type": "markdown",
   "id": "ad00d6d8",
   "metadata": {},
   "source": [
    "function is a piece of code which is defined(written) only once and can be used any time we want in an instance. function call \n",
    "is an mechanism by which we give instruction to a machine to run the code written inside function. the code will only run when a function is called."
   ]
  },
  {
   "cell_type": "markdown",
   "id": "a4be6c0b",
   "metadata": {},
   "source": [
    "### 5. How many global scopes are there in a Python program? How many local scopes?"
   ]
  },
  {
   "cell_type": "markdown",
   "id": "e2c5e69a",
   "metadata": {},
   "source": [
    "there is only one global scope and only one local scope in python."
   ]
  },
  {
   "cell_type": "markdown",
   "id": "ae450f8f",
   "metadata": {},
   "source": [
    "### 6. What happens to variables in a local scope when the function call returns?"
   ]
  },
  {
   "cell_type": "markdown",
   "id": "a8f780e7",
   "metadata": {},
   "source": [
    "variable in local scope vanishes when function call returns."
   ]
  },
  {
   "cell_type": "markdown",
   "id": "7e312d46",
   "metadata": {},
   "source": [
    "### 7. What is the concept of a return value? Is it possible to have a return value in an expression?"
   ]
  },
  {
   "cell_type": "markdown",
   "id": "9ee393e1",
   "metadata": {},
   "source": [
    "we can force a function to return a value, which can be of any data type. This returned value can be stored in variable for later use.if we use 'print' instead of return we won't be able store it in a variable.\n",
    "while defining a function we can we can write a expression in a written block but it will always return a reduced form of expression"
   ]
  },
  {
   "cell_type": "markdown",
   "id": "9f36bcf0",
   "metadata": {},
   "source": [
    "### 8. If a function does not have a return statement, what is the return value of a call to that function?"
   ]
  },
  {
   "cell_type": "markdown",
   "id": "8e5b089a",
   "metadata": {},
   "source": [
    "if there is no return statement in a function return value of a call is \"Nonetype\""
   ]
  },
  {
   "cell_type": "markdown",
   "id": "b395420d",
   "metadata": {},
   "source": [
    "### 9. How do you make a function variable refer to the global variable?"
   ]
  },
  {
   "cell_type": "markdown",
   "id": "65147884",
   "metadata": {},
   "source": [
    "use 'global' keyword to make function global."
   ]
  },
  {
   "cell_type": "markdown",
   "id": "1a780d6f",
   "metadata": {},
   "source": [
    "### 10. What is the data type of None?"
   ]
  },
  {
   "cell_type": "markdown",
   "id": "009ff5ba",
   "metadata": {},
   "source": [
    "Datatype of 'None' is \"NoneType\""
   ]
  },
  {
   "cell_type": "markdown",
   "id": "1097eb3f",
   "metadata": {},
   "source": [
    "### 11. What does the sentence import areallyourpetsnamederic do?"
   ]
  },
  {
   "cell_type": "markdown",
   "id": "57127e52",
   "metadata": {},
   "source": [
    "As it's not a standard module provided by python it will give you a Error."
   ]
  },
  {
   "cell_type": "markdown",
   "id": "be25e057",
   "metadata": {},
   "source": [
    "### 12. If you had a bacon() feature in a spam module, what would you call it after importing spam?"
   ]
  },
  {
   "cell_type": "markdown",
   "id": "0a27cb70",
   "metadata": {},
   "source": [
    "the feature bacon() will be called the function after importing spam.\n",
    "By using 'spam.bacon()' statement we can execute it."
   ]
  },
  {
   "cell_type": "markdown",
   "id": "22c63227",
   "metadata": {},
   "source": [
    "### 13. What can you do to save a programme from crashing if it encounters an error?"
   ]
  },
  {
   "cell_type": "markdown",
   "id": "5b5cb125",
   "metadata": {},
   "source": [
    "I will use 'try-except' block to prevent it from crashing if it ever encounters an error, also will try reduce the possiblity of occuring an error."
   ]
  },
  {
   "cell_type": "markdown",
   "id": "71cd18e9",
   "metadata": {},
   "source": [
    "### 14. What is the purpose of the try clause? What is the purpose of the except clause?"
   ]
  },
  {
   "cell_type": "markdown",
   "id": "230a090d",
   "metadata": {},
   "source": [
    "try clause instructs to try to run a program and if program fails the except clause will tell a machine what to do. this protects the program from crashing"
   ]
  },
  {
   "cell_type": "code",
   "execution_count": null,
   "id": "d0f8bfcc",
   "metadata": {},
   "outputs": [],
   "source": []
  }
 ],
 "metadata": {
  "kernelspec": {
   "display_name": "Python 3 (ipykernel)",
   "language": "python",
   "name": "python3"
  },
  "language_info": {
   "codemirror_mode": {
    "name": "ipython",
    "version": 3
   },
   "file_extension": ".py",
   "mimetype": "text/x-python",
   "name": "python",
   "nbconvert_exporter": "python",
   "pygments_lexer": "ipython3",
   "version": "3.7.13"
  }
 },
 "nbformat": 4,
 "nbformat_minor": 5
}
