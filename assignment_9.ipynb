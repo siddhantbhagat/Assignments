{
 "cells": [
  {
   "cell_type": "markdown",
   "id": "ed0ec7b5",
   "metadata": {},
   "source": [
    "### 1. To what does a relative path refer?"
   ]
  },
  {
   "cell_type": "markdown",
   "id": "76e5db58",
   "metadata": {},
   "source": [
    "relative path refers to file or folder within same folder"
   ]
  },
  {
   "cell_type": "markdown",
   "id": "0d34a509",
   "metadata": {},
   "source": [
    "### 2. What does an absolute path start with your operating system?"
   ]
  },
  {
   "cell_type": "markdown",
   "id": "f219da91",
   "metadata": {},
   "source": [
    "absolute path starts with drive name in operating system"
   ]
  },
  {
   "cell_type": "markdown",
   "id": "8a7b2098",
   "metadata": {},
   "source": [
    "### 3. What do the functions os.getcwd() and os.chdir() do?"
   ]
  },
  {
   "cell_type": "markdown",
   "id": "ac1e55fe",
   "metadata": {},
   "source": [
    "os.getcwd returns current working directory and os.chdir is used to change the current working directory"
   ]
  },
  {
   "cell_type": "markdown",
   "id": "5da19afb",
   "metadata": {},
   "source": [
    "### 4. What are the . and .. folders?"
   ]
  },
  {
   "cell_type": "markdown",
   "id": "4ccf76b9",
   "metadata": {},
   "source": [
    "The . folder is the current folder, and .. is the previous folder"
   ]
  },
  {
   "cell_type": "markdown",
   "id": "5aae41e5",
   "metadata": {},
   "source": [
    "### 5. In C:\\bacon\\eggs\\spam.txt, which part is the dir name, and which part is the base name?"
   ]
  },
  {
   "cell_type": "markdown",
   "id": "45e01993",
   "metadata": {},
   "source": [
    "C:\\bacon\\eggs is the dir name, while spam.txt is the base name."
   ]
  },
  {
   "cell_type": "markdown",
   "id": "b4cb4bac",
   "metadata": {},
   "source": [
    "### 6. What are the three “mode” arguments that can be passed to the open() function?"
   ]
  },
  {
   "cell_type": "markdown",
   "id": "6d085e0d",
   "metadata": {},
   "source": [
    "The string 'r' for read mode, 'w' for write mode, and 'a' for append mode"
   ]
  },
  {
   "cell_type": "markdown",
   "id": "5f6f73ad",
   "metadata": {},
   "source": [
    "### 7. What happens if an existing file is opened in write mode?"
   ]
  },
  {
   "cell_type": "markdown",
   "id": "f5a05cf1",
   "metadata": {},
   "source": [
    "An existing file opened in write mode is erased and completely overwritten"
   ]
  },
  {
   "cell_type": "markdown",
   "id": "34ab517f",
   "metadata": {},
   "source": [
    "### 8. How do you tell the difference between read() and readlines()?"
   ]
  },
  {
   "cell_type": "markdown",
   "id": "baabfbe3",
   "metadata": {},
   "source": [
    "read() gives entire text in a single string while readlines gives list of lines"
   ]
  },
  {
   "cell_type": "markdown",
   "id": "58e2a79b",
   "metadata": {},
   "source": [
    "### 9. What data structure does a shelf value resemble?"
   ]
  },
  {
   "cell_type": "markdown",
   "id": "498fdaa8",
   "metadata": {},
   "source": [
    "dictionary"
   ]
  },
  {
   "cell_type": "code",
   "execution_count": null,
   "id": "12e5ce7a",
   "metadata": {},
   "outputs": [],
   "source": []
  }
 ],
 "metadata": {
  "kernelspec": {
   "display_name": "Python 3 (ipykernel)",
   "language": "python",
   "name": "python3"
  },
  "language_info": {
   "codemirror_mode": {
    "name": "ipython",
    "version": 3
   },
   "file_extension": ".py",
   "mimetype": "text/x-python",
   "name": "python",
   "nbconvert_exporter": "python",
   "pygments_lexer": "ipython3",
   "version": "3.9.13"
  }
 },
 "nbformat": 4,
 "nbformat_minor": 5
}
