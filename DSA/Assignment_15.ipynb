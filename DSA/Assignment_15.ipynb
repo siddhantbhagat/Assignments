{
 "cells": [
  {
   "cell_type": "markdown",
   "metadata": {},
   "source": [
    "<aside>\n",
    "💡 **Question 1**\n",
    "\n",
    "Given an array **arr[ ]** of size **N** having elements, the task is to find the next greater element for each element of the array in order of their appearance in the array.Next greater element of an element in the array is the nearest element on the right which is greater than the current element.If there does not exist next greater of current element, then next greater element for current element is -1. For example, next greater of the last element is always -1.\n",
    "\n",
    "</aside>"
   ]
  },
  {
   "cell_type": "code",
   "execution_count": 16,
   "metadata": {},
   "outputs": [
    {
     "data": {
      "text/plain": [
       "[3, 4, 4, -1]"
      ]
     },
     "execution_count": 16,
     "metadata": {},
     "output_type": "execute_result"
    }
   ],
   "source": [
    "def next_greater(arr):\n",
    "    res=[]\n",
    "    for i in range(0,len(arr)):\n",
    "        for j in range(i,len(arr)):\n",
    "            if arr[j] > arr[i]:\n",
    "                res.append(arr[j])\n",
    "                break\n",
    "    else:\n",
    "        res.append(-1)\n",
    "    return res\n",
    "\n",
    "next_greater([1,3,2,4])"
   ]
  },
  {
   "cell_type": "markdown",
   "metadata": {},
   "source": [
    "<aside>\n",
    "💡 **Question 2**\n",
    "\n",
    "Given an array **a** of integers of length **n**, find the nearest smaller number for every element such that the smaller element is on left side.If no small element present on the left print -1.\n",
    "\n",
    "</aside>"
   ]
  },
  {
   "cell_type": "code",
   "execution_count": 53,
   "metadata": {},
   "outputs": [
    {
     "data": {
      "text/plain": [
       "[-1, 1, -1, 1, 3, 4]"
      ]
     },
     "execution_count": 53,
     "metadata": {},
     "output_type": "execute_result"
    }
   ],
   "source": [
    "def prev_smaller(arr):\n",
    "    res=[]\n",
    "    for i in range(0,len(arr)):\n",
    "        for j in arr[i+1:0:-1]:\n",
    "            if arr[j] < arr[i]:\n",
    "                res.append(arr[j])\n",
    "                break\n",
    "        else:\n",
    "            res.append(-1)\n",
    "    return res\n",
    "\n",
    "prev_smaller([1, 5, 0, 3, 4, 5])"
   ]
  },
  {
   "cell_type": "markdown",
   "metadata": {},
   "source": [
    "<aside>\n",
    "💡 **Question 3**\n",
    "\n",
    "Implement a Stack using two queues **q1** and **q2**.\n",
    "\n",
    "</aside>"
   ]
  },
  {
   "cell_type": "code",
   "execution_count": 55,
   "metadata": {},
   "outputs": [],
   "source": [
    "class MyStack:\n",
    "\n",
    "    def __init__(self):\n",
    "        self.qa = deque()\n",
    "        self.qb = deque()\n",
    "\n",
    "    def push(self, x: int) -> None:\n",
    "        self.qa.append(x)\n",
    "\n",
    "    def pop(self) -> int:\n",
    "        self.flush()\n",
    "        val = self.qa.popleft()\n",
    "        self.swap()\n",
    "        \n",
    "        return val\n",
    "\n",
    "    def top(self) -> int:\n",
    "        self.flush()\n",
    "        return self.qa[0]\n",
    "\n",
    "    def empty(self) -> bool:\n",
    "        return len(self.qa) < 1 and len(self.qb) < 1\n",
    "    \n",
    "    def flush(self):\n",
    "        while len(self.qa) > 1:\n",
    "            self.qb.append(self.qa.popleft())\n",
    "    \n",
    "    def swap(self):\n",
    "        self.qa, self.qb = self.qb, self.qa"
   ]
  },
  {
   "cell_type": "markdown",
   "metadata": {},
   "source": [
    "<aside>\n",
    "💡 **Question 4**\n",
    "\n",
    "You are given a stack **St**. You have to reverse the stack using recursion.\n",
    "\n",
    "</aside>"
   ]
  },
  {
   "cell_type": "code",
   "execution_count": 62,
   "metadata": {},
   "outputs": [
    {
     "data": {
      "text/plain": [
       "[6, 7, 1, 2, 3]"
      ]
     },
     "execution_count": 62,
     "metadata": {},
     "output_type": "execute_result"
    }
   ],
   "source": [
    "def stck(arr):\n",
    "    res =[]\n",
    "    for i in range(len(arr)):\n",
    "        x=arr.pop()\n",
    "        res.append(x)\n",
    "    return res\n",
    "\n",
    "stck([3,2,1,7,6])"
   ]
  },
  {
   "cell_type": "markdown",
   "metadata": {},
   "source": [
    "<aside>\n",
    "💡 **Question 5**\n",
    "\n",
    "You are given a string **S**, the task is to reverse the string using stack.\n",
    "\n",
    "</aside>"
   ]
  },
  {
   "cell_type": "code",
   "execution_count": 64,
   "metadata": {},
   "outputs": [
    {
     "data": {
      "text/plain": [
       "'tnahddis'"
      ]
     },
     "execution_count": 64,
     "metadata": {},
     "output_type": "execute_result"
    }
   ],
   "source": [
    "def stck(arr):\n",
    "    arr = list(arr)\n",
    "    res =[]\n",
    "    for i in range(len(arr)):\n",
    "        x=arr.pop()\n",
    "        res.append(x)\n",
    "    return \"\".join(res)\n",
    "\n",
    "stck(\"siddhant\")"
   ]
  },
  {
   "cell_type": "markdown",
   "metadata": {},
   "source": [
    "<aside>\n",
    "💡 **Question 6**\n",
    "\n",
    "Given string **S** representing a postfix expression, the task is to evaluate the expression and find the final value. Operators will only include the basic arithmetic operators like ***, /, + and -**.\n",
    "\n",
    "</aside>"
   ]
  },
  {
   "cell_type": "code",
   "execution_count": null,
   "metadata": {},
   "outputs": [],
   "source": [
    "\n",
    "class Evaluate:\n",
    "\n",
    "\tdef __init__(self, capacity):\n",
    "\t\tself.top = -1\n",
    "\t\tself.capacity = capacity\n",
    "\t\tself.array = []\n",
    "\n",
    "\n",
    "\tdef isEmpty(self):\n",
    "\t\treturn True if self.top == -1 else False\n",
    "\n",
    "\tdef peek(self):\n",
    "\t\treturn self.array[-1]\n",
    "\n",
    "\tdef pop(self):\n",
    "\t\tif not self.isEmpty():\n",
    "\t\t\tself.top -= 1\n",
    "\t\t\treturn self.array.pop()\n",
    "\t\telse:\n",
    "\t\t\treturn \"$\"\n",
    "\n",
    "\tdef push(self, op):\n",
    "\t\tself.top += 1\n",
    "\t\tself.array.append(op)\n",
    "\tdef evaluatePostfix(self, exp):\n",
    "\t\tfor i in exp:\n",
    "\n",
    "\t\t\tif i.isdigit():\n",
    "\t\t\t\tself.push(i)\n",
    "\n",
    "\t\t\telse:\n",
    "\t\t\t\tval1 = self.pop()\n",
    "\t\t\t\tval2 = self.pop()\n",
    "\t\t\t\tself.push(str(eval(val2 + i + val1)))\n",
    "\n",
    "\t\treturn int(self.pop())\n",
    "\n",
    "\n"
   ]
  },
  {
   "cell_type": "markdown",
   "metadata": {},
   "source": [
    "<aside>\n",
    "💡 **Question 7**\n",
    "\n",
    "Design a stack that supports push, pop, top, and retrieving the minimum element in constant time.\n",
    "\n",
    "Implement the `MinStack` class:\n",
    "\n",
    "- `MinStack()` initializes the stack object.\n",
    "- `void push(int val)` pushes the element `val` onto the stack.\n",
    "- `void pop()` removes the element on the top of the stack.\n",
    "- `int top()` gets the top element of the stack.\n",
    "- `int getMin()` retrieves the minimum element in the stack.\n",
    "\n",
    "You must implement a solution with `O(1)` time complexity for each function.\n",
    "\n",
    "</aside>"
   ]
  },
  {
   "cell_type": "code",
   "execution_count": 65,
   "metadata": {},
   "outputs": [],
   "source": [
    "class MyStack:\n",
    "\n",
    "    def __init__(self):\n",
    "        self.qa = deque()\n",
    "        self.qb = deque()\n",
    "\n",
    "    def push(self, x: int) -> None:\n",
    "        self.qa.append(x)\n",
    "\n",
    "    def pop(self) -> int:\n",
    "        self.flush()\n",
    "        val = self.qa.popleft()\n",
    "        self.swap()\n",
    "        \n",
    "        return val\n",
    "\n",
    "    def top(self) -> int:\n",
    "        self.flush()\n",
    "        return self.qa[0]\n",
    "\n",
    "    def empty(self) -> bool:\n",
    "        return len(self.qa) < 1 and len(self.qb) < 1\n",
    "    \n",
    "    def flush(self):\n",
    "        while len(self.qa) > 1:\n",
    "            self.qb.append(self.qa.popleft())\n",
    "    \n",
    "    def swap(self):\n",
    "        self.qa, self.qb = self.qb, self.qa"
   ]
  },
  {
   "cell_type": "markdown",
   "metadata": {},
   "source": [
    "<aside>\n",
    "💡 **Question 8**\n",
    "\n",
    "Given `n` non-negative integers representing an elevation map where the width of each bar is `1`, compute how much water it can trap after raining.\n",
    "\n",
    "</aside>"
   ]
  },
  {
   "cell_type": "code",
   "execution_count": 66,
   "metadata": {},
   "outputs": [],
   "source": [
    "\n",
    "def maxWater(arr, n):\n",
    "\tres = 0\n",
    "\tfor i in range(1, n - 1):\n",
    "\t\tleft = arr[i]\n",
    "\t\tfor j in range(i):\n",
    "\t\t\tleft = max(left, arr[j])\n",
    "\t\tright = arr[i]\n",
    "\n",
    "\t\tfor j in range(i + 1, n):\n",
    "\t\t\tright = max(right, arr[j])\n",
    "\t\tres = res + (min(left, right) - arr[i])\n",
    "\n",
    "\treturn res\n"
   ]
  },
  {
   "cell_type": "markdown",
   "metadata": {},
   "source": []
  }
 ],
 "metadata": {
  "kernelspec": {
   "display_name": "Python 3",
   "language": "python",
   "name": "python3"
  },
  "language_info": {
   "codemirror_mode": {
    "name": "ipython",
    "version": 3
   },
   "file_extension": ".py",
   "mimetype": "text/x-python",
   "name": "python",
   "nbconvert_exporter": "python",
   "pygments_lexer": "ipython3",
   "version": "3.11.1"
  },
  "orig_nbformat": 4
 },
 "nbformat": 4,
 "nbformat_minor": 2
}
