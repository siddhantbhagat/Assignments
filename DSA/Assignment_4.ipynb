{
 "cells": [
  {
   "cell_type": "markdown",
   "id": "e776bf32",
   "metadata": {},
   "source": [
    "Question 1\n",
    "Given three integer arrays arr1, arr2 and arr3 sorted in strictly increasing order, return a sorted array of only the integers that appeared in all three arrays."
   ]
  },
  {
   "cell_type": "code",
   "execution_count": 2,
   "id": "050a7d00",
   "metadata": {},
   "outputs": [
    {
     "name": "stdout",
     "output_type": "stream",
     "text": [
      "1 5 "
     ]
    }
   ],
   "source": [
    "def common_element(arr1,arr2,arr3):\n",
    "    lst = []\n",
    "    for i in arr1:\n",
    "        if i in arr2:\n",
    "            lst.append(i)\n",
    "    for j in lst:\n",
    "        if j in arr3:\n",
    "            print(j,end=\" \")\n",
    "            \n",
    "arr1=[1,2,3,4,5] \n",
    "arr2 = [1,2,5,7,9]\n",
    "arr3 = [1,3,4,5,8] \n",
    "common_element(arr1,arr2,arr3)"
   ]
  },
  {
   "cell_type": "markdown",
   "id": "50e870bd",
   "metadata": {},
   "source": [
    "<aside>\n",
    "💡 **Question 2**\n",
    "\n",
    "Given two **0-indexed** integer arrays nums1 and nums2, return *a list* answer *of size* 2 *where:*\n",
    "\n",
    "- answer[0] *is a list of all **distinct** integers in* nums1 *which are **not** present in* nums2*.*\n",
    "- answer[1] *is a list of all **distinct** integers in* nums2 *which are **not** present in* nums1.\n",
    "\n",
    "**Note** that the integers in the lists may be returned in **any** order.\n",
    "\n",
    "</aside>"
   ]
  },
  {
   "cell_type": "code",
   "execution_count": 21,
   "id": "c3c50850",
   "metadata": {},
   "outputs": [
    {
     "data": {
      "text/plain": [
       "[[1, 3], [4, 6]]"
      ]
     },
     "execution_count": 21,
     "metadata": {},
     "output_type": "execute_result"
    }
   ],
   "source": [
    "def distict_ele(nums1,nums2):\n",
    "    lst=[]\n",
    "    l0=[]\n",
    "    l1=[]\n",
    "    for i in nums1:\n",
    "        if i in nums2:\n",
    "            nums1.remove(i)\n",
    "            nums2.remove(i)\n",
    "    \n",
    "    return [nums1,nums2]\n",
    "nums1 =[1,2,3]\n",
    "nums2 = [2,4,6]\n",
    "distict_ele(nums1,nums2)"
   ]
  },
  {
   "cell_type": "markdown",
   "id": "429ce0ec",
   "metadata": {},
   "source": [
    "<aside>\n",
    "💡 **Question 3**\n",
    "Given a 2D integer array matrix, return *the **transpose** of* matrix.\n",
    "\n",
    "The **transpose** of a matrix is the matrix flipped over its main diagonal, switching the matrix's row and column indices.\n",
    "\n",
    "</aside>"
   ]
  },
  {
   "cell_type": "code",
   "execution_count": 1,
   "id": "5898efe9",
   "metadata": {},
   "outputs": [],
   "source": [
    "def transpose(A):\n",
    "    R = len(A)\n",
    "    C = len(A[0])\n",
    "    ans = [[0 for _ in range(R)] for _ in range(C)]\n",
    "    for r in range(R):\n",
    "        for c in range(C):\n",
    "            ans[c][r] = A[r][c]\n",
    "    return ans"
   ]
  },
  {
   "cell_type": "markdown",
   "id": "6ebd771e",
   "metadata": {},
   "source": [
    "Question 4\n",
    "Given an integer array nums of 2n integers, group these integers into n pairs (a1, b1), (a2, b2), ..., (an, bn) such that the sum of min(ai, bi) for all i is maximized. Return the maximized sum."
   ]
  },
  {
   "cell_type": "code",
   "execution_count": 3,
   "id": "fbf322f3",
   "metadata": {},
   "outputs": [
    {
     "data": {
      "text/plain": [
       "4"
      ]
     },
     "execution_count": 3,
     "metadata": {},
     "output_type": "execute_result"
    }
   ],
   "source": [
    "def group4(arr):\n",
    "    arr.sort()\n",
    "    sum1 = 0\n",
    "    for i in range(0,len(arr),2):\n",
    "        sum1 += arr[i]\n",
    "    return sum1\n",
    "\n",
    "arr = [1,3,2,4]\n",
    "group4(arr)"
   ]
  },
  {
   "cell_type": "markdown",
   "id": "7282bf49",
   "metadata": {},
   "source": [
    "<aside>\n",
    "💡 **Question 5**\n",
    "You have n coins and you want to build a staircase with these coins. The staircase consists of k rows where the ith row has exactly i coins. The last row of the staircase **may be** incomplete.\n",
    "\n",
    "Given the integer n, return *the number of **complete rows** of the staircase you will build*.\n",
    "\n",
    "</aside>"
   ]
  },
  {
   "cell_type": "code",
   "execution_count": 2,
   "id": "ea00251a",
   "metadata": {},
   "outputs": [
    {
     "name": "stdout",
     "output_type": "stream",
     "text": [
      "0\n",
      "1\n",
      "3\n"
     ]
    },
    {
     "data": {
      "text/plain": [
       "3"
      ]
     },
     "execution_count": 2,
     "metadata": {},
     "output_type": "execute_result"
    }
   ],
   "source": [
    "def complete_steps(n):\n",
    "    i = 0\n",
    "    sum1 = 0\n",
    "    while n >= sum1:\n",
    "        i += 1\n",
    "        sum1 += i\n",
    "    return i\n",
    "\n",
    "complete_steps(5)"
   ]
  },
  {
   "cell_type": "markdown",
   "id": "60508e52",
   "metadata": {},
   "source": [
    "Question 6\n",
    "Given an integer array nums sorted in non-decreasing order, return an array of the squares of each number sorted in non-decreasing order."
   ]
  },
  {
   "cell_type": "code",
   "execution_count": 6,
   "id": "958cbfec",
   "metadata": {},
   "outputs": [
    {
     "data": {
      "text/plain": [
       "[0, 1, 4, 9, 16]"
      ]
     },
     "execution_count": 6,
     "metadata": {},
     "output_type": "execute_result"
    }
   ],
   "source": [
    "def que6(arr):\n",
    "    arr =[i**2 for i in arr]\n",
    "    arr.sort()\n",
    "    return arr\n",
    "\n",
    "arr= [-2,-3,0,1,4]\n",
    "que6(arr)"
   ]
  },
  {
   "cell_type": "markdown",
   "id": "662b5f4e",
   "metadata": {},
   "source": [
    "<aside>\n",
    "💡 **Question 8**\n",
    "\n",
    "Given the array nums consisting of 2n elements in the form [x1,x2,...,xn,y1,y2,...,yn].\n",
    "\n",
    "*Return the array in the form* [x1,y1,x2,y2,...,xn,yn].\n",
    "\n",
    "</aside>"
   ]
  },
  {
   "cell_type": "code",
   "execution_count": 9,
   "id": "5368c204",
   "metadata": {},
   "outputs": [
    {
     "data": {
      "text/plain": [
       "[2, 3, 5, 4, 1, 7]"
      ]
     },
     "execution_count": 9,
     "metadata": {},
     "output_type": "execute_result"
    }
   ],
   "source": [
    "def shuffle(arr,n):\n",
    "    arr1=[]\n",
    "    for i in range(0, len(arr)//2):\n",
    "        arr1.append(arr[i])\n",
    "        arr1.append(arr[i+n])\n",
    "    return arr1\n",
    "\n",
    "shuffle([2,5,1,3,4,7],3)"
   ]
  }
 ],
 "metadata": {
  "kernelspec": {
   "display_name": "Python 3 (ipykernel)",
   "language": "python",
   "name": "python3"
  },
  "language_info": {
   "codemirror_mode": {
    "name": "ipython",
    "version": 3
   },
   "file_extension": ".py",
   "mimetype": "text/x-python",
   "name": "python",
   "nbconvert_exporter": "python",
   "pygments_lexer": "ipython3",
   "version": "3.11.1"
  }
 },
 "nbformat": 4,
 "nbformat_minor": 5
}
