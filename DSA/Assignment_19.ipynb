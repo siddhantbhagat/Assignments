{
 "cells": [
  {
   "cell_type": "markdown",
   "id": "1a3eaa65",
   "metadata": {},
   "source": [
    "<aside>\n",
    "💡 1. **Merge k Sorted Lists**\n",
    "\n",
    "You are given an array of `k` linked-lists `lists`, each linked-list is sorted in ascending order.\n",
    "\n",
    "*Merge all the linked-lists into one sorted linked-list and return it.*\n",
    "\n",
    "</aside>"
   ]
  },
  {
   "cell_type": "code",
   "execution_count": null,
   "id": "4a6dd0f8",
   "metadata": {},
   "outputs": [],
   "source": [
    "def SortedMerge(a, b):\n",
    "    result = None\n",
    "    if (a == None):\n",
    "        return(b)\n",
    "    elif (b == None):\n",
    "        return(a)\n",
    "    if (a.data <= b.data):\n",
    "        result = a\n",
    "        result.next = SortedMerge(a.next, b)\n",
    "    else:\n",
    "        result = b\n",
    "        result.next = SortedMerge(a, b.next)\n",
    "    return result\n",
    "\n",
    "def mergeKLists(arr, last):\n",
    "    while (last != 0):\n",
    "        i = 0\n",
    "        j = last\n",
    "        while (i < j):\n",
    "            arr[i] = SortedMerge(arr[i], arr[j])\n",
    "            i += 1\n",
    "            j -= 1\n",
    "            if (i >= j):\n",
    "                last = j\n",
    "    return arr[0]"
   ]
  },
  {
   "cell_type": "markdown",
   "id": "c0890273",
   "metadata": {},
   "source": [
    "<aside>\n",
    "💡 2. **Count of Smaller Numbers After Self**\n",
    "\n",
    "Given an integer array `nums`, return *an integer array* `counts` *where* `counts[i]` *is the number of smaller elements to the right of* `nums[i]`.\n",
    "\n",
    "</aside>"
   ]
  },
  {
   "cell_type": "code",
   "execution_count": 2,
   "id": "d499e3c2",
   "metadata": {},
   "outputs": [
    {
     "data": {
      "text/plain": [
       "[2, 1, 1, 0]"
      ]
     },
     "execution_count": 2,
     "metadata": {},
     "output_type": "execute_result"
    }
   ],
   "source": [
    "def que2(arr):\n",
    "    sol = []\n",
    "    for i in range(len(arr)):\n",
    "        ctr = 0\n",
    "        for j in arr[i:]:\n",
    "            if j<arr[i]:\n",
    "                ctr += 1\n",
    "        sol.append(ctr)\n",
    "    return sol    \n",
    "\n",
    "que2([5,2,6,1])"
   ]
  },
  {
   "cell_type": "markdown",
   "id": "42c72b7d",
   "metadata": {},
   "source": [
    "<aside>\n",
    "💡 3. **Sort an Array**\n",
    "\n",
    "Given an array of integers `nums`, sort the array in ascending order and return it.\n",
    "\n",
    "You must solve the problem **without using any built-in** functions in `O(nlog(n))` time complexity and with the smallest space complexity possible.\n",
    "\n",
    "</aside>"
   ]
  },
  {
   "cell_type": "code",
   "execution_count": null,
   "id": "46872ea9",
   "metadata": {},
   "outputs": [],
   "source": [
    "def merge_sorted(arr1,arr2):\n",
    "    i=0\n",
    "    j=0\n",
    "    merged = []\n",
    "    while i<len(arr1) and j<len(arr2):\n",
    "        print(i,j)\n",
    "        if arr1[i]<arr2[j]:\n",
    "            merged.append(arr1[i])\n",
    "            i+=1\n",
    "        else:\n",
    "            merged.append(arr2[j])\n",
    "            j+=1\n",
    "    if i == len(arr1):\n",
    "        merged.extend(arr2[j:])\n",
    "    else:\n",
    "        merged.extend(arr1[i:])\n",
    "    return merged\n",
    "\n",
    "def mergesorted(arr,start,end):\n",
    "    print(start,end)\n",
    "    if len(arr)==1:\n",
    "        return arr\n",
    "    elif len(arr)==2:\n",
    "        if arr[0]>arr[1]:\n",
    "            arr[0],arr[1] = arr[1],arr[0]\n",
    "        return arr\n",
    "    mid = (start+end)//2\n",
    "    arr1 = mergesorted(arr,start,mid)\n",
    "    arr2 = mergesorted(arr,mid,end)\n",
    "    return merge_sorted(arr1,arr2)"
   ]
  },
  {
   "cell_type": "markdown",
   "id": "dadb5fb1",
   "metadata": {},
   "source": [
    "<aside>\n",
    "💡 4. **Move all zeroes to end of array**\n",
    "\n",
    "Given an array of random numbers, Push all the zero’s of a given array to the end of the array. For example, if the given arrays is {1, 9, 8, 4, 0, 0, 2, 7, 0, 6, 0}, it should be changed to {1, 9, 8, 4, 2, 7, 6, 0, 0, 0, 0}. The order of all other elements should be same. Expected time complexity is O(n) and extra space is O(1).\n",
    "\n",
    "</aside>"
   ]
  },
  {
   "cell_type": "code",
   "execution_count": 3,
   "id": "7ca7fbf7",
   "metadata": {},
   "outputs": [
    {
     "data": {
      "text/plain": [
       "[1, 2, 5, 30, 4, 8, 3, 5, 7, 0, 0, 0]"
      ]
     },
     "execution_count": 3,
     "metadata": {},
     "output_type": "execute_result"
    }
   ],
   "source": [
    "class Solution(object):\n",
    "    def moveZeroes(self, nums):\n",
    "        append_times=nums.count(0)\n",
    "        for i in range(append_times):\n",
    "            nums.remove(0) \n",
    "            nums.append(0)\n",
    "        return nums\n",
    "            \n",
    "Solution().moveZeroes([1,2,5,30,0,4,8,0,3,5,7,0])"
   ]
  },
  {
   "cell_type": "markdown",
   "id": "527e88e0",
   "metadata": {},
   "source": [
    "<aside>\n",
    "💡 5. **Rearrange array in alternating positive & negative items with O(1) extra space**\n",
    "\n",
    "Given an **array of positive** and **negative numbers**, arrange them in an **alternate** fashion such that every positive number is followed by a negative and vice-versa maintaining the **order of appearance**. The number of positive and negative numbers need not be equal. If there are more positive numbers they appear at the end of the array. If there are more negative numbers, they too appear at the end of the array.\n",
    "\n",
    "</aside>"
   ]
  },
  {
   "cell_type": "code",
   "execution_count": 4,
   "id": "de47429f",
   "metadata": {},
   "outputs": [
    {
     "name": "stdout",
     "output_type": "stream",
     "text": [
      "[-5, 5, -2, 2, -8, 4, 7, 1, 8, 0]\n"
     ]
    }
   ],
   "source": [
    "def rightRotate(arr, n, outOfPlace, cur):\n",
    "    temp = arr[cur]\n",
    "    for i in range(cur, outOfPlace, -1):\n",
    "        arr[i] = arr[i - 1]\n",
    "    arr[outOfPlace] = temp\n",
    "    return arr\n",
    " \n",
    "def rearrange(arr, n):\n",
    "    outOfPlace = -1\n",
    "    for index in range(n):\n",
    "        if(outOfPlace >= 0):\n",
    "            if((arr[index] >= 0 and arr[outOfPlace] < 0) or\n",
    "               (arr[index] < 0 and arr[outOfPlace] >= 0)):\n",
    "                arr = rightRotate(arr, n, outOfPlace, index)\n",
    "                if(index-outOfPlace > 2):\n",
    "                    outOfPlace += 2\n",
    "                else:\n",
    "                    outOfPlace = - 1\n",
    " \n",
    "        if(outOfPlace == -1):\n",
    "            if((arr[index] >= 0 and index % 2 == 0) or\n",
    "               (arr[index] < 0 and index % 2 == 1)):\n",
    "                outOfPlace = index\n",
    "    return arr\n",
    "\n",
    "arr = [-5, -2, 5, 2, 4,7, 1, 8, 0, -8]\n",
    "print(rearrange(arr, len(arr)))"
   ]
  },
  {
   "cell_type": "markdown",
   "id": "0cf6c5e1",
   "metadata": {},
   "source": [
    "<aside>\n",
    "💡 **6. Merge two sorted arrays**\n",
    "\n",
    "Given two sorted arrays, the task is to merge them in a sorted manner.\n",
    "\n",
    "</aside>"
   ]
  },
  {
   "cell_type": "code",
   "execution_count": 2,
   "id": "9d3b6c3a",
   "metadata": {},
   "outputs": [
    {
     "name": "stdout",
     "output_type": "stream",
     "text": [
      "0 0\n",
      "1 0\n",
      "1 1\n",
      "2 1\n",
      "2 2\n",
      "3 2\n"
     ]
    },
    {
     "data": {
      "text/plain": [
       "[1, 2, 3, 4, 4, 5, 6, 8]"
      ]
     },
     "execution_count": 2,
     "metadata": {},
     "output_type": "execute_result"
    }
   ],
   "source": [
    "def merge_sorted(arr1,arr2):\n",
    "    i=0\n",
    "    j=0\n",
    "    merged = []\n",
    "    while i<len(arr1) and j<len(arr2):\n",
    "        print(i,j)\n",
    "        if arr1[i]<arr2[j]:\n",
    "            merged.append(arr1[i])\n",
    "            i+=1\n",
    "        else:\n",
    "            merged.append(arr2[j])\n",
    "            j+=1\n",
    "    if i == len(arr1):\n",
    "        merged.extend(arr2[j:])\n",
    "    else:\n",
    "        merged.extend(arr1[i:])\n",
    "    return merged\n",
    "    \n",
    "arr1 = [ 1, 3, 4, 5]\n",
    "arr2 = [2, 4, 6, 8]\n",
    "merge_sorted(arr1,arr2)"
   ]
  },
  {
   "cell_type": "markdown",
   "id": "ad42ea8a",
   "metadata": {},
   "source": [
    "<aside>\n",
    "💡 7. **Intersection of Two Arrays**\n",
    "\n",
    "Given two integer arrays `nums1` and `nums2`, return *an array of their intersection*. Each element in the result must be **unique** and you may return the result in **any order**.\n",
    "\n",
    "</aside>"
   ]
  },
  {
   "cell_type": "code",
   "execution_count": 5,
   "id": "ce3c50b5",
   "metadata": {},
   "outputs": [
    {
     "data": {
      "text/plain": [
       "[2]"
      ]
     },
     "execution_count": 5,
     "metadata": {},
     "output_type": "execute_result"
    }
   ],
   "source": [
    "def intersct(arr1,arr2):\n",
    "    sol = []\n",
    "    for i in arr1:\n",
    "        for j in arr2:\n",
    "            if i == j:\n",
    "                sol.append(i)\n",
    "                arr1.remove(i)\n",
    "                arr2.remove(j)\n",
    "    return sol\n",
    "\n",
    "intersct([1,2,2,3],[2,2])"
   ]
  },
  {
   "cell_type": "markdown",
   "id": "b4d153f7",
   "metadata": {},
   "source": [
    "<aside>\n",
    "💡 8. **Intersection of Two Arrays II**\n",
    "\n",
    "Given two integer arrays `nums1` and `nums2`, return *an array of their intersection*. Each element in the result must appear as many times as it shows in both arrays and you may return the result in **any order**.\n",
    "\n",
    "</aside>"
   ]
  },
  {
   "cell_type": "code",
   "execution_count": 7,
   "id": "8c28a6c0",
   "metadata": {},
   "outputs": [
    {
     "data": {
      "text/plain": [
       "[2, 2]"
      ]
     },
     "execution_count": 7,
     "metadata": {},
     "output_type": "execute_result"
    }
   ],
   "source": [
    "def intersct(arr1,arr2):\n",
    "    sol = []\n",
    "    for i in arr1:\n",
    "        for j in arr2:\n",
    "            if i == j:\n",
    "                m = min(arr1.count(i),arr2.count(i))\n",
    "                sol.extend([i]*m)\n",
    "                arr1.remove(i)\n",
    "                arr2.remove(j)\n",
    "    return sol\n",
    "\n",
    "intersct([1,2,2,3],[2,2])"
   ]
  }
 ],
 "metadata": {
  "kernelspec": {
   "display_name": "Python 3 (ipykernel)",
   "language": "python",
   "name": "python3"
  },
  "language_info": {
   "codemirror_mode": {
    "name": "ipython",
    "version": 3
   },
   "file_extension": ".py",
   "mimetype": "text/x-python",
   "name": "python",
   "nbconvert_exporter": "python",
   "pygments_lexer": "ipython3",
   "version": "3.9.13"
  }
 },
 "nbformat": 4,
 "nbformat_minor": 5
}
