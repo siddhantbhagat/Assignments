{
 "cells": [
  {
   "cell_type": "raw",
   "id": "fa5454e4",
   "metadata": {},
   "source": [
    "Given a string s, find the first non-repeating character in it and return its index. If it does not exist, return -1"
   ]
  },
  {
   "cell_type": "code",
   "execution_count": 5,
   "id": "2dbeb363",
   "metadata": {},
   "outputs": [
    {
     "name": "stdout",
     "output_type": "stream",
     "text": [
      "0\n",
      "2\n",
      "-1\n"
     ]
    }
   ],
   "source": [
    "def non_repeating(string):\n",
    "    for char in string:\n",
    "        if string.count(char) == 1:\n",
    "            return string.index(char)\n",
    "        \n",
    "    return -1\n",
    "\n",
    "print(non_repeating('leetcode'))\n",
    "print(non_repeating('loveleetcode'))\n",
    "print(non_repeating('abab'))"
   ]
  },
  {
   "cell_type": "markdown",
   "id": "92592e55",
   "metadata": {},
   "source": [
    "<aside>\n",
    "💡 **Question 2**\n",
    "\n",
    "Given a **circular integer array** `nums` of length `n`, return *the maximum possible sum of a non-empty **subarray** of* `nums`.\n",
    "\n",
    "A **circular array** means the end of the array connects to the beginning of the array. Formally, the next element of `nums[i]` is `nums[(i + 1) % n]` and the previous element of `nums[i]` is `nums[(i - 1 + n) % n]`.\n",
    "\n",
    "A **subarray** may only include each element of the fixed buffer `nums` at most once. Formally, for a subarray `nums[i], nums[i + 1], ..., nums[j]`, there does not exist `i <= k1`, `k2 <= j` with `k1 % n == k2 % n`.\n",
    "\n",
    "</aside>"
   ]
  },
  {
   "cell_type": "code",
   "execution_count": 7,
   "id": "d4dc2aa8",
   "metadata": {},
   "outputs": [
    {
     "data": {
      "text/plain": [
       "10"
      ]
     },
     "execution_count": 7,
     "metadata": {},
     "output_type": "execute_result"
    }
   ],
   "source": [
    "def max_subarray(arr):\n",
    "    sum1=0\n",
    "    max_sofar=0\n",
    "    for i in arr:\n",
    "        if i> sum1:\n",
    "            sum1 = i\n",
    "        else:\n",
    "            sum1+=i\n",
    "        max_sofar= max(max_sofar,i,sum1)\n",
    "    for i in arr:\n",
    "        if i<0:\n",
    "            break\n",
    "        sum1+=i\n",
    "        if i> sum1:\n",
    "            sum1 = i\n",
    "        max_sofar= max(max_sofar,i,sum1)\n",
    "    return max_sofar\n",
    "\n",
    "max_subarray([5,-2,5])"
   ]
  },
  {
   "cell_type": "markdown",
   "id": "555bb99c",
   "metadata": {},
   "source": [
    "<aside>\n",
    "💡 **Question 3**\n",
    "\n",
    "The school cafeteria offers circular and square sandwiches at lunch break, referred to by numbers `0` and `1` respectively. All students stand in a queue. Each student either prefers square or circular sandwiches.\n",
    "\n",
    "The number of sandwiches in the cafeteria is equal to the number of students. The sandwiches are placed in a **stack**. At each step:\n",
    "\n",
    "- If the student at the front of the queue **prefers** the sandwich on the top of the stack, they will **take it** and leave the queue.\n",
    "- Otherwise, they will **leave it** and go to the queue's end.\n",
    "\n",
    "This continues until none of the queue students want to take the top sandwich and are thus unable to eat.\n",
    "\n",
    "You are given two integer arrays `students` and `sandwiches` where `sandwiches[i]` is the type of the `ith` sandwich in the stack (`i = 0` is the top of the stack) and `students[j]` is the preference of the `jth` student in the initial queue (`j = 0` is the front of the queue). Return *the number of students that are unable to eat.*\n",
    "\n",
    "</aside>"
   ]
  },
  {
   "cell_type": "code",
   "execution_count": 10,
   "id": "cc39bf30",
   "metadata": {},
   "outputs": [
    {
     "data": {
      "text/plain": [
       "3"
      ]
     },
     "execution_count": 10,
     "metadata": {},
     "output_type": "execute_result"
    }
   ],
   "source": [
    "def student_sandwiches(arr1,arr2):\n",
    "    ctr =0\n",
    "    while ctr < len(arr1):\n",
    "        if arr1[0]==arr2[0]:\n",
    "            ctr =0\n",
    "            arr1.remove(arr1[0])\n",
    "            arr2.remove(arr2[0])\n",
    "        else:\n",
    "            arr1=arr1[1:]+[arr1[0]]\n",
    "            ctr+=1\n",
    "    return len(arr1)\n",
    "\n",
    "student_sandwiches( [1,1,1,0,0,1], [1,0,0,0,1,1])"
   ]
  },
  {
   "cell_type": "markdown",
   "id": "ed95b81f",
   "metadata": {},
   "source": [
    "<aside>\n",
    "💡 **Question 4**\n",
    "\n",
    "You have a `RecentCounter` class which counts the number of recent requests within a certain time frame.\n",
    "\n",
    "Implement the `RecentCounter` class:\n",
    "\n",
    "- `RecentCounter()` Initializes the counter with zero recent requests.\n",
    "- `int ping(int t)` Adds a new request at time `t`, where `t` represents some time in milliseconds, and returns the number of requests that has happened in the past `3000` milliseconds (including the new request). Specifically, return the number of requests that have happened in the inclusive range `[t - 3000, t]`.\n",
    "\n",
    "It is **guaranteed** that every call to `ping` uses a strictly larger value of `t` than the previous call.\n",
    "\n",
    "</aside>"
   ]
  },
  {
   "cell_type": "code",
   "execution_count": 11,
   "id": "3591cb52",
   "metadata": {},
   "outputs": [],
   "source": [
    "class RecentCounter:\n",
    "\n",
    "    def __init__(self):\n",
    "        self.slide_window = deque()\n",
    "\n",
    "    def ping(self, t: int) -> int:\n",
    "        # step 1). append the current call\n",
    "        self.slide_window.append(t)\n",
    "\n",
    "        # step 2). invalidate the outdated pings\n",
    "        while self.slide_window[0] < t - 3000:\n",
    "            self.slide_window.popleft()\n",
    "\n",
    "        return len(self.slide_window)"
   ]
  },
  {
   "cell_type": "markdown",
   "id": "cfbd5c0d",
   "metadata": {},
   "source": [
    "<aside>\n",
    "💡 **Question 5**\n",
    "\n",
    "There are `n` friends that are playing a game. The friends are sitting in a circle and are numbered from `1` to `n` in **clockwise order**. More formally, moving clockwise from the `ith` friend brings you to the `(i+1)th` friend for `1 <= i < n`, and moving clockwise from the `nth` friend brings you to the `1st` friend.\n",
    "\n",
    "The rules of the game are as follows:\n",
    "\n",
    "1. **Start** at the `1st` friend.\n",
    "2. Count the next `k` friends in the clockwise direction **including** the friend you started at. The counting wraps around the circle and may count some friends more than once.\n",
    "3. The last friend you counted leaves the circle and loses the game.\n",
    "4. If there is still more than one friend in the circle, go back to step `2` **starting** from the friend **immediately clockwise** of the friend who just lost and repeat.\n",
    "5. Else, the last friend in the circle wins the game.\n",
    "\n",
    "Given the number of friends, `n`, and an integer `k`, return *the winner of the game*.\n",
    "\n",
    "</aside>"
   ]
  },
  {
   "cell_type": "code",
   "execution_count": 37,
   "id": "2735ac44",
   "metadata": {},
   "outputs": [
    {
     "data": {
      "text/plain": [
       "3"
      ]
     },
     "execution_count": 37,
     "metadata": {},
     "output_type": "execute_result"
    }
   ],
   "source": [
    "def findTheWinner(n: int, k: int) -> int:\n",
    "    if n==1: \n",
    "        return 1\n",
    "    elif k==1:\n",
    "        return n\n",
    "    elif n>=k:\n",
    "        next_n = n - n//k\n",
    "        z = findTheWinner(next_n, k) - 1\n",
    "        x = (z-n%k + next_n) % next_n\n",
    "        return x + x//(k-1) + 1\n",
    "    else:\n",
    "        return (k + self.findTheWinner(n-1, k) -1) % n + 1\n",
    "\n",
    "findTheWinner(5,2)"
   ]
  },
  {
   "cell_type": "markdown",
   "id": "dd0e27c0",
   "metadata": {},
   "source": [
    "<aside>\n",
    "💡 **Question 6**\n",
    "\n",
    "You are given an integer array `deck`. There is a deck of cards where every card has a unique integer. The integer on the `ith` card is `deck[i]`.\n",
    "\n",
    "You can order the deck in any order you want. Initially, all the cards start face down (unrevealed) in one deck.\n",
    "\n",
    "You will do the following steps repeatedly until all cards are revealed:\n",
    "\n",
    "1. Take the top card of the deck, reveal it, and take it out of the deck.\n",
    "2. If there are still cards in the deck then put the next top card of the deck at the bottom of the deck.\n",
    "3. If there are still unrevealed cards, go back to step 1. Otherwise, stop.\n",
    "\n",
    "Return *an ordering of the deck that would reveal the cards in increasing order*.\n",
    "\n",
    "**Note** that the first entry in the answer is considered to be the top of the deck.\n",
    "\n",
    "</aside>"
   ]
  },
  {
   "cell_type": "code",
   "execution_count": 50,
   "id": "1c639203",
   "metadata": {},
   "outputs": [
    {
     "data": {
      "text/plain": [
       "[2, 13, 3, 11, 5, 17, 7]"
      ]
     },
     "execution_count": 50,
     "metadata": {},
     "output_type": "execute_result"
    }
   ],
   "source": [
    "def deckofcards(arr):\n",
    "    arr=sorted(arr,reverse = True)\n",
    "    res=[]\n",
    "    for i in arr:\n",
    "        if len(res)>1:\n",
    "            res = [res[-1]]+res[:-1]\n",
    "            res.insert(0,i)\n",
    "        else:\n",
    "            res.insert(0,i)\n",
    "    return res\n",
    "\n",
    "arr=[17,13,11,2,3,5,7]\n",
    "deckofcards(arr)"
   ]
  },
  {
   "cell_type": "markdown",
   "id": "ec859095",
   "metadata": {},
   "source": [
    "<aside>\n",
    "💡 **Question 7**\n",
    "\n",
    "Design a queue that supports `push` and `pop` operations in the front, middle, and back.\n",
    "\n",
    "Implement the `FrontMiddleBack` class:\n",
    "\n",
    "- `FrontMiddleBack()` Initializes the queue.\n",
    "- `void pushFront(int val)` Adds `val` to the **front** of the queue.\n",
    "- `void pushMiddle(int val)` Adds `val` to the **middle** of the queue.\n",
    "- `void pushBack(int val)` Adds `val` to the **back** of the queue.\n",
    "- `int popFront()` Removes the **front** element of the queue and returns it. If the queue is empty, return `1`.\n",
    "- `int popMiddle()` Removes the **middle** element of the queue and returns it. If the queue is empty, return `1`.\n",
    "- `int popBack()` Removes the **back** element of the queue and returns it. If the queue is empty, return `1`.\n",
    "\n",
    "**Notice** that when there are **two** middle position choices, the operation is performed on the **frontmost** middle position choice. For example:\n",
    "\n",
    "- Pushing `6` into the middle of `[1, 2, 3, 4, 5]` results in `[1, 2, 6, 3, 4, 5]`.\n",
    "- Popping the middle from `[1, 2, 3, 4, 5, 6]` returns `3` and results in `[1, 2, 4, 5, 6]`.\n",
    "</aside>"
   ]
  },
  {
   "cell_type": "code",
   "execution_count": 51,
   "id": "8663ed3e",
   "metadata": {},
   "outputs": [],
   "source": [
    "class FrontMiddleBackQueue:\n",
    "\n",
    "    def __init__(self):\n",
    "        self.deque = []\n",
    "\n",
    "    def pushFront(self, val: int) -> None:\n",
    "        self.deque[0:0] = [val]\n",
    "\n",
    "    def pushMiddle(self, val: int) -> None:\n",
    "        mid = len(self.deque)//2\n",
    "        self.deque[mid:mid] = [val]\n",
    "\n",
    "    def pushBack(self, val: int) -> None:\n",
    "        self.deque.append(val)\n",
    "\n",
    "    def popFront(self) -> int:\n",
    "        if not self.deque:\n",
    "            return -1\n",
    "        res = self.deque[0]\n",
    "        self.deque[0:1] = []\n",
    "        return res\n",
    "\n",
    "    def popMiddle(self) -> int:\n",
    "        if not self.deque:\n",
    "            return -1\n",
    "        mid = (len(self.deque) - 1)//2\n",
    "        res = self.deque[mid]\n",
    "        self.deque[mid:mid+1] = []\n",
    "        return res\n",
    "\n",
    "    def popBack(self) -> int:\n",
    "        return self.deque.pop() if self.deque else -1"
   ]
  },
  {
   "cell_type": "code",
   "execution_count": null,
   "id": "e019bfc2",
   "metadata": {},
   "outputs": [],
   "source": []
  }
 ],
 "metadata": {
  "kernelspec": {
   "display_name": "Python 3 (ipykernel)",
   "language": "python",
   "name": "python3"
  },
  "language_info": {
   "codemirror_mode": {
    "name": "ipython",
    "version": 3
   },
   "file_extension": ".py",
   "mimetype": "text/x-python",
   "name": "python",
   "nbconvert_exporter": "python",
   "pygments_lexer": "ipython3",
   "version": "3.9.13"
  }
 },
 "nbformat": 4,
 "nbformat_minor": 5
}
