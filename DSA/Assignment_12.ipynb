{
 "cells": [
  {
   "cell_type": "markdown",
   "id": "e9e1e02d",
   "metadata": {},
   "source": [
    "<aside>\n",
    "💡 **Question 1**\n",
    "\n",
    "Given a singly linked list, delete **middle** of the linked list. For example, if given linked list is 1->2->**3**->4->5 then linked list should be modified to 1->2->4->5.If there are **even** nodes, then there would be **two middle** nodes, we need to delete the second middle element. For example, if given linked list is 1->2->3->4->5->6 then it should be modified to 1->2->3->5->6.If the input linked list is NULL or has 1 node, then it should return NULL\n",
    "\n",
    "</aside>"
   ]
  },
  {
   "cell_type": "code",
   "execution_count": 1,
   "id": "ce55a20a",
   "metadata": {},
   "outputs": [
    {
     "name": "stdout",
     "output_type": "stream",
     "text": [
      "1 2 4 5 "
     ]
    }
   ],
   "source": [
    "class ListNode:\n",
    "    def __init__(self, val=0, next=None):\n",
    "        self.val = val\n",
    "        self.next = next\n",
    "\n",
    "# to find middle we use fast and slow approach\n",
    "def deleteMiddleNode(head):\n",
    "    if not head or not head.next:\n",
    "        return None\n",
    "\n",
    "    slow = head\n",
    "    fast = head\n",
    "    prev = None\n",
    "\n",
    "    while fast and fast.next:\n",
    "        fast = fast.next.next\n",
    "        prev = slow\n",
    "        slow = slow.next\n",
    "\n",
    "    prev.next = slow.next\n",
    "\n",
    "    return head\n",
    "\n",
    "\n",
    "# Example usage:\n",
    "# Create the linked list 1->2->3->4->5\n",
    "head = ListNode(1)\n",
    "head.next = ListNode(2)\n",
    "head.next.next = ListNode(3)\n",
    "head.next.next.next = ListNode(4)\n",
    "head.next.next.next.next = ListNode(5)\n",
    "\n",
    "# Delete the middle node(s)\n",
    "new_head = deleteMiddleNode(head)\n",
    "\n",
    "# Print the modified linked list\n",
    "current = new_head\n",
    "while current:\n",
    "    print(current.val, end=\" \")\n",
    "    current = current.next\n"
   ]
  },
  {
   "cell_type": "markdown",
   "id": "32b22cb1",
   "metadata": {},
   "source": [
    "<aside>\n",
    "💡 **Question 2**\n",
    "\n",
    "Given a linked list of **N** nodes. The task is to check if the linked list has a loop. Linked list can contain self loop.\n",
    "\n",
    "</aside>"
   ]
  },
  {
   "cell_type": "code",
   "execution_count": 4,
   "id": "8fa82f00",
   "metadata": {},
   "outputs": [
    {
     "name": "stdout",
     "output_type": "stream",
     "text": [
      "True\n"
     ]
    }
   ],
   "source": [
    "def hasCycle(head):\n",
    "    if not head or not head.next:\n",
    "        return False\n",
    "\n",
    "    slow = head\n",
    "    fast = head.next\n",
    "\n",
    "    while slow != fast:\n",
    "        if not fast or not fast.next:\n",
    "            return False\n",
    "        slow = slow.next\n",
    "        fast = fast.next.next\n",
    "\n",
    "    return True\n",
    "\n",
    "\n",
    "# Example usage:\n",
    "# Create a linked list with a loop\n",
    "head = ListNode(1)\n",
    "head.next = ListNode(2)\n",
    "head.next.next = ListNode(3)\n",
    "head.next.next.next = ListNode(4)\n",
    "head.next.next.next.next = ListNode(5)\n",
    "head.next.next.next.next.next = head.next  # Create a loop from the last node to the second node\n",
    "\n",
    "# Check if the linked list has a loop\n",
    "result = hasCycle(head)\n",
    "print(result)  # Output: True\n"
   ]
  },
  {
   "cell_type": "markdown",
   "id": "cfb6f0f3",
   "metadata": {},
   "source": [
    "<aside>\n",
    "💡 **Question 3**\n",
    "\n",
    "Given a linked list consisting of **L** nodes and given a number **N**. The task is to find the **N**th node from the end of the linked list.\n",
    "\n",
    "</aside>"
   ]
  },
  {
   "cell_type": "code",
   "execution_count": 10,
   "id": "87fa8662",
   "metadata": {},
   "outputs": [
    {
     "name": "stdout",
     "output_type": "stream",
     "text": [
      "4\n",
      "-1\n"
     ]
    }
   ],
   "source": [
    "def findNthFromEnd(head, N):\n",
    "    slow = head\n",
    "    last = head\n",
    "    ctr = 0\n",
    "    #find length\n",
    "    while last:\n",
    "        ctr += 1\n",
    "        last = last.next\n",
    "    if ctr < N:\n",
    "        return -1\n",
    "    for i in range(ctr - N):\n",
    "        slow = slow.next\n",
    "    return slow.val\n",
    "\n",
    "# Example usage:\n",
    "# Create a linked list: 1 -> 2 -> 3 -> 4 -> 5\n",
    "head = ListNode(1)\n",
    "head.next = ListNode(2)\n",
    "head.next.next = ListNode(3)\n",
    "head.next.next.next = ListNode(4)\n",
    "head.next.next.next.next = ListNode(5)\n",
    "\n",
    "result = findNthFromEnd(head, 2)\n",
    "print(result)\n",
    "\n",
    "\n",
    "result = findNthFromEnd(head, 6)\n",
    "print(result)"
   ]
  },
  {
   "cell_type": "markdown",
   "id": "3f93958f",
   "metadata": {},
   "source": [
    "Given a singly linked list of characters, write a function that returns true if the given list is a palindrome, else false."
   ]
  },
  {
   "cell_type": "code",
   "execution_count": 25,
   "id": "3220d9a6",
   "metadata": {},
   "outputs": [
    {
     "name": "stdout",
     "output_type": "stream",
     "text": [
      "True\n"
     ]
    }
   ],
   "source": [
    "class Solution:\n",
    "    def isPalindrome(self, head: ListNode) -> bool:\n",
    "        slow, fast, prev = head, head, None\n",
    "        while fast and fast.next:\n",
    "            slow, fast = slow.next, fast.next.next\n",
    "        prev, slow, prev.next = slow, slow.next, None\n",
    "        while slow:\n",
    "            slow.next, prev, slow = prev, slow, slow.next\n",
    "        fast, slow = head, prev\n",
    "        while slow:\n",
    "            if fast.val != slow.val: return False\n",
    "            fast, slow = fast.next, slow.next\n",
    "        return True\n",
    "\n",
    "\n",
    "# Example usage:\n",
    "# Create a linked list: 'a' -> 'b' -> 'c' -> 'b' -> 'a'\n",
    "head = ListNode('a')\n",
    "head.next = ListNode('b')\n",
    "head.next.next = ListNode('c')\n",
    "head.next.next.next = ListNode('b')\n",
    "head.next.next.next.next = ListNode('a')\n",
    "\n",
    "# Check if the linked list is a palindrome\n",
    "result =Solution().isPalindrome(head)\n",
    "print(result)  # Output: True\n"
   ]
  },
  {
   "cell_type": "markdown",
   "id": "a084169a",
   "metadata": {},
   "source": [
    "<aside>\n",
    "💡 **Question 5**\n",
    "\n",
    "Given a linked list of **N** nodes such that it may contain a loop.\n",
    "\n",
    "A loop here means that the last node of the link list is connected to the node at position X(1-based index). If the link list does not have any loop, X=0.\n",
    "\n",
    "Remove the loop from the linked list, if it is present, i.e. unlink the last node which is forming the loop.\n",
    "\n",
    "</aside>"
   ]
  },
  {
   "cell_type": "code",
   "execution_count": 21,
   "id": "ee69d4c2",
   "metadata": {},
   "outputs": [],
   "source": [
    "class Solution(object):\n",
    "    def hasCycle(self, head):\n",
    "        # Initialize two node slow and fast point to the hesd node...\n",
    "        fastptr = head\n",
    "        slowptr = head\n",
    "        while fastptr is not None and fastptr.next is not None:\n",
    "            # Move slow pointer by 1 node and fast at 2 at each step.\n",
    "            slowptr = slowptr.next\n",
    "            fastptr = fastptr.next.next\n",
    "            # If both the pointers meet at any point, then the cycle is present and return true...\n",
    "            if slowptr == fastptr:\n",
    "                return 1\n",
    "        # removing the loop\n",
    "        fastptr.next =None\n",
    "        return 0"
   ]
  },
  {
   "cell_type": "markdown",
   "id": "61699eec",
   "metadata": {},
   "source": [
    "Given a linked list and two integers M and N. Traverse the linked list such that you retain M nodes then delete next N nodes, continue the same till end of the linked list."
   ]
  },
  {
   "cell_type": "code",
   "execution_count": 26,
   "id": "1754dbaa",
   "metadata": {},
   "outputs": [
    {
     "name": "stdout",
     "output_type": "stream",
     "text": [
      "1 2 6 7 "
     ]
    }
   ],
   "source": [
    "def retainDelete(head, M, N):\n",
    "    current = head\n",
    "\n",
    "    while current:\n",
    "        # Move current M nodes ahead\n",
    "        for _ in range(M - 1):\n",
    "            if current.next:\n",
    "                current = current.next\n",
    "            else:\n",
    "                break\n",
    "\n",
    "        if current is None:\n",
    "            break\n",
    "\n",
    "        # Move temp N nodes ahead\n",
    "        temp = current.next\n",
    "        for _ in range(N):\n",
    "            if temp:\n",
    "                temp = temp.next\n",
    "            else:\n",
    "                break\n",
    "\n",
    "        # Update next pointer of current\n",
    "        current.next = temp\n",
    "\n",
    "        # Move current to the next node\n",
    "        current = temp\n",
    "\n",
    "    return head\n",
    "\n",
    "\n",
    "# Example usage:\n",
    "# Create a linked list: 1 -> 2 -> 3 -> 4 -> 5 -> 6 -> 7 -> 8 -> 9 -> 10\n",
    "head = ListNode(1)\n",
    "current = head\n",
    "for i in range(2, 11):\n",
    "    current.next = ListNode(i)\n",
    "    current = current.next\n",
    "\n",
    "# Traverse the linked list and retain 2 nodes, delete next 3 nodes\n",
    "new_head = retainDelete(head, 2, 3)\n",
    "\n",
    "# Print the modified linked list\n",
    "current = new_head\n",
    "while current:\n",
    "    print(current.val, end=\" \")\n",
    "    current = current.next\n"
   ]
  },
  {
   "cell_type": "markdown",
   "id": "30909965",
   "metadata": {},
   "source": [
    "<aside>\n",
    "💡 **Question 7**\n",
    "\n",
    "Given two linked lists, insert nodes of second list into first list at alternate positions of first list.\n",
    "For example, if first list is 5->7->17->13->11 and second is 12->10->2->4->6, the first list should become 5->12->7->10->17->2->13->4->11->6 and second list should become empty. The nodes of second list should only be inserted when there are positions available. For example, if the first list is 1->2->3 and second list is 4->5->6->7->8, then first list should become 1->4->2->5->3->6 and second list to 7->8.\n",
    "\n",
    "Use of extra space is not allowed (Not allowed to create additional nodes), i.e., insertion must be done in-place. Expected time complexity is O(n) where n is number of nodes in first list.\n",
    "\n",
    "</aside>"
   ]
  },
  {
   "cell_type": "code",
   "execution_count": 27,
   "id": "32549de6",
   "metadata": {},
   "outputs": [
    {
     "name": "stdout",
     "output_type": "stream",
     "text": [
      "5 12 7 10 17 2 13 4 11 6 12 7 10 17 2 13 4 11 6 "
     ]
    }
   ],
   "source": [
    "def insertAlternate(first, second):\n",
    "    if not second:\n",
    "        return first\n",
    "\n",
    "    current_first = first\n",
    "    current_second = second\n",
    "\n",
    "    while current_first and current_second:\n",
    "        next_first = current_first.next\n",
    "        next_second = current_second.next\n",
    "\n",
    "        current_first.next = current_second\n",
    "        current_second.next = next_first\n",
    "\n",
    "        current_first = next_first\n",
    "        current_second = next_second\n",
    "\n",
    "    if current_second:\n",
    "        current_first.next = current_second\n",
    "\n",
    "    return first\n",
    "\n",
    "\n",
    "# Example usage:\n",
    "# Create the first linked list: 5 -> 7 -> 17 -> 13 -> 11\n",
    "first_head = ListNode(5)\n",
    "first_head.next = ListNode(7)\n",
    "first_head.next.next = ListNode(17)\n",
    "first_head.next.next.next = ListNode(13)\n",
    "first_head.next.next.next.next = ListNode(11)\n",
    "\n",
    "# Create the second linked list: 12 -> 10 -> 2 -> 4 -> 6\n",
    "second_head = ListNode(12)\n",
    "second_head.next = ListNode(10)\n",
    "second_head.next.next = ListNode(2)\n",
    "second_head.next.next.next = ListNode(4)\n",
    "second_head.next.next.next.next = ListNode(6)\n",
    "\n",
    "# Insert nodes from the second list into the first list at alternate positions\n",
    "new_first_head = insertAlternate(first_head, second_head)\n",
    "\n",
    "# Print the modified first list\n",
    "current = new_first_head\n",
    "while current:\n",
    "    print(current.val, end=\" \")\n",
    "    current = current.next\n",
    "\n",
    "# Print the modified second list (should be empty)\n",
    "current = second_head\n",
    "while current:\n",
    "    print(current.val, end=\" \")\n",
    "    current = current.next\n"
   ]
  },
  {
   "cell_type": "markdown",
   "id": "5e299f90",
   "metadata": {},
   "source": [
    "<aside>\n",
    "💡 **Question 8**\n",
    "\n",
    "Given a singly linked list, find if the linked list is [circular](https://www.geeksforgeeks.org/circular-linked-list/amp/) or not.\n",
    "\n",
    "</aside>"
   ]
  },
  {
   "cell_type": "code",
   "execution_count": 29,
   "id": "ce1ca7e0",
   "metadata": {},
   "outputs": [
    {
     "data": {
      "text/plain": [
       "True"
      ]
     },
     "execution_count": 29,
     "metadata": {},
     "output_type": "execute_result"
    }
   ],
   "source": [
    "def is_circular(head):\n",
    "    slow = head.next\n",
    "    while slow is not None and head is not slow:\n",
    "        slow = slow.next\n",
    "    return slow == head\n",
    "\n",
    "head = ListNode('a')\n",
    "head.next = ListNode('b')\n",
    "head.next.next = ListNode('c')\n",
    "head.next.next.next = ListNode('b')\n",
    "head.next.next.next.next =head\n",
    "is_circular(head)"
   ]
  },
  {
   "cell_type": "code",
   "execution_count": null,
   "id": "8397baa3",
   "metadata": {},
   "outputs": [],
   "source": []
  }
 ],
 "metadata": {
  "kernelspec": {
   "display_name": "Python 3 (ipykernel)",
   "language": "python",
   "name": "python3"
  },
  "language_info": {
   "codemirror_mode": {
    "name": "ipython",
    "version": 3
   },
   "file_extension": ".py",
   "mimetype": "text/x-python",
   "name": "python",
   "nbconvert_exporter": "python",
   "pygments_lexer": "ipython3",
   "version": "3.9.13"
  }
 },
 "nbformat": 4,
 "nbformat_minor": 5
}
