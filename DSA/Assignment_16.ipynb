{
 "cells": [
  {
   "cell_type": "markdown",
   "id": "ee32c483",
   "metadata": {},
   "source": [
    "<aside>\n",
    "💡 **Question 1**\n",
    "\n",
    "Given an array, for each element find the value of the nearest element to the right which is having a frequency greater than that of the current element. If there does not exist an answer for a position, then make the value ‘-1’.\n",
    "\n",
    "</aside>"
   ]
  },
  {
   "cell_type": "code",
   "execution_count": 47,
   "id": "5d3aeca4",
   "metadata": {},
   "outputs": [
    {
     "name": "stdout",
     "output_type": "stream",
     "text": [
      "[-1, -1, 1, 2, 2, 1, -1]\n"
     ]
    }
   ],
   "source": [
    "from collections import defaultdict\n",
    "\n",
    "def que1(arr):\n",
    "    v = arr\n",
    "    n = len(v)\n",
    "    dd = defaultdict(int)\n",
    "    s = []\n",
    "    for x in v:\n",
    "        dd[x] += 1\n",
    "        \n",
    "    for i in range(len(arr)):\n",
    "        for j in arr[i:]:\n",
    "            i=arr[i]\n",
    "            if dd[i]<dd[j]:\n",
    "                s.append(j)\n",
    "                break\n",
    "        else:\n",
    "            s.append(-1)\n",
    "    print(s)\n",
    "    \n",
    "\n",
    "arr = [1, 1, 2, 3, 4, 2, 1]\n",
    "que1(arr)"
   ]
  },
  {
   "cell_type": "markdown",
   "id": "242f20d7",
   "metadata": {},
   "source": [
    "<aside>\n",
    "💡 **Question 2**\n",
    "\n",
    "Given a stack of integers, sort it in ascending order using another temporary stack.\n",
    "\n",
    "</aside>"
   ]
  },
  {
   "cell_type": "code",
   "execution_count": 37,
   "id": "78fc8281",
   "metadata": {},
   "outputs": [
    {
     "name": "stdout",
     "output_type": "stream",
     "text": [
      "[23, 92]\n",
      "[23]\n",
      "[23, 31, 92]\n",
      "[23, 31]\n",
      "[23]\n",
      "[]\n",
      "[3, 23, 31, 92]\n",
      "[3, 23, 31]\n"
     ]
    },
    {
     "data": {
      "text/plain": [
       "[3, 23, 31, 34, 92, 98]"
      ]
     },
     "execution_count": 37,
     "metadata": {},
     "output_type": "execute_result"
    }
   ],
   "source": [
    "def que2(s1):\n",
    "    s2=[]\n",
    "    s2.append(s1.pop())\n",
    "    while len(s1)>0:\n",
    "#         print(s2)\n",
    "#         print(s1)\n",
    "        temp1 = s1.pop()\n",
    "        temp2 = s2[-1]\n",
    "        if temp1 > temp2:\n",
    "            s2.append(temp1)\n",
    "        else:\n",
    "            while temp1 < temp2:\n",
    "                s1.append(s2.pop())\n",
    "                print(s2)\n",
    "                if len(s2)!=0:\n",
    "                    temp2 = s2[-1]\n",
    "                else:\n",
    "                    break\n",
    "                    \n",
    "            s2.append(temp1)\n",
    "                \n",
    "    return s2\n",
    "\n",
    "\n",
    "que2([34, 3, 31, 98, 92, 23])"
   ]
  },
  {
   "cell_type": "markdown",
   "id": "18adc1b1",
   "metadata": {},
   "source": [
    "# question3\n",
    "Given a stack with push(), pop(), and empty() operations, The task is to delete the middle element of it without using any additional data structure."
   ]
  },
  {
   "cell_type": "code",
   "execution_count": 60,
   "id": "796c7abe",
   "metadata": {},
   "outputs": [
    {
     "data": {
      "text/plain": [
       "[1, 1, 2, 4, 2, 1]"
      ]
     },
     "execution_count": 60,
     "metadata": {},
     "output_type": "execute_result"
    }
   ],
   "source": [
    "# i will use append list function instead of push\n",
    "def delete_middle(arr):\n",
    "    temp=[]\n",
    "    ctr= 0\n",
    "    mid=0\n",
    "    while len(arr)!=0:\n",
    "        temp.append(arr.pop())\n",
    "        ctr+=1\n",
    "    mid = ctr//2\n",
    "    while len(temp)!=0:\n",
    "        ctr-=1\n",
    "        if ctr == mid:\n",
    "            temp.pop()\n",
    "            continue\n",
    "        arr.append(temp.pop())\n",
    "    return arr\n",
    "\n",
    "arr = [1, 1, 2, 3, 4, 2, 1]\n",
    "delete_middle(arr)"
   ]
  },
  {
   "cell_type": "markdown",
   "id": "b87f5e8d",
   "metadata": {},
   "source": [
    "<aside>\n",
    "💡 **Question 4**\n",
    "\n",
    "Given a Queue consisting of first **n** natural numbers (in random order). The task is to check whether the given Queue elements can be arranged in increasing order in another Queue using a stack. The operation allowed are:\n",
    "\n",
    "1. Push and pop elements from the stack\n",
    "2. Pop (Or Dequeue) from the given Queue.\n",
    "3. Push (Or Enqueue) in the another Queue.\n",
    "</aside>"
   ]
  },
  {
   "cell_type": "code",
   "execution_count": 71,
   "id": "3bcee4a9",
   "metadata": {},
   "outputs": [],
   "source": [
    "from queue import Queue\n",
    "\n",
    "def que4(n, q):\n",
    "    st = []\n",
    "    expected = 1\n",
    "    fnt = None\n",
    "    while (not q.empty()):\n",
    "        fnt = q.queue[0]\n",
    "        q.get()\n",
    "        if (fnt == expected):\n",
    "            expected += 1\n",
    "\n",
    "        else:\n",
    "            if (len(st) == 0):\n",
    "                st.append(fnt)\n",
    "            elif (len(st) != 0 and st[-1] < fnt):\n",
    "                return False\n",
    "            else:\n",
    "                st.append(fnt)\n",
    "        while (len(st) != 0 and\n",
    "                st[-1] == expected):\n",
    "            st.pop()\n",
    "            expected += 1\n",
    "    if (expected - 1 == n and len(st) == 0):\n",
    "        return True\n",
    "\n",
    "    return False\n",
    "\n",
    "    "
   ]
  },
  {
   "cell_type": "markdown",
   "id": "21b54818",
   "metadata": {},
   "source": [
    "<aside>\n",
    "💡 **Question 5**\n",
    "\n",
    "Given a number , write a program to reverse this number using stack.\n",
    "\n",
    "</aside>"
   ]
  },
  {
   "cell_type": "code",
   "execution_count": 86,
   "id": "a2a22962",
   "metadata": {},
   "outputs": [
    {
     "data": {
      "text/plain": [
       "531"
      ]
     },
     "execution_count": 86,
     "metadata": {},
     "output_type": "execute_result"
    }
   ],
   "source": [
    "def que5(n):\n",
    "    s=[]\n",
    "    while n/10>1:\n",
    "        s.append(n%10)\n",
    "        n=n//10\n",
    "    m=1\n",
    "    while len(s) !=0:\n",
    "        m*=10\n",
    "        n+=s.pop()*m\n",
    "    return n\n",
    "        \n",
    "        \n",
    "que5(135)"
   ]
  },
  {
   "cell_type": "markdown",
   "id": "58a7e8e8",
   "metadata": {},
   "source": [
    "<aside>\n",
    "💡 **Question 6**\n",
    "\n",
    "Given an integer k and a **[queue](https://www.geeksforgeeks.org/queue-data-structure/)** of integers, The task is to reverse the order of the first **k** elements of the queue, leaving the other elements in the same relative order.\n",
    "\n",
    "Only following standard operations are allowed on queue.\n",
    "\n",
    "</aside>"
   ]
  },
  {
   "cell_type": "code",
   "execution_count": 79,
   "id": "8970dd5e",
   "metadata": {},
   "outputs": [
    {
     "data": {
      "text/plain": [
       "0.1"
      ]
     },
     "execution_count": 79,
     "metadata": {},
     "output_type": "execute_result"
    }
   ],
   "source": [
    "from collections import deque\n",
    "\n",
    "def reverseFirstK(q, k):\n",
    "    d = deque()\n",
    "\n",
    "    # Dequeue the first k elements of the queue and push\n",
    "    # them onto a deque\n",
    "    for i in range(k):\n",
    "        d.appendleft(q.popleft())\n",
    "\n",
    "    # Pop the elements from the deque and enqueue them back\n",
    "    # into the queue\n",
    "    while d:\n",
    "        q.append(d.popleft())\n",
    "\n",
    "    # Dequeue the remaining elements from the queue and\n",
    "    # enqueue them back into the queue\n",
    "    for i in range(len(q) - k):\n",
    "        q.append(q.popleft())"
   ]
  },
  {
   "cell_type": "markdown",
   "id": "798bd6e3",
   "metadata": {},
   "source": [
    "<aside>\n",
    "💡 **Question 7**\n",
    "\n",
    "Given a sequence of n strings, the task is to check if any two similar words come together and then destroy each other then print the number of words left in the sequence after this pairwise destruction.\n",
    "\n",
    "</aside>"
   ]
  },
  {
   "cell_type": "code",
   "execution_count": null,
   "id": "f03a161a",
   "metadata": {},
   "outputs": [],
   "source": [
    "def removeConsecutiveSame(v):\n",
    "    st = []\n",
    "    for i in range(len(v)):\n",
    "        if (len(st) == 0):\n",
    "            st.append(v[i])\n",
    "        else:\n",
    "            Str = st[-1]\n",
    "            if (Str == v[i]):\n",
    "                st.pop()\n",
    "            else:\n",
    "                st.append(v[i])\n",
    "    return len(st)"
   ]
  },
  {
   "cell_type": "markdown",
   "id": "3d0b0ddb",
   "metadata": {},
   "source": [
    "<aside>\n",
    "💡 **Question 8**\n",
    "\n",
    "Given an array of integers, the task is to find the maximum absolute difference between the nearest left and the right smaller element of every element in the array.\n",
    "\n",
    "**Note:** If there is no smaller element on right side or left side of any element then we take zero as the smaller element. For example for the leftmost element, the nearest smaller element on the left side is considered as 0. Similarly, for rightmost elements, the smaller element on the right side is considered as 0.\n",
    "\n",
    "</aside>"
   ]
  },
  {
   "cell_type": "code",
   "execution_count": null,
   "id": "afca146b",
   "metadata": {},
   "outputs": [],
   "source": [
    "def leftsmaller(arr, n, SE):\n",
    "    sta = []\n",
    "    for i in range(n):\n",
    "        while(sta != [] and sta[len(sta)-1] >= arr[i]):\n",
    "            sta.pop()\n",
    "        if(sta != []):\n",
    "            SE[i]=sta[len(sta)-1]\n",
    "        else:\n",
    "            SE[i]=0\n",
    "        sta.append(arr[i])\n",
    "\n",
    "    def findMaxDiff(arr, n):\n",
    "    ls=[0]*n \n",
    "    rs=[0]*n \n",
    "    leftsmaller(arr, n, ls)\n",
    "    leftsmaller(arr[::-1], n, rs)\n",
    "    res = -1\n",
    "    for i in range(n):\n",
    "        res = max(res, abs(ls[i] - rs[n-1-i]))\n",
    "    return res"
   ]
  }
 ],
 "metadata": {
  "kernelspec": {
   "display_name": "Python 3 (ipykernel)",
   "language": "python",
   "name": "python3"
  },
  "language_info": {
   "codemirror_mode": {
    "name": "ipython",
    "version": 3
   },
   "file_extension": ".py",
   "mimetype": "text/x-python",
   "name": "python",
   "nbconvert_exporter": "python",
   "pygments_lexer": "ipython3",
   "version": "3.9.13"
  }
 },
 "nbformat": 4,
 "nbformat_minor": 5
}
