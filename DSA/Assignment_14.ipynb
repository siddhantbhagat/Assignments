{
 "cells": [
  {
   "cell_type": "markdown",
   "id": "1047ca93",
   "metadata": {},
   "source": [
    "<aside>\n",
    "💡 **Question 1**\n",
    "\n",
    "Given a linked list of **N** nodes such that it may contain a loop.\n",
    "\n",
    "A loop here means that the last node of the link list is connected to the node at position X(1-based index). If the link list does not have any loop, X=0.\n",
    "\n",
    "Remove the loop from the linked list, if it is present, i.e. unlink the last node which is forming the loop.\n",
    "\n",
    "</aside>"
   ]
  },
  {
   "cell_type": "code",
   "execution_count": 1,
   "id": "b94c32d6",
   "metadata": {},
   "outputs": [],
   "source": [
    "class LinkedList:\n",
    "\thead = None\n",
    "\n",
    "\tclass Node:\n",
    "\t\tdata = 0\n",
    "\t\tnext = None\n",
    "\n",
    "\t\tdef __init__(self, d):\n",
    "\t\t\tself.data = d\n",
    "\t\t\tself.next = None\n",
    "\n",
    "\t@staticmethod\n",
    "\tdef push(new_data):\n",
    "\t\tnew_node = LinkedList.Node(new_data)\n",
    "\t\tnew_node.next = LinkedList.head\n",
    "\t\tLinkedList.head = new_node\n",
    "\n",
    "\tdef printList(self, node):\n",
    "\t\twhile (node != None):\n",
    "\t\t\tprint(node.data)\n",
    "\t\t\tnode = node.next\n",
    "\n",
    "\t@staticmethod\n",
    "\tdef removeLoop(h):\n",
    "\t\ts = set()\n",
    "\t\tprev = None\n",
    "\t\twhile (h != None):\n",
    "\t\t\tif (h in s):\n",
    "\t\t\t\tprev.next = None\n",
    "\t\t\t\treturn True\n",
    "\t\t\telse:\n",
    "\t\t\t\ts.add(h)\n",
    "\t\t\t\tprev = h\n",
    "\t\t\t\th = h.next\n",
    "\t\treturn False\n",
    "\n"
   ]
  },
  {
   "cell_type": "code",
   "execution_count": null,
   "id": "df841073",
   "metadata": {},
   "outputs": [],
   "source": []
  }
 ],
 "metadata": {
  "kernelspec": {
   "display_name": "Python 3 (ipykernel)",
   "language": "python",
   "name": "python3"
  },
  "language_info": {
   "codemirror_mode": {
    "name": "ipython",
    "version": 3
   },
   "file_extension": ".py",
   "mimetype": "text/x-python",
   "name": "python",
   "nbconvert_exporter": "python",
   "pygments_lexer": "ipython3",
   "version": "3.11.1"
  }
 },
 "nbformat": 4,
 "nbformat_minor": 5
}
