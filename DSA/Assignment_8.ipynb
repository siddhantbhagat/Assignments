{
 "cells": [
  {
   "cell_type": "markdown",
   "metadata": {},
   "source": [
    "<aside>\n",
    "💡 **Question 1**\n",
    "\n",
    "Given two strings s1 and s2, return *the lowest **ASCII** sum of deleted characters to make two strings equal*.\n",
    "\n",
    "**Example 1:**\n",
    "\n",
    "**Input:** s1 = \"sea\", s2 = \"eat\"\n",
    "\n",
    "**Output:** 231\n",
    "\n",
    "**Explanation:** Deleting \"s\" from \"sea\" adds the ASCII value of \"s\" (115) to the sum.\n",
    "\n",
    "Deleting \"t\" from \"eat\" adds 116 to the sum.\n",
    "\n",
    "At the end, both strings are equal, and 115 + 116 = 231 is the minimum sum possible to achieve this.\n",
    "\n",
    "</aside>"
   ]
  },
  {
   "cell_type": "code",
   "execution_count": 9,
   "metadata": {},
   "outputs": [
    {
     "data": {
      "text/plain": [
       "231"
      ]
     },
     "execution_count": 9,
     "metadata": {},
     "output_type": "execute_result"
    }
   ],
   "source": [
    "# assuming there might be multiple characters to be deleted\n",
    "def lowest_ascii(s1,s2):\n",
    "    a = (set(\"sea\")- set(\"eat\")).union(set(\"eat\")- set(\"sea\"))\n",
    "    sum1 = 0\n",
    "    for i in a:\n",
    "        sum1 += ord(i)\n",
    "    return sum1\n",
    "\n",
    "lowest_ascii(s1 = \"sea\", s2 = \"eat\")"
   ]
  },
  {
   "cell_type": "markdown",
   "metadata": {},
   "source": [
    "<aside>\n",
    "💡 **Question 2**\n",
    "\n",
    "Given a string s containing only three types of characters: '(', ')' and '*', return true *if* s *is **valid***.\n",
    "\n",
    "The following rules define a **valid** string:\n",
    "\n",
    "- Any left parenthesis '(' must have a corresponding right parenthesis ')'.\n",
    "- Any right parenthesis ')' must have a corresponding left parenthesis '('.\n",
    "- Left parenthesis '(' must go before the corresponding right parenthesis ')'.\n",
    "- '*' could be treated as a single right parenthesis ')' or a single left parenthesis '(' or an empty string \"\".\n",
    "\n",
    "**Example 1:**\n",
    "\n",
    "**Input:** s = \"()\"\n",
    "\n",
    "**Output:**\n",
    "\n",
    "true\n",
    "\n",
    "</aside>"
   ]
  },
  {
   "cell_type": "code",
   "execution_count": 20,
   "metadata": {},
   "outputs": [
    {
     "name": "stdout",
     "output_type": "stream",
     "text": [
      "False\n",
      "True\n",
      "True\n"
     ]
    }
   ],
   "source": [
    "def isvalid(s):\n",
    "    if \"()\" in s:\n",
    "        s=s.replace(\"()\",\"\")\n",
    "        isvalid(s)\n",
    "    elif \"*)\" in s:\n",
    "        s=s.replace(\"*)\",\"\")\n",
    "        isvalid(s)\n",
    "    elif \"(*\" in s:\n",
    "        s=s.replace(\"(*\",\"\")\n",
    "        isvalid(s)\n",
    "    elif len(s) == 0:\n",
    "        print(\"True\")\n",
    "    else:\n",
    "        print(\"False\")\n",
    "    \n",
    "isvalid(\"())\")\n",
    "isvalid(\"()\")\n",
    "isvalid(\"(*))\")\n",
    "    "
   ]
  },
  {
   "cell_type": "markdown",
   "metadata": {},
   "source": [
    "<aside>\n",
    "💡 **Question 3**\n",
    "\n",
    "Given two strings word1 and word2, return *the minimum number of **steps** required to make* word1 *and* word2 *the same*.\n",
    "\n",
    "In one **step**, you can delete exactly one character in either string.\n",
    "\n",
    "**Example 1:**\n",
    "\n",
    "**Input:** word1 = \"sea\", word2 = \"eat\"\n",
    "\n",
    "**Output:** 2\n",
    "\n",
    "**Explanation:** You need one step to make \"sea\" to \"ea\" and another step to make \"eat\" to \"ea\".\n",
    "\n",
    "</aside>"
   ]
  },
  {
   "cell_type": "code",
   "execution_count": 28,
   "metadata": {},
   "outputs": [
    {
     "data": {
      "text/plain": [
       "2"
      ]
     },
     "execution_count": 28,
     "metadata": {},
     "output_type": "execute_result"
    }
   ],
   "source": [
    "# assuming there might be multiple characters to be deleted\n",
    "def lowest_ascii(s1,s2):\n",
    "    a = (set(\"sea\")- set(\"eat\")).union(set(\"eat\")- set(\"sea\"))\n",
    "    return len(a)\n",
    "\n",
    "lowest_ascii(s1 = \"sea\", s2 = \"eat\")"
   ]
  },
  {
   "cell_type": "markdown",
   "metadata": {},
   "source": [
    "<aside>\n",
    "💡 **Question 4**\n",
    "\n",
    "You need to construct a binary tree from a string consisting of parenthesis and integers.\n",
    "\n",
    "The whole input represents a binary tree. It contains an integer followed by zero, one or two pairs of parenthesis. The integer represents the root's value and a pair of parenthesis contains a child binary tree with the same structure.\n",
    "You always start to construct the **left** child node of the parent first if it exists.\n",
    "\n",
    "![Screenshot 2023-05-29 010548.png](https://s3-us-west-2.amazonaws.com/secure.notion-static.com/bdbea2d1-34a4-4c4b-a450-ea6db7410c43/Screenshot_2023-05-29_010548.png)\n",
    "\n",
    "**Input:** s = \"4(2(3)(1))(6(5))\"\n",
    "\n",
    "**Output:** [4,2,6,3,1,5]\n",
    "\n",
    "</aside>"
   ]
  },
  {
   "cell_type": "code",
   "execution_count": 32,
   "metadata": {},
   "outputs": [
    {
     "name": "stdout",
     "output_type": "stream",
     "text": [
      "4 2 3 1 6 5 "
     ]
    }
   ],
   "source": [
    "class newNode:\n",
    "    def __init__(self, data):\n",
    "        self.data = data\n",
    "        self.left = self.right = None\n",
    " \n",
    " \n",
    "def preOrder(node):\n",
    "    if (node == None):\n",
    "        return\n",
    "    print(node.data, end=\" \")\n",
    "    preOrder(node.left)\n",
    "    preOrder(node.right)\n",
    " \n",
    " \n",
    "def treeFromStringHelper(si, ei, arr, root):\n",
    " \n",
    "    if si[0] >= ei:\n",
    "        return None\n",
    " \n",
    "    if arr[si[0]] == \"(\":\n",
    " \n",
    "        if arr[si[0]+1] != \")\":\n",
    "            if root.left is None:\n",
    "                if si[0] >= ei:\n",
    "                    return\n",
    "                new_root = newNode(arr[si[0]+1])\n",
    "                root.left = new_root\n",
    "                si[0] += 2\n",
    "                treeFromStringHelper(si, ei, arr, new_root)\n",
    " \n",
    "        else:\n",
    "            si[0] += 2\n",
    " \n",
    "        if root.right is None:\n",
    "            if si[0] >= ei:\n",
    "                return\n",
    " \n",
    "            if arr[si[0]] != \"(\":\n",
    "                si[0] += 1\n",
    "                return\n",
    " \n",
    "            new_root = newNode(arr[si[0]+1])\n",
    "            root.right = new_root\n",
    "            si[0] += 2\n",
    "            treeFromStringHelper(si, ei, arr, new_root)\n",
    "        else:\n",
    "            return\n",
    " \n",
    "    if arr[si[0]] == \")\":\n",
    "        if si[0] >= ei:\n",
    "            return\n",
    "        si[0] += 1\n",
    "        return\n",
    " \n",
    "    return\n",
    " \n",
    "def treeFromString(string):\n",
    " \n",
    "    root = newNode(string[0])\n",
    " \n",
    "    if len(string) > 1:\n",
    "        si = [1]\n",
    "        ei = len(string)-1\n",
    " \n",
    "        treeFromStringHelper(si, ei, string, root)\n",
    " \n",
    "    return root\n",
    " \n",
    "# Driver Code\n",
    "if __name__ == '__main__':\n",
    "    Str = \"4(2(3)(1))(6(5))\"\n",
    "    root = treeFromString(Str)\n",
    "    preOrder(root)"
   ]
  },
  {
   "cell_type": "markdown",
   "metadata": {},
   "source": [
    "<aside>\n",
    "💡 **Question 5**\n",
    "\n",
    "Given an array of characters chars, compress it using the following algorithm:\n",
    "\n",
    "Begin with an empty string s. For each group of **consecutive repeating characters** in chars:\n",
    "\n",
    "- If the group's length is 1, append the character to s.\n",
    "- Otherwise, append the character followed by the group's length.\n",
    "\n",
    "The compressed string s **should not be returned separately**, but instead, be stored **in the input character array chars**. Note that group lengths that are 10 or longer will be split into multiple characters in chars.\n",
    "\n",
    "After you are done **modifying the input array,** return *the new length of the array*.\n",
    "\n",
    "You must write an algorithm that uses only constant extra space.\n",
    "\n",
    "**Example 1:**\n",
    "\n",
    "**Input:** chars = [\"a\",\"a\",\"b\",\"b\",\"c\",\"c\",\"c\"]\n",
    "\n",
    "**Output:** Return 6, and the first 6 characters of the input array should be: [\"a\",\"2\",\"b\",\"2\",\"c\",\"3\"]\n",
    "\n",
    "**Explanation:**\n",
    "\n",
    "The groups are \"aa\", \"bb\", and \"ccc\". This compresses to \"a2b2c3\".\n",
    "\n",
    "</aside>"
   ]
  },
  {
   "cell_type": "code",
   "execution_count": 13,
   "metadata": {},
   "outputs": [
    {
     "name": "stdout",
     "output_type": "stream",
     "text": [
      "a\n",
      "b\n",
      "c\n",
      "cc\n"
     ]
    },
    {
     "data": {
      "text/plain": [
       "['aa', 'bb', 'ccc']"
      ]
     },
     "execution_count": 13,
     "metadata": {},
     "output_type": "execute_result"
    }
   ],
   "source": [
    "def compact_string(s):\n",
    "    l=1\n",
    "    ctr=[]\n",
    "    z=\"&\"\n",
    "    for i in s:\n",
    "        if z[0] == i:\n",
    "            z+=i\n",
    "            l+=1\n",
    "        else:\n",
    "            ctr.append(z)\n",
    "            z=i\n",
    "            l+=1\n",
    "    ctr.append(z)\n",
    "    return ctr[1:]\n",
    "            \n",
    "    \n",
    "        \n",
    "compact_string([\"a\",\"a\",\"b\",\"b\",\"c\",\"c\",\"c\"])   "
   ]
  },
  {
   "cell_type": "markdown",
   "metadata": {},
   "source": [
    "<aside>\n",
    "💡 **Question 6**\n",
    "\n",
    "Given two strings s and p, return *an array of all the start indices of* p*'s anagrams in* s. You may return the answer in **any order**.\n",
    "\n",
    "An **Anagram** is a word or phrase formed by rearranging the letters of a different word or phrase, typically using all the original letters exactly once.\n",
    "\n",
    "**Example 1:**\n",
    "\n",
    "**Input:** s = \"cbaebabacd\", p = \"abc\"\n",
    "\n",
    "**Output:** [0,6]\n",
    "\n",
    "**Explanation:**\n",
    "\n",
    "The substring with start index = 0 is \"cba\", which is an anagram of \"abc\".\n",
    "\n",
    "The substring with start index = 6 is \"bac\", which is an anagram of \"abc\".\n",
    "\n",
    "</aside>"
   ]
  },
  {
   "cell_type": "code",
   "execution_count": 30,
   "metadata": {},
   "outputs": [
    {
     "data": {
      "text/plain": [
       "[0, 6]"
      ]
     },
     "execution_count": 30,
     "metadata": {},
     "output_type": "execute_result"
    }
   ],
   "source": [
    "def findAnagrams(s, p):\n",
    "    result = []\n",
    "    freq_p = {}\n",
    "    freq_s = {}\n",
    "    left = 0\n",
    "    right = 0\n",
    "    count = 0\n",
    "\n",
    "    # Create frequency map for p\n",
    "    for char in p:\n",
    "        freq_p[char] = freq_p.get(char, 0) + 1\n",
    "\n",
    "    while right < len(s):\n",
    "        # Expand the window and update the frequency map for s\n",
    "        freq_s[s[right]] = freq_s.get(s[right], 0) + 1\n",
    "        if freq_s[s[right]] <= freq_p.get(s[right], 0):\n",
    "            count += 1\n",
    "\n",
    "        # Check if the window size is equal to the length of p\n",
    "        if right - left + 1 == len(p):\n",
    "            # Found an anagram of p\n",
    "            if count == len(p):\n",
    "                result.append(left)\n",
    "\n",
    "            # Shrink the window and update the frequency map\n",
    "            freq_s[s[left]] -= 1\n",
    "            if freq_s[s[left]] < freq_p.get(s[left], 0):\n",
    "                count -= 1\n",
    "            left += 1\n",
    "\n",
    "        right += 1\n",
    "\n",
    "    return result\n",
    "findAnagrams(s = \"cbaebabacd\", p = \"abc\")"
   ]
  },
  {
   "cell_type": "markdown",
   "metadata": {},
   "source": [
    "<aside>\n",
    "💡 **Question 7**\n",
    "\n",
    "Given an encoded string, return its decoded string.\n",
    "\n",
    "The encoding rule is: k[encoded_string], where the encoded_string inside the square brackets is being repeated exactly k times. Note that k is guaranteed to be a positive integer.\n",
    "\n",
    "You may assume that the input string is always valid; there are no extra white spaces, square brackets are well-formed, etc. Furthermore, you may assume that the original data does not contain any digits and that digits are only for those repeat numbers, k. For example, there will not be input like 3a or 2[4].\n",
    "\n",
    "The test cases are generated so that the length of the output will never exceed 105.\n",
    "\n",
    "**Example 1:**\n",
    "\n",
    "**Input:** s = \"3[a]2[bc]\"\n",
    "\n",
    "**Output:** \"aaabcbc\"\n",
    "\n",
    "</aside>"
   ]
  },
  {
   "cell_type": "code",
   "execution_count": 29,
   "metadata": {},
   "outputs": [
    {
     "data": {
      "text/plain": [
       "'aaabcbc'"
      ]
     },
     "execution_count": 29,
     "metadata": {},
     "output_type": "execute_result"
    }
   ],
   "source": [
    "def decode_string(s):\n",
    "    stack = []\n",
    "    curr_str = \"\"\n",
    "    curr_num = 0\n",
    "\n",
    "    for char in s:\n",
    "        if char.isdigit():\n",
    "            curr_num = curr_num * 10 + int(char)\n",
    "        elif char == \"[\":\n",
    "            stack.append(curr_str)\n",
    "            stack.append(curr_num)\n",
    "            curr_str = \"\"\n",
    "            curr_num = 0\n",
    "        elif char == \"]\":\n",
    "            num = stack.pop()\n",
    "            prev_str = stack.pop()\n",
    "            curr_str = prev_str + num * curr_str\n",
    "        else:\n",
    "            curr_str += char\n",
    "\n",
    "    return curr_str\n",
    "\n",
    "        \n",
    "decode_string(\"3[a]2[bc]\")"
   ]
  },
  {
   "cell_type": "markdown",
   "metadata": {},
   "source": [
    "<aside>\n",
    "💡 **Question 8**\n",
    "\n",
    "Given two strings s and goal, return true *if you can swap two letters in* s *so the result is equal to* goal*, otherwise, return* false*.*\n",
    "\n",
    "Swapping letters is defined as taking two indices i and j (0-indexed) such that i != j and swapping the characters at s[i] and s[j].\n",
    "\n",
    "- For example, swapping at indices 0 and 2 in \"abcd\" results in \"cbad\".\n",
    "\n",
    "**Example 1:**\n",
    "\n",
    "**Input:** s = \"ab\", goal = \"ba\"\n",
    "\n",
    "**Output:** true\n",
    "\n",
    "**Explanation:** You can swap s[0] = 'a' and s[1] = 'b' to get \"ba\", which is equal to goal.\n",
    "\n",
    "</aside>"
   ]
  },
  {
   "cell_type": "code",
   "execution_count": 31,
   "metadata": {},
   "outputs": [
    {
     "name": "stdout",
     "output_type": "stream",
     "text": [
      "True\n"
     ]
    }
   ],
   "source": [
    "def buddyStrings(s, goal):\n",
    "    if s == goal:\n",
    "        # Case 1: s and goal are already equal\n",
    "        return True\n",
    "    elif len(s) != len(goal):\n",
    "        # Case 2: Lengths of s and goal are different\n",
    "        return False\n",
    "\n",
    "    diff_count = 0\n",
    "    diff_indexes = []\n",
    "\n",
    "    for i in range(len(s)):\n",
    "        if s[i] != goal[i]:\n",
    "            diff_count += 1\n",
    "            diff_indexes.append(i)\n",
    "\n",
    "        if diff_count > 2:\n",
    "            # Case 3: More than two different characters\n",
    "            return False\n",
    "\n",
    "    if diff_count == 2:\n",
    "        # Case 4: Two different characters\n",
    "        idx1, idx2 = diff_indexes\n",
    "        return s[idx1] == goal[idx2] and s[idx2] == goal[idx1]\n",
    "\n",
    "    return False\n",
    "\n",
    "s1 = \"abcd\"\n",
    "goal1 = \"cbad\"\n",
    "print(buddyStrings(s1, goal1))"
   ]
  },
  {
   "cell_type": "code",
   "execution_count": null,
   "metadata": {},
   "outputs": [],
   "source": []
  }
 ],
 "metadata": {
  "kernelspec": {
   "display_name": "Python 3 (ipykernel)",
   "language": "python",
   "name": "python3"
  },
  "language_info": {
   "codemirror_mode": {
    "name": "ipython",
    "version": 3
   },
   "file_extension": ".py",
   "mimetype": "text/x-python",
   "name": "python",
   "nbconvert_exporter": "python",
   "pygments_lexer": "ipython3",
   "version": "3.9.13"
  }
 },
 "nbformat": 4,
 "nbformat_minor": 2
}
