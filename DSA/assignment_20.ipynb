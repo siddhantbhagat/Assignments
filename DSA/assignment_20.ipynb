{
 "cells": [
  {
   "cell_type": "code",
   "execution_count": 3,
   "id": "eb664d6a",
   "metadata": {},
   "outputs": [],
   "source": [
    "class TreeNode:\n",
    "    def __init__(self, value):\n",
    "        self.value = value\n",
    "        self.left = None\n",
    "        self.right = None\n",
    "        \n",
    "        \n",
    "a = TreeNode(1)\n",
    "b = TreeNode(2)\n",
    "c = TreeNode(3)\n",
    "d = TreeNode(4)\n",
    "e = TreeNode(5)\n",
    "f = TreeNode(6)\n",
    "g = TreeNode(7)\n",
    "\n",
    "a.left = b\n",
    "a.right = c\n",
    "b.left = d\n",
    "b.right = e\n",
    "c.left = f\n",
    "c.right = g"
   ]
  },
  {
   "cell_type": "markdown",
   "id": "14d0d055",
   "metadata": {},
   "source": [
    "<aside>\n",
    "💡 Question-1\n",
    "\n",
    "Given a binary tree, your task is to find subtree with maximum sum in tree.\n",
    "\n",
    "</aside>"
   ]
  },
  {
   "cell_type": "code",
   "execution_count": 4,
   "id": "2387ad77",
   "metadata": {},
   "outputs": [
    {
     "data": {
      "text/plain": [
       "28"
      ]
     },
     "execution_count": 4,
     "metadata": {},
     "output_type": "execute_result"
    }
   ],
   "source": [
    "def max_sum_subtree(root_node):\n",
    "    if root_node == None:\n",
    "        return 0\n",
    "    sum1 = root_node.value\n",
    "    left_sum = max_sum_subtree(root_node.left)\n",
    "    right_sum =max_sum_subtree(root_node.right)\n",
    "    if left_sum > 0:\n",
    "        sum1 += left_sum\n",
    "    if right_sum > 0:\n",
    "        sum1 += right_sum\n",
    "    return sum1\n",
    "\n",
    "max_sum_subtree(a)"
   ]
  },
  {
   "cell_type": "markdown",
   "id": "1d944a42",
   "metadata": {},
   "source": [
    "<aside>\n",
    "💡 Question-2\n",
    "\n",
    "Construct the BST (Binary Search Tree) from its given level order traversal.\n",
    "\n",
    "</aside>"
   ]
  },
  {
   "cell_type": "code",
   "execution_count": 5,
   "id": "e15abcc7",
   "metadata": {},
   "outputs": [
    {
     "name": "stdout",
     "output_type": "stream",
     "text": [
      "[1, 3, 5, 4, 6, 10, 7, 8, 12]\n"
     ]
    }
   ],
   "source": [
    "class Node:\n",
    "    def __init__(self, value):\n",
    "        self.val = value\n",
    "        self.value = value\n",
    "        self.left = None\n",
    "        self.right = None\n",
    "\n",
    "\n",
    "def construct_bst(level_order):\n",
    "    if not level_order:\n",
    "        return None\n",
    "\n",
    "    root = Node(level_order[0])\n",
    "    queue = [root]\n",
    "    i = 1\n",
    "\n",
    "    while queue and i < len(level_order):\n",
    "        current_node = queue.pop(0)\n",
    "\n",
    "        if level_order[i] < current_node.val:\n",
    "            current_node.left = Node(level_order[i])\n",
    "            queue.append(current_node.left)\n",
    "            i += 1\n",
    "\n",
    "        if i < len(level_order) and level_order[i] > current_node.val:\n",
    "            current_node.right = Node(level_order[i])\n",
    "            queue.append(current_node.right)\n",
    "            i += 1\n",
    "\n",
    "    return root\n",
    "\n",
    "\n",
    "def inorder_traversal(node):\n",
    "    if node is None:\n",
    "        return []\n",
    "\n",
    "    result = []\n",
    "    result += inorder_traversal(node.left)\n",
    "    result.append(node.val)\n",
    "    result += inorder_traversal(node.right)\n",
    "\n",
    "    return result\n",
    "\n",
    "\n",
    "# Example usage:\n",
    "level_order = [7, 4, 12, 3, 6, 8, 1, 5, 10]\n",
    "root = construct_bst(level_order)\n",
    "inorder = inorder_traversal(root)\n",
    "print(inorder)\n"
   ]
  },
  {
   "cell_type": "code",
   "execution_count": 6,
   "id": "f29bd5b4",
   "metadata": {},
   "outputs": [
    {
     "name": "stdout",
     "output_type": "stream",
     "text": [
      "\n",
      "\n",
      "7 \n",
      "\n",
      "4 12 \n",
      "\n",
      "3 6 8 \n",
      "\n",
      "1 5 10 \n",
      "\n"
     ]
    }
   ],
   "source": [
    "class TreeOperation:\n",
    "    def tree_levels(self,root_node):\n",
    "        if root_node==None:\n",
    "            return 0\n",
    "        return 1 + max(self.tree_levels(root_node.left),self.tree_levels(root_node.right))\n",
    "    \n",
    "    def nth_level(self,root_node,current_level,level):\n",
    "        if root_node==None or current_level > level:\n",
    "            return\n",
    "        if current_level == level:\n",
    "            print(str(root_node.value) + \" \",end='')\n",
    "        self.nth_level(root_node.left,current_level + 1,level)\n",
    "        self.nth_level(root_node.right,current_level + 1,level)\n",
    "    \n",
    "    def display_tree_structure(self,root_node):\n",
    "        for i in range(self.tree_levels(root_node)+1):\n",
    "            self.nth_level(root_node,1,i)\n",
    "            print('\\n')\n",
    "            \n",
    "TreeOperation().display_tree_structure(root)"
   ]
  },
  {
   "cell_type": "markdown",
   "id": "b14da6a8",
   "metadata": {},
   "source": [
    "# question 3\n",
    "Given an array of size n. The problem is to check whether the given array can represent the level order traversal of a Binary Search Tree or not."
   ]
  },
  {
   "cell_type": "code",
   "execution_count": 5,
   "id": "fd82fa24",
   "metadata": {},
   "outputs": [
    {
     "data": {
      "text/plain": [
       "True"
      ]
     },
     "execution_count": 5,
     "metadata": {},
     "output_type": "execute_result"
    }
   ],
   "source": [
    "INT_MIN, INT_MAX = float('-inf'), float('inf')\n",
    "\n",
    "class NodeDetails:\n",
    "\n",
    "    def __init__(self, data, min, max):\n",
    "        self.data = data\n",
    "        self.min = min\n",
    "        self.max = max\n",
    "        \n",
    "def levelOrderIsOfBST(arr, n):\n",
    "    if n == 0:\n",
    "        return True\n",
    "    q = []\n",
    "    i = 0\n",
    "    newNode = NodeDetails(arr[i], INT_MIN, INT_MAX)\n",
    "    i += 1\n",
    "    q.append(newNode)\n",
    "    while i != n and len(q) != 0:\n",
    "        temp = q.pop(0)\n",
    "        if i < n and (arr[i] < temp.data and\n",
    "                    arr[i] > temp.min):\n",
    "            newNode = NodeDetails(arr[i], temp.min, temp.data)\n",
    "            i += 1\n",
    "            q.append(newNode)\n",
    "        if i < n and (arr[i] > temp.data and\n",
    "                    arr[i] < temp.max):\n",
    "            newNode = NodeDetails(arr[i], temp.data, temp.max)\n",
    "            i += 1\n",
    "            q.append(newNode)\n",
    "    if i == n:\n",
    "        return True\n",
    "    return False\n",
    "\n",
    "arr = [7, 4, 12, 3, 6, 8, 1, 5, 10]\n",
    "n = len(arr)\n",
    "levelOrderIsOfBST(arr, n)\n"
   ]
  },
  {
   "cell_type": "code",
   "execution_count": null,
   "id": "ec6ae7fe",
   "metadata": {},
   "outputs": [],
   "source": []
  }
 ],
 "metadata": {
  "kernelspec": {
   "display_name": "Python 3 (ipykernel)",
   "language": "python",
   "name": "python3"
  },
  "language_info": {
   "codemirror_mode": {
    "name": "ipython",
    "version": 3
   },
   "file_extension": ".py",
   "mimetype": "text/x-python",
   "name": "python",
   "nbconvert_exporter": "python",
   "pygments_lexer": "ipython3",
   "version": "3.9.13"
  }
 },
 "nbformat": 4,
 "nbformat_minor": 5
}
