{
 "cells": [
  {
   "cell_type": "markdown",
   "id": "389dff98",
   "metadata": {},
   "source": [
    "### 1.What are the two values of the Boolean data type? How do you write them?\n",
    "\n",
    "- True and False are two values of boolean data type they represent ON ( 1 ) and OFF ( 0 ) states respectively. It is important to write first letter of 'True and False' capital, otherwise system will not recognise it as boolean value."
   ]
  },
  {
   "cell_type": "markdown",
   "id": "aafdc52b",
   "metadata": {},
   "source": [
    "### 2. What are the three different types of Boolean operators?\n",
    "\n",
    "- AND, OR and NOT are three different types of Boolean operators"
   ]
  },
  {
   "cell_type": "markdown",
   "id": "df4c8813",
   "metadata": {},
   "source": [
    "### 3. Make a list of each Boolean operator&#39;s truth tables (i.e. every possible combination of Boolean\n",
    "values for the operator and what it evaluate ).\n",
    "\n",
    "- AND operator <br>\n",
    "A B result <br>\n",
    "0 0 0 <br>\n",
    "0 1 0 <br>\n",
    "1 0 0 <br>\n",
    "1 1 1 <br>\n",
    "\n",
    "- OR operator <br>\n",
    "A B result <br>\n",
    "0 0 0 <br>\n",
    "0 1 1 <br>\n",
    "1 0 1 <br>\n",
    "1 1 1 <br>\n",
    "\n",
    "- not operator\n",
    "A result<br>\n",
    "1 0<br>\n",
    "0 1<br>"
   ]
  },
  {
   "cell_type": "markdown",
   "id": "bbe52a78",
   "metadata": {},
   "source": [
    "### 4. What are the values of the following expressions?\n",
    "\n",
    "- (5 &gt; 4) and (3 == 5)<br>\n",
    " False ( 0 ) <br>\n",
    "-not (5 &gt; 4)<br>\n",
    " False ( 0 )<br>\n",
    "-(5 &gt; 4) or (3 == 5)<br>\n",
    " True ( 1 )<br>\n",
    "-not ((5 &gt; 4) or (3 == 5))<br>\n",
    " False ( 0 )<br>\n",
    "-(True and True) and (True == False)<br>\n",
    " False ( 0 )<br>\n",
    "-(not False) or (not True)<br>\n",
    " True ( 1 )<br>"
   ]
  },
  {
   "cell_type": "markdown",
   "id": "e0574059",
   "metadata": {},
   "source": [
    "### 5. What are the six comparison operators?\n",
    "\n",
    "- ==, !=, <, >, <=, => are the six comparison operators and they represent equalto, not equal to, lessthan, grater than, lessthan or equal to and grater than equal to operator respectively."
   ]
  },
  {
   "cell_type": "markdown",
   "id": "853c1137",
   "metadata": {},
   "source": [
    "### 6. How do you tell the difference between the equal to and assignment operators?Describe a condition and when you would use one.\n",
    "\n",
    "- equal to and assignment operators are represented as == and = respectively. Equal to operator checks weather to values are eqaul or not and gives a boolean value i.e. True or False, whereas assisgnment operator is used when we want to assigns a value to a variable."
   ]
  },
  {
   "cell_type": "markdown",
   "id": "523fefd6",
   "metadata": {},
   "source": [
    "### 7. Identify the three blocks in this code:<br>\n",
    "spam = 0<br>\n",
    "if spam == 10:<br>\n",
    "print(&#39;eggs&#39;)<br>\n",
    "if spam &gt; 5:<br>\n",
    "print(&#39;bacon&#39;)<br>\n",
    "else:<br>\n",
    "print(&#39;ham&#39;)<br>\n",
    "print(&#39;spam&#39;)<br>\n",
    "print(&#39;spam&#39;)<br>\n",
    "\n",
    "answer- \n",
    "\n",
    "spam = 0<br>\n",
    "### 1 st block\n",
    "if spam == 10:<br>\n",
    "   print(&#39;eggs&#39;)<br>\n",
    "### 2 nd block\n",
    "if spam &gt; 5:<br>\n",
    "    print(&#39;bacon&#39;)<br>\n",
    "### 3 st block\n",
    "else:<br>\n",
    "    print(&#39;ham&#39;)<br>\n",
    "    print(&#39;spam&#39;)<br>\n",
    "    print(&#39;spam&#39;)<br>"
   ]
  },
  {
   "cell_type": "markdown",
   "id": "be391b25",
   "metadata": {},
   "source": [
    "### 8. Write code that prints Hello if 1 is stored in spam, prints Howdy if 2 is stored in spam, and prints\n",
    "Greetings! if anything else is stored in spam."
   ]
  },
  {
   "cell_type": "code",
   "execution_count": 3,
   "id": "f903cc6c",
   "metadata": {},
   "outputs": [
    {
     "name": "stdout",
     "output_type": "stream",
     "text": [
      "what do you want to store in spam ? :1\n",
      "Hello\n"
     ]
    }
   ],
   "source": [
    "spam = input('what do you want to store in spam ? :')\n",
    "if spam == '1' :\n",
    "    print('Hello')\n",
    "elif spam == '2':\n",
    "    print('Howdy')\n",
    "else:\n",
    "    print('Greetings !')"
   ]
  },
  {
   "cell_type": "code",
   "execution_count": 4,
   "id": "a191b687",
   "metadata": {},
   "outputs": [
    {
     "name": "stdout",
     "output_type": "stream",
     "text": [
      "what do you want to store in spam ? :2\n",
      "Howdy\n"
     ]
    }
   ],
   "source": [
    "spam = input('what do you want to store in spam ? :')\n",
    "if spam == '1' :\n",
    "    print('Hello')\n",
    "elif spam == '2':\n",
    "    print('Howdy')\n",
    "else:\n",
    "    print('Greetings !')"
   ]
  },
  {
   "cell_type": "code",
   "execution_count": 8,
   "id": "881b6785",
   "metadata": {},
   "outputs": [
    {
     "name": "stdout",
     "output_type": "stream",
     "text": [
      "what do you want to store in spam ? :cgsgd\n",
      "Greetings !\n"
     ]
    }
   ],
   "source": [
    "spam = input('what do you want to store in spam ? :')\n",
    "if spam == '1' :\n",
    "    print('Hello')\n",
    "elif spam == '2':\n",
    "    print('Howdy')\n",
    "else:\n",
    "    print('Greetings !')"
   ]
  },
  {
   "cell_type": "code",
   "execution_count": 9,
   "id": "3b38640c",
   "metadata": {},
   "outputs": [
    {
     "name": "stdout",
     "output_type": "stream",
     "text": [
      "what do you want to store in spam ? :4\n",
      "Greetings !\n"
     ]
    }
   ],
   "source": [
    "spam = input('what do you want to store in spam ? :')\n",
    "if spam == '1' :\n",
    "    print('Hello')\n",
    "elif spam == '2':\n",
    "    print('Howdy')\n",
    "else:\n",
    "    print('Greetings !')"
   ]
  },
  {
   "cell_type": "markdown",
   "id": "213ef4fc",
   "metadata": {},
   "source": [
    "### 9.If your programme is stuck in an endless loop, what keys you’ll press?"
   ]
  },
  {
   "cell_type": "markdown",
   "id": "f417c1b6",
   "metadata": {},
   "source": [
    " we have to interrupt the program using 'cntl' + 'c'"
   ]
  },
  {
   "cell_type": "markdown",
   "id": "d182888e",
   "metadata": {},
   "source": [
    "### 10. How can you tell the difference between break and continue?"
   ]
  },
  {
   "cell_type": "markdown",
   "id": "b6660dc0",
   "metadata": {},
   "source": [
    "break command exits outof the loop and executes next command, and in continue the loop skipps the current step and the loop executes next iteration."
   ]
  },
  {
   "cell_type": "markdown",
   "id": "2c8bafff",
   "metadata": {},
   "source": [
    "### 11. In a for loop, what is the difference between range(10), range(0, 10), and range(0, 10, 1)?"
   ]
  },
  {
   "cell_type": "markdown",
   "id": "b7e1dc4d",
   "metadata": {},
   "source": [
    "resultwise there is no difference between range(10), range(0, 10), and range(0, 10, 1). in range(10) we have given only last digit\n",
    "in range(0,10) we have given both start and end digit and in range(0,10,1) we have given start and end digit along with step size. "
   ]
  },
  {
   "cell_type": "markdown",
   "id": "b1307e08",
   "metadata": {},
   "source": [
    "### 12. Write a short program that prints the numbers 1 to 10 using a for loop. Then write an equivalent program that prints the numbers 1 to 10 using a while loop."
   ]
  },
  {
   "cell_type": "code",
   "execution_count": 14,
   "id": "d774a9c0",
   "metadata": {},
   "outputs": [
    {
     "name": "stdout",
     "output_type": "stream",
     "text": [
      "1\n",
      "2\n",
      "3\n",
      "4\n",
      "5\n",
      "6\n",
      "7\n",
      "8\n",
      "9\n",
      "10\n"
     ]
    }
   ],
   "source": [
    "for x in range(1,11):\n",
    "    print(x)"
   ]
  },
  {
   "cell_type": "code",
   "execution_count": 16,
   "id": "031eb6f1",
   "metadata": {},
   "outputs": [
    {
     "name": "stdout",
     "output_type": "stream",
     "text": [
      "1\n",
      "2\n",
      "3\n",
      "4\n",
      "5\n",
      "6\n",
      "7\n",
      "8\n",
      "9\n",
      "10\n"
     ]
    }
   ],
   "source": [
    "x=1\n",
    "while(x<11):\n",
    "    print(x)\n",
    "    x+=1"
   ]
  },
  {
   "cell_type": "markdown",
   "id": "4ea1a35f",
   "metadata": {},
   "source": [
    "13. If you had a function named bacon() inside a module named spam, how would you call it after\n",
    "importing spam?"
   ]
  },
  {
   "cell_type": "code",
   "execution_count": null,
   "id": "90c6af0c",
   "metadata": {},
   "outputs": [],
   "source": [
    "spam.becon()"
   ]
  }
 ],
 "metadata": {
  "kernelspec": {
   "display_name": "Python 3 (ipykernel)",
   "language": "python",
   "name": "python3"
  },
  "language_info": {
   "codemirror_mode": {
    "name": "ipython",
    "version": 3
   },
   "file_extension": ".py",
   "mimetype": "text/x-python",
   "name": "python",
   "nbconvert_exporter": "python",
   "pygments_lexer": "ipython3",
   "version": "3.7.13"
  }
 },
 "nbformat": 4,
 "nbformat_minor": 5
}
