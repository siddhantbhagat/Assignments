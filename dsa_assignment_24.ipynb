{
 "cells": [
  {
   "cell_type": "code",
   "execution_count": 25,
   "metadata": {},
   "outputs": [
    {
     "data": {
      "text/plain": [
       "47"
      ]
     },
     "execution_count": 25,
     "metadata": {},
     "output_type": "execute_result"
    }
   ],
   "source": [
    "dic = {\"I\":1,\"V\":5,\"X\":10,\"L\":50,\"C\":100,\"D\":500,\"M\":1000}\n",
    "\n",
    "def roman_to_decimal(s):\n",
    "    sum = 0\n",
    "    for i in range(len(s)-1):\n",
    "        if dic[s[i]] >= dic[s[i+1]]:\n",
    "            sum += dic[s[i]]\n",
    "        else:\n",
    "            sum -= dic[s[i]]\n",
    "    sum += dic[s[i+1]]\n",
    "    return sum\n",
    "\n",
    "roman_to_decimal(\"XLVII\")"
   ]
  },
  {
   "cell_type": "code",
   "execution_count": 26,
   "metadata": {},
   "outputs": [
    {
     "data": {
      "text/plain": [
       "58"
      ]
     },
     "execution_count": 26,
     "metadata": {},
     "output_type": "execute_result"
    }
   ],
   "source": [
    "roman_to_decimal(\"LVIII\")"
   ]
  },
  {
   "cell_type": "code",
   "execution_count": 27,
   "metadata": {},
   "outputs": [
    {
     "data": {
      "text/plain": [
       "3"
      ]
     },
     "execution_count": 27,
     "metadata": {},
     "output_type": "execute_result"
    }
   ],
   "source": [
    "# question 2\n",
    "def length_of_Longest_Substring(s):\n",
    "    n = len(s)\n",
    "    ans = 0\n",
    "    map = {}\n",
    "    i = 0\n",
    "    for j in range(n):\n",
    "        if s[j] in map:\n",
    "            i = max(map[s[j]], i)\n",
    "        ans = max(ans, j - i + 1)\n",
    "        map[s[j]] = j + 1\n",
    "    return ans\n",
    "\n",
    "\n",
    "length_of_Longest_Substring(\"pwwkew\")"
   ]
  },
  {
   "cell_type": "code",
   "execution_count": 31,
   "metadata": {},
   "outputs": [
    {
     "data": {
      "text/plain": [
       "2"
      ]
     },
     "execution_count": 31,
     "metadata": {},
     "output_type": "execute_result"
    }
   ],
   "source": [
    "# question 3\n",
    "def majority_element(arr):\n",
    "    current_max = 0\n",
    "    new_max = 0\n",
    "    value = 0\n",
    "    for i in set(arr):\n",
    "        if arr.count(i) >= len(arr)/2:\n",
    "            current_max = arr.count(i)\n",
    "            new_max = max(current_max,new_max)\n",
    "            value = i\n",
    "    return value\n",
    "    \n",
    "majority_element([2,2,1,1,1,2,2])\n"
   ]
  },
  {
   "cell_type": "code",
   "execution_count": 39,
   "metadata": {},
   "outputs": [
    {
     "data": {
      "text/plain": [
       "[['bat'], ['nat', 'tan'], ['ate', 'eat', 'tea']]"
      ]
     },
     "execution_count": 39,
     "metadata": {},
     "output_type": "execute_result"
    }
   ],
   "source": [
    "# question 4\n",
    "def isanagram(s,t):\n",
    "    if len(s) != len(t):\n",
    "        return False\n",
    "    for i in s:\n",
    "        if i not in t:\n",
    "            return False\n",
    "    return True\n",
    "\n",
    "def group_anagram(arr):\n",
    "    lst =[]\n",
    "    while len(arr) != 1:\n",
    "        s=arr.pop()\n",
    "        lst2 =[s]\n",
    "        for t in arr:\n",
    "            if isanagram(s,t):\n",
    "                lst2.append(t)\n",
    "                arr.remove(t)              \n",
    "        lst.append(lst2)\n",
    "        \n",
    "    if len(arr) == 1:\n",
    "        lst2.append(arr[0])\n",
    "        \n",
    "    return lst\n",
    "\n",
    "\n",
    "group_anagram([\"eat\",\"tea\",\"tan\",\"ate\",\"nat\",\"bat\"])\n",
    "\n"
   ]
  },
  {
   "cell_type": "code",
   "execution_count": 33,
   "metadata": {},
   "outputs": [
    {
     "data": {
      "text/plain": [
       "True"
      ]
     },
     "execution_count": 33,
     "metadata": {},
     "output_type": "execute_result"
    }
   ],
   "source": [
    "isanagram('ate','tea')"
   ]
  },
  {
   "cell_type": "code",
   "execution_count": 35,
   "metadata": {},
   "outputs": [
    {
     "data": {
      "text/plain": [
       "[['a']]"
      ]
     },
     "execution_count": 35,
     "metadata": {},
     "output_type": "execute_result"
    }
   ],
   "source": [
    "group_anagram([\"a\"])"
   ]
  },
  {
   "cell_type": "code",
   "execution_count": 145,
   "metadata": {},
   "outputs": [],
   "source": [
    "# Question 5\n",
    "def check_ugly_number(n):  \n",
    "    if n == 1:\n",
    "        return True\n",
    "    if n%2 == 0:\n",
    "        x = n//2\n",
    "        check_ugly_number(x)\n",
    "    elif n%3 == 0:\n",
    "        check_ugly_number(n//3)\n",
    "    elif n%5 == 0:\n",
    "        check_ugly_number(n//5)\n",
    "    else:\n",
    "        return False\n",
    "    \n",
    "\n",
    "check_ugly_number(8)"
   ]
  },
  {
   "cell_type": "code",
   "execution_count": 149,
   "metadata": {},
   "outputs": [
    {
     "data": {
      "text/plain": [
       "12"
      ]
     },
     "execution_count": 149,
     "metadata": {},
     "output_type": "execute_result"
    }
   ],
   "source": [
    "def nth_ugly_number(n):\n",
    "    lst = [1]\n",
    "    i = 1\n",
    "    while len(lst) != n:\n",
    "        x=i\n",
    "        if check_ugly_number(i) == None:\n",
    "            lst.append(x)\n",
    "        i += 1\n",
    "    return lst[-1]\n",
    "\n",
    "nth_ugly_number(10)"
   ]
  },
  {
   "cell_type": "code",
   "execution_count": 153,
   "metadata": {},
   "outputs": [
    {
     "data": {
      "text/plain": [
       "['i', 'love']"
      ]
     },
     "execution_count": 153,
     "metadata": {},
     "output_type": "execute_result"
    }
   ],
   "source": [
    "# question 6\n",
    "import collections\n",
    "\n",
    "def topKFrequentWords(words, k):\n",
    "    frequency_counter = collections.Counter(words)\n",
    "    def sorting_key(word):\n",
    "        return (-frequency_counter[word], word)  \n",
    "    words = set(words)\n",
    "\n",
    "    sorted_words = sorted(words, key=sorting_key)\n",
    "\n",
    "    return (sorted_words)[:k]\n",
    "\n",
    "topKFrequentWords( words = [\"i\",\"love\",\"leetcode\",\"i\",\"love\",\"coding\"], k = 2)"
   ]
  },
  {
   "cell_type": "code",
   "execution_count": 154,
   "metadata": {},
   "outputs": [
    {
     "name": "stdout",
     "output_type": "stream",
     "text": [
      "3\n",
      "3\n",
      "-1\n",
      "5\n",
      "5\n",
      "6\n"
     ]
    }
   ],
   "source": [
    "# question 7\n",
    "def Sliding_Window_Maximum(arr,k):\n",
    "    for i in range(len(arr)-k+1):\n",
    "        print(max(arr[i:i+2]))\n",
    "\n",
    "Sliding_Window_Maximum([1,3,-1,-3,5,3,6,7],3)"
   ]
  },
  {
   "cell_type": "code",
   "execution_count": 155,
   "metadata": {},
   "outputs": [
    {
     "data": {
      "text/plain": [
       "[1, 2, 3, 4]"
      ]
     },
     "execution_count": 155,
     "metadata": {},
     "output_type": "execute_result"
    }
   ],
   "source": [
    "# question 8\n",
    "def findClosestElements(arr, k, x):\n",
    "    left = 0\n",
    "    right = len(arr) - 1\n",
    "\n",
    "    # Use binary search to find the closest element to x\n",
    "    while right - left >= k:\n",
    "        if abs(arr[left] - x) > abs(arr[right] - x):\n",
    "            left += 1\n",
    "        else:\n",
    "            right -= 1\n",
    "\n",
    "    return arr[left:right+1]\n",
    "\n",
    "findClosestElements(arr = [1,2,3,4,5], k = 4, x = 3)"
   ]
  },
  {
   "cell_type": "code",
   "execution_count": null,
   "metadata": {},
   "outputs": [],
   "source": []
  }
 ],
 "metadata": {
  "kernelspec": {
   "display_name": "Python 3",
   "language": "python",
   "name": "python3"
  },
  "language_info": {
   "codemirror_mode": {
    "name": "ipython",
    "version": 3
   },
   "file_extension": ".py",
   "mimetype": "text/x-python",
   "name": "python",
   "nbconvert_exporter": "python",
   "pygments_lexer": "ipython3",
   "version": "3.11.1"
  },
  "orig_nbformat": 4
 },
 "nbformat": 4,
 "nbformat_minor": 2
}
